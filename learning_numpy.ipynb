{
 "cells": [
  {
   "cell_type": "code",
   "execution_count": 2,
   "metadata": {},
   "outputs": [
    {
     "name": "stdout",
     "output_type": "stream",
     "text": [
      "/opt/anaconda3/bin/python\n",
      "1.26.4\n"
     ]
    }
   ],
   "source": [
    "import sys\n",
    "print(sys.executable)\n",
    "import numpy as np\n",
    "print(np.__version__)\n"
   ]
  },
  {
   "cell_type": "code",
   "execution_count": 2,
   "metadata": {},
   "outputs": [
    {
     "data": {
      "text/plain": [
       "'Challenge 1: Creating and Inspecting Arrays (Easy - Analytics-Oriented)\\nCreate a 1D NumPy array containing the numbers from 1 to 10.\\nConvert the 1D array into a 2D array with 2 rows and 5 columns.\\nPrint the shape, size, and datatype of the 2D array.'"
      ]
     },
     "execution_count": 2,
     "metadata": {},
     "output_type": "execute_result"
    }
   ],
   "source": [
    "\"\"\"Challenge 1: Creating and Inspecting Arrays (Easy - Analytics-Oriented)\n",
    "Create a 1D NumPy array containing the numbers from 1 to 10.\n",
    "Convert the 1D array into a 2D array with 2 rows and 5 columns.\n",
    "Print the shape, size, and datatype of the 2D array.\"\"\""
   ]
  },
  {
   "cell_type": "code",
   "execution_count": 6,
   "metadata": {},
   "outputs": [
    {
     "name": "stdout",
     "output_type": "stream",
     "text": [
      "[ 1  2  3  4  5  6  7  8  9 10]\n",
      "Shape: (2, 5) | Size: 10 | DType: int64\n"
     ]
    }
   ],
   "source": [
    "my_array = np.arange(1,11,1)\n",
    "print(my_array)\n",
    "\n",
    "array_2d = my_array.reshape(2,5)\n",
    "array_2d\n",
    "\n",
    "print(f'Shape: {array_2d.shape} | Size: {array_2d.size} | DType: {array_2d.dtype}')"
   ]
  },
  {
   "cell_type": "code",
   "execution_count": 16,
   "metadata": {},
   "outputs": [
    {
     "name": "stdout",
     "output_type": "stream",
     "text": [
      "option 1 : 5\n",
      "option 2: [5]\n"
     ]
    },
    {
     "data": {
      "text/plain": [
       "16.5"
      ]
     },
     "execution_count": 16,
     "metadata": {},
     "output_type": "execute_result"
    }
   ],
   "source": [
    "# Challenge 2: Array Indexing and Basic Operations (Medium)\n",
    "# From your array_2d, extract:\n",
    "# The first row.\n",
    "# The last column.\n",
    "print(f'option 1 : {array_2d[0][-1]}')\n",
    "print(f'option 2: {array_2d[:1,-1]}')\n",
    "\n",
    "# Multiply every element in array_2d by 3 and save the result to a new array.\n",
    "array_m = array_2d * 3\n",
    "array_m\n",
    "\n",
    "# Calculate the mean of the new array.\n",
    "np.mean(array_m)"
   ]
  },
  {
   "cell_type": "code",
   "execution_count": 82,
   "metadata": {},
   "outputs": [
    {
     "name": "stdout",
     "output_type": "stream",
     "text": [
      "Original array: [ 1  2  3  4  5  6  7  8  9 10 11 12 13 14 15 16 17 18 19 20]\n",
      "Even numbers with mask: [ 2  4  6  8 10 12 14 16 18 20]\n",
      "All even to -1: [ 1 -1  3 -1  5 -1  7 -1  9 -1 11 -1 13 -1 15 -1 17 -1 19 -1]\n",
      "Count -1 values: 10\n"
     ]
    }
   ],
   "source": [
    "# Challenge 3: Filtering and Masking (Medium-Hard)\n",
    "# Create a new 1D NumPy array with the numbers from 1 to 20.\n",
    "arr = np.arange(1,21)\n",
    "print(f'Original array: {arr}')\n",
    "\n",
    "# Extract only the even numbers from the array using a boolean mask.\n",
    "even_mask = arr % 2 == 0\n",
    "result = arr[even_mask]\n",
    "print(f'Even numbers with mask: {result}')\n",
    "\n",
    "# Replace all even numbers with -1.\n",
    "minus = arr.copy()\n",
    "minus[even_mask]=-1\n",
    "print(f'All even to -1: {minus}')\n",
    "\n",
    "# Count how many elements are equal to -1 in the final array.\n",
    "print(f'Count -1 values: {np.count_nonzero(minus == -1)}')"
   ]
  },
  {
   "cell_type": "code",
   "execution_count": 98,
   "metadata": {},
   "outputs": [
    {
     "name": "stdout",
     "output_type": "stream",
     "text": [
      "[1 2 3 4 5]\n",
      "[10 10 10 10 10]\n"
     ]
    },
    {
     "data": {
      "text/plain": [
       "array([ 22,  48,  78, 112, 150])"
      ]
     },
     "execution_count": 98,
     "metadata": {},
     "output_type": "execute_result"
    }
   ],
   "source": [
    "# Challenge 4: Broadcasting (Analytics-Oriented)\n",
    "# Create a 1D array of numbers from 1 to 5.\n",
    "yay = np.arange(1,6)\n",
    "print(yay)\n",
    "\n",
    "# Create another 1D array with the same shape but filled with the value 10.\n",
    "#wow = yay.copy()\n",
    "wow = yay[:].copy()\n",
    "wow[:] = 10\n",
    "print(wow)\n",
    "\n",
    "# Add these two arrays together using broadcasting.\n",
    "tot = wow + yay\n",
    "tot\n",
    "\n",
    "# Multiply the resulting array element-wise by an array of numbers [2, 4, 6, 8, 10].\n",
    "key = np.arange(2,11,2)\n",
    "foo = tot * key\n",
    "foo\n"
   ]
  },
  {
   "cell_type": "code",
   "execution_count": 149,
   "metadata": {},
   "outputs": [
    {
     "name": "stdout",
     "output_type": "stream",
     "text": [
      "Starting array: \n",
      "[[48 42 25 14]\n",
      " [ 3 12 41  5]\n",
      " [12  4 12 27]]\n",
      "\n",
      "\n",
      "Print the sum of rows: \n",
      "[129  61  55]\n",
      "\n",
      "\n",
      "Max per col: \n",
      "[48 42 41 27]\n",
      "\n",
      "\n",
      "Find the index of the smalled item: \n",
      "(array([1]), array([0]))\n",
      "\n",
      "\n",
      "Replace odd numbers with -1: \n",
      "[[48 42 -1 14]\n",
      " [-1 12 -1 -1]\n",
      " [12  4 12 -1]]\n",
      "\n",
      "\n"
     ]
    }
   ],
   "source": [
    "# Challenge 5: Aggregations with Random Data (Medium-Hard)\n",
    "# Create a 2D array with shape (3, 4) filled with random integers between 1 and 50.\n",
    "randy = np.random.randint(low= 1, high = 50, size=(3,4))\n",
    "print(f'Starting array: \\n{randy}\\n\\n')\n",
    "\n",
    "# Find the following:\n",
    "# The sum of each row.\n",
    "print(f'Print the sum of rows: \\n{np.sum(randy, axis=1)}\\n\\n')\n",
    "\n",
    "# The maximum value in each column.\n",
    "print(f'Max per col: \\n{np.max(randy, axis=0)}\\n\\n')\n",
    "\n",
    "# The index of the smallest element in the entire array.\n",
    "print(f'Find the index of the smalled item: \\n{np.where(randy==randy.min())}\\n\\n')\n",
    "\n",
    "# Replace all odd numbers in the array with -1.\n",
    "oddy = randy % 2 != 0\n",
    "minus_one = randy.copy()\n",
    "minus_one[oddy] = -1\n",
    "print(f'Replace odd numbers with -1: \\n{minus_one}\\n\\n')\n",
    "\n"
   ]
  },
  {
   "cell_type": "code",
   "execution_count": 42,
   "metadata": {},
   "outputs": [],
   "source": [
    "points = np.arange(-2, 3, 0.5)\n",
    "xs, ys = np.meshgrid(points, points)"
   ]
  },
  {
   "cell_type": "code",
   "execution_count": 43,
   "metadata": {},
   "outputs": [
    {
     "name": "stdout",
     "output_type": "stream",
     "text": [
      "The Points array:\n",
      "The starting array\n",
      "[-2.  -1.5 -1.  -0.5  0.   0.5  1.   1.5  2.   2.5]\n",
      "\n",
      "\n",
      "The xs array: \n",
      "representing all points on the X coordinate axis\n",
      "[[-2.  -1.5 -1.  -0.5  0.   0.5  1.   1.5  2.   2.5]\n",
      " [-2.  -1.5 -1.  -0.5  0.   0.5  1.   1.5  2.   2.5]\n",
      " [-2.  -1.5 -1.  -0.5  0.   0.5  1.   1.5  2.   2.5]\n",
      " [-2.  -1.5 -1.  -0.5  0.   0.5  1.   1.5  2.   2.5]\n",
      " [-2.  -1.5 -1.  -0.5  0.   0.5  1.   1.5  2.   2.5]\n",
      " [-2.  -1.5 -1.  -0.5  0.   0.5  1.   1.5  2.   2.5]\n",
      " [-2.  -1.5 -1.  -0.5  0.   0.5  1.   1.5  2.   2.5]\n",
      " [-2.  -1.5 -1.  -0.5  0.   0.5  1.   1.5  2.   2.5]\n",
      " [-2.  -1.5 -1.  -0.5  0.   0.5  1.   1.5  2.   2.5]\n",
      " [-2.  -1.5 -1.  -0.5  0.   0.5  1.   1.5  2.   2.5]]\n",
      "\n",
      "\n",
      "The ys array: \n",
      "representing all points on the Y coordinate axis\n",
      "[[-2.  -2.  -2.  -2.  -2.  -2.  -2.  -2.  -2.  -2. ]\n",
      " [-1.5 -1.5 -1.5 -1.5 -1.5 -1.5 -1.5 -1.5 -1.5 -1.5]\n",
      " [-1.  -1.  -1.  -1.  -1.  -1.  -1.  -1.  -1.  -1. ]\n",
      " [-0.5 -0.5 -0.5 -0.5 -0.5 -0.5 -0.5 -0.5 -0.5 -0.5]\n",
      " [ 0.   0.   0.   0.   0.   0.   0.   0.   0.   0. ]\n",
      " [ 0.5  0.5  0.5  0.5  0.5  0.5  0.5  0.5  0.5  0.5]\n",
      " [ 1.   1.   1.   1.   1.   1.   1.   1.   1.   1. ]\n",
      " [ 1.5  1.5  1.5  1.5  1.5  1.5  1.5  1.5  1.5  1.5]\n",
      " [ 2.   2.   2.   2.   2.   2.   2.   2.   2.   2. ]\n",
      " [ 2.5  2.5  2.5  2.5  2.5  2.5  2.5  2.5  2.5  2.5]]\n",
      "\n",
      "\n"
     ]
    }
   ],
   "source": [
    "print(f'The Points array:\\nThe starting array\\n{points}\\n\\n')\n",
    "\n",
    "print(f'The xs array: \\nrepresenting all points on the X coordinate axis\\n{xs}\\n\\n')\n",
    "\n",
    "print(f'The ys array: \\nrepresenting all points on the Y coordinate axis\\n{ys}\\n\\n')"
   ]
  },
  {
   "cell_type": "code",
   "execution_count": 44,
   "metadata": {},
   "outputs": [
    {
     "data": {
      "text/plain": [
       "<matplotlib.image.AxesImage at 0x120bbbf50>"
      ]
     },
     "execution_count": 44,
     "metadata": {},
     "output_type": "execute_result"
    },
    {
     "data": {
      "image/png": "[encoded data removed]",
      "text/plain": [
       "<Figure size 640x480 with 1 Axes>"
      ]
     },
     "metadata": {},
     "output_type": "display_data"
    }
   ],
   "source": [
    "plt.imshow(xs + ys, extent=[-2,2,-2,2])"
   ]
  },
  {
   "cell_type": "code",
   "execution_count": 45,
   "metadata": {},
   "outputs": [
    {
     "name": "stdout",
     "output_type": "stream",
     "text": [
      "The Z array:\n",
      "representing the square root of x^2 + y^2 of each point\n",
      "[[2.82842712 2.5        2.23606798 2.06155281 2.         2.06155281\n",
      "  2.23606798 2.5        2.82842712 3.20156212]\n",
      " [2.5        2.12132034 1.80277564 1.58113883 1.5        1.58113883\n",
      "  1.80277564 2.12132034 2.5        2.91547595]\n",
      " [2.23606798 1.80277564 1.41421356 1.11803399 1.         1.11803399\n",
      "  1.41421356 1.80277564 2.23606798 2.6925824 ]\n",
      " [2.06155281 1.58113883 1.11803399 0.70710678 0.5        0.70710678\n",
      "  1.11803399 1.58113883 2.06155281 2.54950976]\n",
      " [2.         1.5        1.         0.5        0.         0.5\n",
      "  1.         1.5        2.         2.5       ]\n",
      " [2.06155281 1.58113883 1.11803399 0.70710678 0.5        0.70710678\n",
      "  1.11803399 1.58113883 2.06155281 2.54950976]\n",
      " [2.23606798 1.80277564 1.41421356 1.11803399 1.         1.11803399\n",
      "  1.41421356 1.80277564 2.23606798 2.6925824 ]\n",
      " [2.5        2.12132034 1.80277564 1.58113883 1.5        1.58113883\n",
      "  1.80277564 2.12132034 2.5        2.91547595]\n",
      " [2.82842712 2.5        2.23606798 2.06155281 2.         2.06155281\n",
      "  2.23606798 2.5        2.82842712 3.20156212]\n",
      " [3.20156212 2.91547595 2.6925824  2.54950976 2.5        2.54950976\n",
      "  2.6925824  2.91547595 3.20156212 3.53553391]]\n",
      "\n"
     ]
    }
   ],
   "source": [
    "z = np.sqrt(xs ** 2 + ys ** 2)\n",
    "print(f'The Z array:\\nrepresenting the square root of x^2 + y^2 of each point\\n{z}\\n')"
   ]
  },
  {
   "cell_type": "code",
   "execution_count": 46,
   "metadata": {},
   "outputs": [
    {
     "name": "stderr",
     "output_type": "stream",
     "text": [
      "<>:5: SyntaxWarning: invalid escape sequence '\\s'\n",
      "<>:5: SyntaxWarning: invalid escape sequence '\\s'\n",
      "/var/folders/m_/cb77kn2j2d1bk7y3t3hlq4b80000gn/T/ipykernel_3410/2527732784.py:5: SyntaxWarning: invalid escape sequence '\\s'\n",
      "  plt.title('Image plot of $\\sqrt{x^2 + y^2}$ for a grid of values')\n"
     ]
    },
    {
     "data": {
      "text/plain": [
       "Text(0.5, 1.0, 'Image plot of $\\\\sqrt{x^2 + y^2}$ for a grid of values')"
      ]
     },
     "execution_count": 46,
     "metadata": {},
     "output_type": "execute_result"
    },
    {
     "data": {
      "image/png": "[encoded data removed]",
      "text/plain": [
       "<Figure size 640x480 with 2 Axes>"
      ]
     },
     "metadata": {},
     "output_type": "display_data"
    }
   ],
   "source": [
    "import matplotlib.pyplot as plt\n",
    "\n",
    "plt.imshow(z, extent = [-10, 10, -10, 10])\n",
    "plt.colorbar()\n",
    "plt.title('Image plot of $\\sqrt{x^2 + y^2}$ for a grid of values')\n"
   ]
  },
  {
   "cell_type": "code",
   "execution_count": 41,
   "metadata": {},
   "outputs": [],
   "source": [
    "plt.close('all')"
   ]
  },
  {
   "cell_type": "code",
   "execution_count": 1,
   "metadata": {},
   "outputs": [],
   "source": [
    "import numpy as np"
   ]
  },
  {
   "cell_type": "code",
   "execution_count": null,
   "metadata": {},
   "outputs": [],
   "source": [
    "# Challenge 6: Combining Arrays (Medium-Hard)\n",
    "# Create two 2D arrays:\n",
    "# array_a: Shape (2, 3) with random integers between 1 and 10.\n",
    "# array_b: Shape (2, 3) with random integers between 10 and 20.\n",
    "array_a = np.random.randint(1, 11, (2,3))\n",
    "array_b = np.random.randint(10, 21, (2,3))\n",
    "\n",
    "# Stack these arrays:\n",
    "# Vertically (row-wise).\n",
    "stack_rows = np.stack((array_a, array_b), axis=0)\n",
    "\n",
    "# Horizontally (column-wise).\n",
    "stack_cols = np.stack((array_a, array_b), axis=1)\n",
    "\n",
    "# Create a new array by element-wise multiplying array_a and array_b.\n",
    "multiplied = array_a * array_b\n",
    "multiplied\n",
    "\n",
    "# Find the standard deviation of the resulting array.\n",
    "np.std(multiplied)"
   ]
  },
  {
   "cell_type": "code",
   "execution_count": null,
   "metadata": {},
   "outputs": [
    {
     "name": "stdout",
     "output_type": "stream",
     "text": [
      "create a 4x4 Matrix:\n",
      "[[ 1  2  3  4]\n",
      " [ 5  6  7  8]\n",
      " [ 9 10 11 12]\n",
      " [13 14 15 16]]\n",
      "\n",
      "\n",
      "Second and Third rows:\n",
      "[[ 5  6  7  8]\n",
      " [ 9 10 11 12]]\n",
      "\n",
      "\n",
      "Two last columns:\n",
      "[[ 3  4]\n",
      " [ 7  8]\n",
      " [11 12]\n",
      " [15 16]]\n",
      "\n",
      "\n",
      "Mask diagonal elements wih zeroes:\n",
      "[[ 0  2  3  4]\n",
      " [ 5  0  7  8]\n",
      " [ 9 10  0 12]\n",
      " [13 14 15  0]]\n",
      "\n",
      "\n",
      "Replace to -1 all elements >10 using a mask:\n",
      "[[ 1  2  3  4]\n",
      " [ 5  6  7  8]\n",
      " [ 9 10 -1 -1]\n",
      " [-1 -1 -1 -1]]\n",
      "\n"
     ]
    }
   ],
   "source": [
    "# Challenge 7: Advanced Indexing (Hard)\n",
    "# Create a 4x4 matrix with integers ranging from 1 to 16.\n",
    "matrix4 = np.arange(1,17).reshape(4,4)\n",
    "print(f'create a 4x4 Matrix:\\n{matrix4}\\n\\n')\n",
    "\n",
    "# Extract:\n",
    "# The submatrix containing the second and third rows.\n",
    "print(f'Second and Third rows:\\n{matrix4[1:3]}\\n\\n')\n",
    "\n",
    "# All elements in the last two columns.\n",
    "print(f'Two last columns:\\n{matrix4[:,-2:]}\\n\\n')\n",
    "\n",
    "# Replace the diagonal elements of the matrix with 0.\n",
    "diago = matrix4.copy()\n",
    "maskidia = diago == np.diagonal(diago)\n",
    "diago[maskidia] = 0\n",
    "print(f'Mask diagonal elements wih zeroes:\\n{diago}\\n\\n')\n",
    "\n",
    "# or also \n",
    "np.fill_diagonal(diago, 0)\n",
    "\n",
    "\n",
    "# Create a boolean mask to identify elements greater than 10, and set these elements to -1.\n",
    "mask = matrix4 > 10\n",
    "masked = matrix4.copy()\n",
    "masked[mask] = -1\n",
    "print(f'Replace to -1 all elements >10 using a mask:\\n{masked}\\n')"
   ]
  },
  {
   "cell_type": "code",
   "execution_count": 56,
   "metadata": {},
   "outputs": [],
   "source": [
    "# Challenge 8: Sorting and Finding Unique Values (Hard)\n",
    "# Create a 1D array with 15 random integers between 1 and 20.\n",
    "harry = np.random.randint(1,21,15)\n",
    "# Sort the array in ascending order.\n",
    "np.sort(harry)\n",
    "# Find all unique values in the array.\n",
    "np.unique(harry)\n",
    "# Count the occurrences of each unique value.\n",
    "np.unique(harry, return_counts=True)"
   ]
  },
  {
   "cell_type": "code",
   "execution_count": 62,
   "metadata": {},
   "outputs": [
    {
     "data": {
      "text/plain": [
       "(array([ 2,  5,  6,  7,  8, 10, 11, 13, 16, 17, 20]),\n",
       " array([1, 1, 3, 1, 2, 1, 1, 2, 1, 1, 1]))"
      ]
     },
     "execution_count": 62,
     "metadata": {},
     "output_type": "execute_result"
    }
   ],
   "source": []
  },
  {
   "cell_type": "code",
   "execution_count": 64,
   "metadata": {},
   "outputs": [
    {
     "data": {
      "text/plain": [
       "array([[ 54,  61,  67,  58],\n",
       "       [ 98,  55,  87,  68],\n",
       "       [ 64,  71, 100,  90],\n",
       "       [ 87,  60,  59,  58]])"
      ]
     },
     "execution_count": 64,
     "metadata": {},
     "output_type": "execute_result"
    }
   ],
   "source": [
    "# Challenge 9: Reshaping and Analysis (Hard)\n",
    "# Create a 1D array of 16 random integers between 50 and 100.\n",
    "barry = np.random.randint(50,101,16)\n",
    "# Reshape it into a 4x4 matrix.\n",
    "barry = barry.reshape(4,4)\n",
    "# Calculate:\n",
    "# The mean of the entire matrix.\n",
    "np.mean(barry)\n",
    "# The sum of all elements in each column.\n",
    "barry.sum(axis=0)\n",
    "# The standard deviation of each row.\n",
    "barry.std(axis=1)"
   ]
  },
  {
   "cell_type": "code",
   "execution_count": 2,
   "metadata": {},
   "outputs": [
    {
     "data": {
      "text/plain": [
       "array([[ 3, 29, 11, 31, 43],\n",
       "       [ 4, 12, 28, 28, 13],\n",
       "       [ 2, 24, 34, 36, 36],\n",
       "       [33,  9, 38, 34, 15],\n",
       "       [21, 12, 23, 26, 23]])"
      ]
     },
     "execution_count": 2,
     "metadata": {},
     "output_type": "execute_result"
    }
   ],
   "source": [
    "# Challenge 10: Aggregation with Conditions (Hard)\n",
    "# Create a 5x5 matrix with random integers between 1 and 50.\n",
    "mark = np.random.randint(1, 50, 25).reshape(5, 5)\n",
    "print(f\"Matrix:\\n{mark}\\n\")\n",
    "\n",
    "# The mean of all elements greater than 25.\n",
    "mean_above_25 = np.mean(mark[mark > 25])\n",
    "print(f\"Mean of elements > 25: {mean_above_25}\")\n",
    "\n",
    "# The number of elements divisible by 5.\n",
    "count_divisible_by_5 = np.count_nonzero(mark % 5 == 0)\n",
    "print(f\"Number of elements divisible by 5: {count_divisible_by_5}\")\n",
    "\n",
    "# Replace all numbers less than 15 with 0.\n",
    "mark_with_zeros = mark.copy()\n",
    "mark_with_zeros[mark_with_zeros < 15] = 0\n",
    "print(f\"Matrix with <15 replaced by 0:\\n{mark_with_zeros}\")"
   ]
  },
  {
   "cell_type": "code",
   "execution_count": 95,
   "metadata": {},
   "outputs": [
    {
     "data": {
      "text/plain": [
       "<matplotlib.image.AxesImage at 0x147887620>"
      ]
     },
     "execution_count": 95,
     "metadata": {},
     "output_type": "execute_result"
    },
    {
     "data": {
      "image/png": "[encoded data removed]",
      "text/plain": [
       "<Figure size 1600x1000 with 1 Axes>"
      ]
     },
     "metadata": {},
     "output_type": "display_data"
    }
   ],
   "source": [
    "punkts = np.arange(-3,7,1)\n",
    "xs, ys = np.meshgrid(punkts, punkts)\n",
    "\n",
    "#z = np.sqrt(xs ** 2 + ys ** 2)\n",
    "\n",
    "z = np.random.randint(0,50,160)\n",
    "z = z.reshape(10,16)\n",
    "z = np.sort(z)\n",
    "\n",
    "plt.figure(figsize=(16,10))\n",
    "plt.imshow(z, aspect='auto')\n",
    "#plt.colorbar()"
   ]
  },
  {
   "cell_type": "code",
   "execution_count": null,
   "metadata": {},
   "outputs": [],
   "source": []
  }
 ],
 "metadata": {
  "kernelspec": {
   "display_name": "base",
   "language": "python",
   "name": "python3"
  },
  "language_info": {
   "codemirror_mode": {
    "name": "ipython",
    "version": 3
   },
   "file_extension": ".py",
   "mimetype": "text/x-python",
   "name": "python",
   "nbconvert_exporter": "python",
   "pygments_lexer": "ipython3",
   "version": "3.12.7"
  }
 },
 "nbformat": 4,
 "nbformat_minor": 2
}
