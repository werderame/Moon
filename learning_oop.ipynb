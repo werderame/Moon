{
 "cells": [
  {
   "cell_type": "markdown",
   "metadata": {},
   "source": [
    "Exercise 1: Creating a Simple Class\n",
    "\n",
    "Create a class Person with:\n",
    "\t•\tAttributes: name and age\n",
    "\t•\tA method greet() that returns \"Hello, my name is {name} and I am {age} years old.\"\n",
    "\t•\tInstantiate an object of the class and call the greet() method."
   ]
  },
  {
   "cell_type": "code",
   "execution_count": 5,
   "metadata": {},
   "outputs": [
    {
     "data": {
      "text/plain": [
       "'Hello, my name is John and I am 32 years old'"
      ]
     },
     "execution_count": 5,
     "metadata": {},
     "output_type": "execute_result"
    }
   ],
   "source": [
    "class Person:\n",
    "    def __init__(self, name, age):\n",
    "        self.name = name\n",
    "        self.age = age\n",
    "\n",
    "    def greet(self):\n",
    "        return f'Hello, my name is {self.name} and I am {self.age} years old'\n",
    "john = Person('John', 32)\n",
    "john.greet()"
   ]
  },
  {
   "cell_type": "markdown",
   "metadata": {},
   "source": [
    "Exercise 2: Class vs. Instance Attributes\n",
    "\n",
    "Create a class Vehicle with:\n",
    "\t•\tA class attribute wheels set to 4 (shared by all instances).\n",
    "\t•\tAn instance attribute brand (specific to each instance).\n",
    "\t•\tA method describe() that returns a string like:\n",
    "“This is a {brand} vehicle with {wheels} wheels.”\n",
    "\t•\tCreate two instances (car1 and car2) with different brands and call describe() on each.\n"
   ]
  },
  {
   "cell_type": "code",
   "execution_count": 8,
   "metadata": {},
   "outputs": [
    {
     "name": "stdout",
     "output_type": "stream",
     "text": [
      "This is a Ford vehicle with 4 wheels\n",
      "This is a Ferrari vehicle with 4 wheels\n"
     ]
    }
   ],
   "source": [
    "class Vehicle:\n",
    "    wheels = 4 # a class attribute\n",
    "    def __init__(self, brand): # an instance attribute\n",
    "        self.brand = brand\n",
    "\n",
    "    def describe(self):\n",
    "        return f'This is a {self.brand} vehicle with {Vehicle.wheels} wheels'\n",
    "\n",
    "car_1 = Vehicle('Ford')\n",
    "car_2 = Vehicle('Ferrari')\n",
    "desc_1 = car_1.describe()\n",
    "desc_2 = car_2.describe()\n",
    "print(desc_1)\n",
    "print(desc_2)\n"
   ]
  },
  {
   "cell_type": "markdown",
   "metadata": {},
   "source": [
    "Exercise 3: Instance Methods vs. Class Methods\n",
    "\n",
    "Modify the Vehicle class to include:\n",
    "\t1.\tAn instance method describe() that returns \"This is a {brand} vehicle with {wheels} wheels.\"\n",
    "\t2.\tA class method set_wheels(cls, num_wheels), which updates the class attribute wheels for all instances.\n",
    "\t3.\tTest by:\n",
    "\t•\tCreating two instances (car1 and car2) and calling describe().\n",
    "\t•\tChanging wheels using set_wheels(6).\n",
    "\t•\tCalling describe() again to see if the update reflects."
   ]
  },
  {
   "cell_type": "code",
   "execution_count": 13,
   "metadata": {},
   "outputs": [
    {
     "name": "stdout",
     "output_type": "stream",
     "text": [
      "This is a Ford vehicle with 4 wheels\n",
      "This is a Ferrari vehicle with 4 wheels\n",
      "This is a Ford vehicle with 6 wheels\n",
      "This is a Ferrari vehicle with 6 wheels\n"
     ]
    }
   ],
   "source": [
    "class Vehicle:\n",
    "    wheels = 4 # a class attribute\n",
    "    def __init__(self, brand): # an instance attribute\n",
    "        self.brand = brand\n",
    "\n",
    "    def describe(self):\n",
    "        return f'This is a {self.brand} vehicle with {Vehicle.wheels} wheels'\n",
    "    \n",
    "    @classmethod\n",
    "    def set_wheels(cls, num_wheels):\n",
    "        cls.wheels = num_wheels\n",
    "\n",
    "car_1 = Vehicle('Ford')\n",
    "car_2 = Vehicle('Ferrari')\n",
    "desc_1 = car_1.describe()\n",
    "desc_2 = car_2.describe()\n",
    "print(desc_1)\n",
    "print(desc_2)\n",
    "\n",
    "Vehicle.set_wheels(6)\n",
    "desc_3 = car_1.describe()\n",
    "print(desc_3)\n",
    "desc_4 = car_2.describe()\n",
    "print(desc_4)"
   ]
  },
  {
   "cell_type": "markdown",
   "metadata": {},
   "source": [
    "Next: Static Methods vs. Class Methods (Exercise 4)\n",
    "\n",
    "A static method is similar to a class method, but it doesn’t take cls as a parameter and doesn’t modify class attributes. It’s used when a method doesn’t need to access or modify class or instance data.\n",
    "\n",
    "Your Task:\n",
    "\n",
    "Modify the Vehicle class:\n",
    "\t1.\tAdd a static method general_info(), which returns \"Vehicles have wheels and are used for transportation.\"\n",
    "\t2.\tCall Vehicle.general_info() and print its result."
   ]
  },
  {
   "cell_type": "code",
   "execution_count": 14,
   "metadata": {},
   "outputs": [
    {
     "data": {
      "text/plain": [
       "'Vehicles have wheels and are used for transporatation'"
      ]
     },
     "execution_count": 14,
     "metadata": {},
     "output_type": "execute_result"
    }
   ],
   "source": [
    "class Vehicle:\n",
    "    wheels = 4 # a class attribute\n",
    "    def __init__(self, brand): # an instance attribute\n",
    "        self.brand = brand\n",
    "\n",
    "    def describe(self):\n",
    "        return f'This is a {self.brand} vehicle with {Vehicle.wheels} wheels'\n",
    "    \n",
    "    @classmethod\n",
    "    def set_wheels(cls, num_wheels):\n",
    "        cls.wheels = num_wheels\n",
    "    \n",
    "    @staticmethod\n",
    "    def general_info():\n",
    "        return 'Vehicles have wheels and are used for transportation'\n",
    "\n",
    "Vehicle.general_info()"
   ]
  },
  {
   "cell_type": "markdown",
   "metadata": {},
   "source": [
    "Exercise 5: Implementing Inheritance\n",
    "\n",
    "Create a subclass Car that:\n",
    "\t1.\tInherits from Vehicle.\n",
    "\t2.\tAdds a new attribute doors (number of doors).\n",
    "\t3.\tOverrides the describe() method to include the number of doors in the output.\n",
    "\t4.\tInstantiate a Car object and call describe()."
   ]
  },
  {
   "cell_type": "code",
   "execution_count": 20,
   "metadata": {},
   "outputs": [
    {
     "name": "stdout",
     "output_type": "stream",
     "text": [
      "The car Toyota has 5 doors.\n"
     ]
    }
   ],
   "source": [
    "class Car(Vehicle):\n",
    "\n",
    "    def __init__(self, brand, num_doors):\n",
    "        super().__init__(brand) # calls the parent class constructor\n",
    "        self.num_doors = num_doors # new attribute\n",
    "\n",
    "    def describe(self):\n",
    "        return f'The car {self.brand} has {self.num_doors} doors.' \n",
    "\n",
    "car_3 = Car('Toyota', 5)\n",
    "print(car_3.describe())"
   ]
  },
  {
   "cell_type": "markdown",
   "metadata": {},
   "source": [
    "# challenge to build a class CARS and one  ORDERS then add a car and an order and vist the LIST of orders"
   ]
  },
  {
   "cell_type": "markdown",
   "metadata": {},
   "source": [
    "Step 1: Create a Car Class\n",
    "\n",
    "Define a class Car with:\n",
    "\t•\tAttributes: brand, model, price\n",
    "\t•\tA __str__() method so we can print the car details easily"
   ]
  },
  {
   "cell_type": "code",
   "execution_count": 23,
   "metadata": {},
   "outputs": [
    {
     "name": "stdout",
     "output_type": "stream",
     "text": [
      "Toyota Corolla, cost: 35000€\n"
     ]
    }
   ],
   "source": [
    "class Car:\n",
    "    def __init__(self, brand, model, price):\n",
    "        self.brand = brand\n",
    "        self.model = model\n",
    "        self.price = price\n",
    "        \n",
    "    def __str__(self): \n",
    "        return f'{self.brand} {self.model}, cost: {self.price}€'\n",
    "\n",
    "car_1 = Car('Toyota', 'Corolla', 35000)\n",
    "print(car_1)"
   ]
  },
  {
   "cell_type": "markdown",
   "metadata": {},
   "source": [
    "Step 2: Create an Order Class\n",
    "\n",
    "Your next task is to:\n",
    "1️⃣ Define a new class Order\n",
    "2️⃣ Store a car inside it\n",
    "3️⃣ Store a customer name\n",
    "4️⃣ Define a __str__() method so it prints something like:\n",
    "\n",
    "Order for Alice: Toyota Corolla, cost: 35000€\n",
    "\n",
    "5️⃣ Instantiate an Order and print it"
   ]
  },
  {
   "cell_type": "code",
   "execution_count": 32,
   "metadata": {},
   "outputs": [
    {
     "name": "stdout",
     "output_type": "stream",
     "text": [
      "Order for Alice: Toyota Corolla, cost: 35000€\n",
      "[]\n"
     ]
    }
   ],
   "source": [
    "class Order:\n",
    "    order_list=[]\n",
    "\n",
    "    def __init__(self, customer, vehicle):\n",
    "        self.customer = customer\n",
    "        self.vehicle = vehicle\n",
    "        \n",
    "    def __str__(self):\n",
    "        return f'Order for {self.customer}: {self.vehicle}'\n",
    "    \n",
    "    @classmethod\n",
    "    def print_orders(cls):\n",
    "        for order in ord\n",
    "\n",
    "order_a = Order('Alice', car_1)\n",
    "print(order_a)"
   ]
  },
  {
   "cell_type": "markdown",
   "metadata": {},
   "source": [
    "Step 3: Track Multiple Orders\n",
    "\n",
    "Now, let’s store multiple orders and check if they are saved properly.\n",
    "\n",
    "Your Task:\n",
    "\n",
    "1️⃣ Create a list called order_list to store all orders.\n",
    "2️⃣ Create 2-3 more cars.\n",
    "3️⃣ Create 2-3 more orders and add them to order_list.\n",
    "4️⃣ Print all orders from order_list."
   ]
  },
  {
   "cell_type": "code",
   "execution_count": 30,
   "metadata": {},
   "outputs": [
    {
     "name": "stdout",
     "output_type": "stream",
     "text": [
      "[]\n"
     ]
    }
   ],
   "source": [
    "\n",
    "car_2 = ('Ford', 'Focus', 24000)\n",
    "car_3 = ('Fiat', 'Panda', 12000)\n",
    "order_b = Order('Bobbi', car_2)\n",
    "order_c = Order('Clarence', car_3)\n",
    "print(order_list)"
   ]
  },
  {
   "cell_type": "markdown",
   "metadata": {},
   "source": [
    "🚀 Let’s Break It Down With an Easier Challenge\n",
    "\n",
    "Your Task: Create a Store That Tracks All Products\n",
    "\t1.\tDefine a class Store with:\n",
    "\t•\tA class attribute products = [] (a shared list).\n",
    "\t•\tA method add_product(product) to store products inside products.\n",
    "\t•\tA method list_products() to print all stored products.\n",
    "\n",
    "Try it! Start simple—no need for @classmethod yet. 😊"
   ]
  },
  {
   "cell_type": "code",
   "execution_count": 11,
   "metadata": {},
   "outputs": [
    {
     "name": "stdout",
     "output_type": "stream",
     "text": [
      "['pasta', 'bread', 'milk']\n"
     ]
    }
   ],
   "source": [
    "class Store:\n",
    "    products = [] # this list is an attribute, and since it is not inside an instance attribute (self) it is a class attribute\n",
    "    \n",
    "    def __init__(self, product_name):\n",
    "        self.product_name = product_name\n",
    "    \n",
    "    def add_product(self):\n",
    "        Store.products.append(self.product_name)\n",
    "\n",
    "    def list_products(self):\n",
    "        return print(Store.products)\n",
    "\n",
    "store_1 = Store('pasta')\n",
    "store_1.add_product()\n",
    "store_2 = Store('bread')\n",
    "store_2.add_product()\n",
    "store_3 = Store('milk')\n",
    "store_3.add_product()\n",
    "store_2.list_products()\n"
   ]
  },
  {
   "cell_type": "markdown",
   "metadata": {},
   "source": [
    "🚀 Final Step: Convert list_products() to a @classmethod\n",
    "\n",
    "Right now, list_products() needs an instance to be called. But we should be able to call it directly from the class!\n",
    "\n",
    "Your Next Task:\n",
    "\n",
    "1️⃣ Turn list_products() into a class method\n",
    "2️⃣ Replace self with cls\n",
    "3️⃣ Call it as Store.list_products() instead of store_1.list_products()\n",
    "\n",
    "🔹 Hint: Add @classmethod before list_products(self) and change self to cls.\n"
   ]
  },
  {
   "cell_type": "code",
   "execution_count": 14,
   "metadata": {},
   "outputs": [
    {
     "name": "stdout",
     "output_type": "stream",
     "text": [
      "['pasta', 'bread', 'milk']\n"
     ]
    }
   ],
   "source": [
    "class Store:\n",
    "    products = [] # this list is an attribute, and since it is not inside an instance attribute (self) it is a class attribute\n",
    "    \n",
    "    def __init__(self, product_name):\n",
    "        self.product_name = product_name\n",
    "    \n",
    "    def add_product(self):\n",
    "        Store.products.append(self.product_name)\n",
    "\n",
    "    @classmethod\n",
    "    def list_products(cls):\n",
    "        return print(cls.products)\n",
    "\n",
    "store_1 = Store('pasta')\n",
    "store_1.add_product()\n",
    "store_2 = Store('bread')\n",
    "store_2.add_product()\n",
    "store_3 = Store('milk')\n",
    "store_3.add_product()\n",
    "\n",
    "Store.list_products()\n"
   ]
  },
  {
   "cell_type": "code",
   "execution_count": null,
   "metadata": {},
   "outputs": [],
   "source": []
  }
 ],
 "metadata": {
  "kernelspec": {
   "display_name": "base",
   "language": "python",
   "name": "python3"
  },
  "language_info": {
   "codemirror_mode": {
    "name": "ipython",
    "version": 3
   },
   "file_extension": ".py",
   "mimetype": "text/x-python",
   "name": "python",
   "nbconvert_exporter": "python",
   "pygments_lexer": "ipython3",
   "version": "3.12.7"
  }
 },
 "nbformat": 4,
 "nbformat_minor": 2
}
