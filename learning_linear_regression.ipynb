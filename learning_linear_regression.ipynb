{
 "cells": [
  {
   "cell_type": "code",
   "execution_count": 4,
   "id": "a79035dd",
   "metadata": {},
   "outputs": [],
   "source": [
    "import pandas as pd\n",
    "import numpy as np\n",
    "import sklearn\n",
    "from sklearn import linear_model\n",
    "from sklearn.utils import shuffle\n",
    "\n",
    "data = pd.read_csv(\"./data/student-mat.csv\", sep=\";\")\n",
    "\n",
    "data = data[[\"G1\", \"G2\", \"G3\", \"studytime\", \"failures\", \"absences\"]]\n",
    "\n",
    "predict = \"G3\"\n",
    "\n",
    "x = np.array(data.drop([predict], axis=1))\n",
    "y = np.array(data[predict])"
   ]
  },
  {
   "cell_type": "code",
   "execution_count": 5,
   "id": "0b71dca7",
   "metadata": {},
   "outputs": [
    {
     "data": {
      "text/html": [
       "<div>\n",
       "<style scoped>\n",
       "    .dataframe tbody tr th:only-of-type {\n",
       "        vertical-align: middle;\n",
       "    }\n",
       "\n",
       "    .dataframe tbody tr th {\n",
       "        vertical-align: top;\n",
       "    }\n",
       "\n",
       "    .dataframe thead th {\n",
       "        text-align: right;\n",
       "    }\n",
       "</style>\n",
       "<table border=\"1\" class=\"dataframe\">\n",
       "  <thead>\n",
       "    <tr style=\"text-align: right;\">\n",
       "      <th></th>\n",
       "      <th>G1</th>\n",
       "      <th>G2</th>\n",
       "      <th>G3</th>\n",
       "      <th>studytime</th>\n",
       "      <th>failures</th>\n",
       "      <th>absences</th>\n",
       "    </tr>\n",
       "  </thead>\n",
       "  <tbody>\n",
       "    <tr>\n",
       "      <th>0</th>\n",
       "      <td>5</td>\n",
       "      <td>6</td>\n",
       "      <td>6</td>\n",
       "      <td>2</td>\n",
       "      <td>0</td>\n",
       "      <td>6</td>\n",
       "    </tr>\n",
       "    <tr>\n",
       "      <th>1</th>\n",
       "      <td>5</td>\n",
       "      <td>5</td>\n",
       "      <td>6</td>\n",
       "      <td>2</td>\n",
       "      <td>0</td>\n",
       "      <td>4</td>\n",
       "    </tr>\n",
       "    <tr>\n",
       "      <th>2</th>\n",
       "      <td>7</td>\n",
       "      <td>8</td>\n",
       "      <td>10</td>\n",
       "      <td>2</td>\n",
       "      <td>3</td>\n",
       "      <td>10</td>\n",
       "    </tr>\n",
       "    <tr>\n",
       "      <th>3</th>\n",
       "      <td>15</td>\n",
       "      <td>14</td>\n",
       "      <td>15</td>\n",
       "      <td>3</td>\n",
       "      <td>0</td>\n",
       "      <td>2</td>\n",
       "    </tr>\n",
       "    <tr>\n",
       "      <th>4</th>\n",
       "      <td>6</td>\n",
       "      <td>10</td>\n",
       "      <td>10</td>\n",
       "      <td>2</td>\n",
       "      <td>0</td>\n",
       "      <td>4</td>\n",
       "    </tr>\n",
       "  </tbody>\n",
       "</table>\n",
       "</div>"
      ],
      "text/plain": [
       "   G1  G2  G3  studytime  failures  absences\n",
       "0   5   6   6          2         0         6\n",
       "1   5   5   6          2         0         4\n",
       "2   7   8  10          2         3        10\n",
       "3  15  14  15          3         0         2\n",
       "4   6  10  10          2         0         4"
      ]
     },
     "execution_count": 5,
     "metadata": {},
     "output_type": "execute_result"
    }
   ],
   "source": [
    "data.head()"
   ]
  },
  {
   "cell_type": "code",
   "execution_count": 6,
   "id": "5372021e",
   "metadata": {},
   "outputs": [
    {
     "name": "stdout",
     "output_type": "stream",
     "text": [
      "<class 'pandas.core.frame.DataFrame'>\n",
      "RangeIndex: 395 entries, 0 to 394\n",
      "Data columns (total 6 columns):\n",
      " #   Column     Non-Null Count  Dtype\n",
      "---  ------     --------------  -----\n",
      " 0   G1         395 non-null    int64\n",
      " 1   G2         395 non-null    int64\n",
      " 2   G3         395 non-null    int64\n",
      " 3   studytime  395 non-null    int64\n",
      " 4   failures   395 non-null    int64\n",
      " 5   absences   395 non-null    int64\n",
      "dtypes: int64(6)\n",
      "memory usage: 18.6 KB\n"
     ]
    }
   ],
   "source": [
    "data.info()"
   ]
  },
  {
   "cell_type": "code",
   "execution_count": 22,
   "id": "15c581f9",
   "metadata": {},
   "outputs": [
    {
     "name": "stdout",
     "output_type": "stream",
     "text": [
      "0.8458040757200458\n"
     ]
    }
   ],
   "source": [
    "x_train, x_test, y_train, y_test = sklearn.model_selection.train_test_split(x, y, test_size=0.1)\n",
    "\n",
    "linear = linear_model.LinearRegression()\n",
    "\n",
    "linear.fit(x_train, y_train)\n",
    "acc = linear.score(x_test, y_test)\n",
    "print(acc)"
   ]
  },
  {
   "cell_type": "code",
   "execution_count": 23,
   "id": "1d2a9bf4",
   "metadata": {},
   "outputs": [
    {
     "name": "stdout",
     "output_type": "stream",
     "text": [
      "Coefficient:\n",
      " [ 0.15732307  0.97622718 -0.16189051 -0.21373358  0.04099223]\n",
      "Intercept:\n",
      " -1.582107702037396\n",
      "12.00679296019896 [15 12  3  0  0] 14\n",
      "9.593582665178689 [10 10  2  0  4] 10\n",
      "14.940041925489473 [14 15  2  0  0] 15\n",
      "18.183369597457236 [16 18  2  0  0] 19\n",
      "4.165138950772419 [6 5 2 0 6] 6\n",
      "11.79762682127287 [14 12  2  1  0] 12\n",
      "12.022573673535105 [12 12  1  0  4] 13\n",
      "9.267723245165291 [10 10  3  0  0] 9\n",
      "3.543561498748245 [6 5 3 1 0] 0\n",
      "12.141875143093163 [13 11  3  1 40] 11\n",
      "4.4412337010614955 [ 6  5  1  1 14] 5\n",
      "10.725054517077137 [11 11  1  0  0] 10\n",
      "19.42998612617665 [18 18  1  1 24] 18\n",
      "6.113025862650761 [7 7 3 0 6] 7\n",
      "15.33667252525141 [16 15  2  0  2] 15\n",
      "8.617355489744918 [10  9  2  0  4] 11\n",
      "10.787053254149102 [13 11  2  1  3] 11\n",
      "7.1061027553716585 [9 8 2 1 0] 0\n",
      "9.278936519512238 [ 8 10  2  0  4] 9\n",
      "11.701281692510907 [11 12  1  0  0] 10\n",
      "14.207689715973611 [14 14  1  0  2] 13\n",
      "9.337718902201422 [11  9  1  1 19] 10\n",
      "18.987844071328055 [18 18  1  0  8] 18\n",
      "6.313830205152382 [7 7 1 0 3] 8\n",
      "10.591628223394324 [ 9  9  2  0 56] 8\n",
      "4.368021689642586 [6 5 1 0 7] 6\n",
      "3.70545201057067 [6 5 2 1 0] 0\n",
      "10.959794605016647 [13 11  2  0  2] 11\n",
      "7.274639102551829 [8 8 1 1 4] 8\n",
      "15.737870564002543 [17 15  1  0  4] 16\n",
      "9.203597900774497 [ 7 10  2  0  6] 10\n",
      "12.955319579300479 [13 13  3  0  7] 14\n",
      "13.9683821890449 [13 14  1  0  0] 14\n",
      "9.511598211083202 [10 10  2  0  2] 10\n",
      "11.949313451165912 [11 12  2  0 10] 13\n",
      "8.373480523827006 [10  9  3  0  2] 9\n",
      "16.19864725126824 [15 16  3  0  7] 15\n",
      "8.964290373845786 [ 6 10  2  0  4] 10\n",
      "4.977397218015217 [6 6 2 0 2] 6\n",
      "10.645148459350198 [11 11  2  0  2] 11\n"
     ]
    }
   ],
   "source": [
    "print('Coefficient:\\n', linear.coef_)\n",
    "print('Intercept:\\n', linear.intercept_)\n",
    "\n",
    "predictions = linear.predict(x_test)\n",
    "\n",
    "for x in range(len(predictions)):\n",
    "    print(predictions[x], x_test[x], y_test[x])\n",
    "\n",
    "# this is going to print the prediction and the actual coefficients plus the actual grade for each imput\n",
    "# it shows us the validity of the model\n",
    "\n"
   ]
  },
  {
   "cell_type": "markdown",
   "id": "b02ed829",
   "metadata": {},
   "source": [
    "chek the origin of this script at\n",
    "\n",
    "https://www.youtube.com/watch?v=1BYu65vLKdA&ab_channel=TechWithTim"
   ]
  },
  {
   "cell_type": "markdown",
   "id": "421c05fb",
   "metadata": {},
   "source": []
  }
 ],
 "metadata": {
  "kernelspec": {
   "display_name": "base",
   "language": "python",
   "name": "python3"
  },
  "language_info": {
   "codemirror_mode": {
    "name": "ipython",
    "version": 3
   },
   "file_extension": ".py",
   "mimetype": "text/x-python",
   "name": "python",
   "nbconvert_exporter": "python",
   "pygments_lexer": "ipython3",
   "version": "3.12.7"
  }
 },
 "nbformat": 4,
 "nbformat_minor": 5
}
