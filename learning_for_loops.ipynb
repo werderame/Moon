{
 "cells": [
  {
   "cell_type": "code",
   "execution_count": 1,
   "metadata": {},
   "outputs": [
    {
     "name": "stdout",
     "output_type": "stream",
     "text": [
      "[1, 2, 3, 4, 5, 6, 7, 8, 9, 10]\n"
     ]
    }
   ],
   "source": [
    "print(list(range(1,11)))"
   ]
  },
  {
   "cell_type": "code",
   "execution_count": null,
   "metadata": {},
   "outputs": [
    {
     "name": "stdout",
     "output_type": "stream",
     "text": [
      "1\n",
      "2\n",
      "3\n",
      "4\n",
      "5\n",
      "6\n",
      "7\n",
      "8\n",
      "9\n",
      "10\n"
     ]
    }
   ],
   "source": [
    "# Write a Python script to print all the numbers from 1 to 10, each on a new line.\n",
    "numbers = list(range(1,11))\n",
    "for i in numbers:\n",
    "    print(i)"
   ]
  },
  {
   "cell_type": "code",
   "execution_count": 16,
   "metadata": {},
   "outputs": [
    {
     "name": "stdout",
     "output_type": "stream",
     "text": [
      "1275\n"
     ]
    }
   ],
   "source": [
    "# Write a Python script to calculate and print the sum of all numbers from 1 to 50.\n",
    "\n",
    "print(sum(range(1, 51)))\n"
   ]
  },
  {
   "cell_type": "code",
   "execution_count": 25,
   "metadata": {},
   "outputs": [
    {
     "name": "stdout",
     "output_type": "stream",
     "text": [
      "5 x 1 = 5\n",
      "5 x 2 = 10\n",
      "5 x 3 = 15\n",
      "5 x 4 = 20\n",
      "5 x 5 = 25\n",
      "5 x 6 = 30\n",
      "5 x 7 = 35\n",
      "5 x 8 = 40\n",
      "5 x 9 = 45\n",
      "5 x 10 = 50\n"
     ]
    }
   ],
   "source": [
    "# Write a Python script to print the multiplication table for any number, say 5. The output should look like this:\n",
    "\"\"\"\n",
    "5 x 1 = 5\n",
    "5 x 2 = 10\n",
    "...\n",
    "5 x 10 = 50\n",
    "\"\"\"\n",
    "\n",
    "m = 5\n",
    "for i in list(range(1,11)):\n",
    "    print(f'{m} x {i} = {m*i}')\n",
    "\n"
   ]
  },
  {
   "cell_type": "code",
   "execution_count": 35,
   "metadata": {},
   "outputs": [
    {
     "name": "stdout",
     "output_type": "stream",
     "text": [
      "2\n",
      "4\n",
      "6\n",
      "8\n",
      "10\n",
      "12\n",
      "14\n",
      "16\n",
      "18\n",
      "20\n",
      "2\n",
      "4\n",
      "6\n",
      "8\n",
      "10\n",
      "12\n",
      "14\n",
      "16\n",
      "18\n",
      "20\n"
     ]
    }
   ],
   "source": [
    "# Write a Python script to print all the even numbers between 1 and 20 (inclusive).\n",
    "\n",
    "for i in range(1,21):\n",
    "    if i % 2 == 0:\n",
    "        print(i)\n",
    "\n",
    "\n",
    "for i in range(2, 21, 2):\n",
    "    print(i)\n"
   ]
  },
  {
   "cell_type": "code",
   "execution_count": 65,
   "metadata": {},
   "outputs": [
    {
     "name": "stdout",
     "output_type": "stream",
     "text": [
      "nohtyP\n",
      "nohtyP\n"
     ]
    }
   ],
   "source": [
    "# Write a Python script to reverse a string. For example, if the input string is \"Python\", the output should be \"nohtyP\".\n",
    "\n",
    "a = list(reversed('Python'))\n",
    "''.join(a)\n",
    "\n",
    "result = ''.join(reversed('Python'))\n",
    "print(result)\n",
    "\n",
    "result =  'Python'[::-1]\n",
    "print(result)\n"
   ]
  },
  {
   "cell_type": "code",
   "execution_count": 84,
   "metadata": {},
   "outputs": [
    {
     "name": "stdout",
     "output_type": "stream",
     "text": [
      "5! = 120\n"
     ]
    }
   ],
   "source": [
    "# Write a Python script to calculate the factorial of a given number (e.g., 5). For reference:\n",
    "# 5! = 5 × 4 × 3 × 2 × 1 = 120\n",
    "\n",
    "my_number = 5\n",
    "factorial = 1    \n",
    "for x in range(1, my_number + 1):\n",
    "    factorial = factorial * x\n",
    "    # factorial *= x          This is a more concise way of writing the same thing\n",
    "\n",
    "print(f'{my_number}! = {factorial}')\n"
   ]
  },
  {
   "cell_type": "code",
   "execution_count": 101,
   "metadata": {},
   "outputs": [
    {
     "data": {
      "text/plain": [
       "7"
      ]
     },
     "execution_count": 101,
     "metadata": {},
     "output_type": "execute_result"
    }
   ],
   "source": [
    "# Write a Python script to count the number of vowels (a, e, i, o, u) in a given string (case insensitive).\n",
    "# For example, if the input string is \"Hello World\", the output should be 3.\n",
    "\n",
    "input_string = 'Hello World And Other Words'\n",
    "vowels = 'a,e,i,o,u'\n",
    "\n",
    "result = 0\n",
    "for i in input_string.lower():\n",
    "    if i in vowels:\n",
    "        result = result +1\n",
    "\n",
    "result"
   ]
  },
  {
   "cell_type": "code",
   "execution_count": 9,
   "metadata": {},
   "outputs": [
    {
     "name": "stdout",
     "output_type": "stream",
     "text": [
      "1\n",
      "2\n",
      "Fizz\n",
      "4\n",
      "Buzz\n",
      "Fizz\n",
      "7\n",
      "8\n",
      "Fizz\n",
      "Buzz\n",
      "11\n",
      "Fizz\n",
      "13\n",
      "14\n",
      "FizzBuzz\n",
      "16\n",
      "17\n",
      "Fizz\n",
      "19\n",
      "Buzz\n",
      "Fizz\n",
      "22\n",
      "23\n",
      "Fizz\n",
      "Buzz\n",
      "26\n",
      "Fizz\n",
      "28\n",
      "29\n",
      "FizzBuzz\n",
      "31\n",
      "32\n",
      "Fizz\n",
      "34\n",
      "Buzz\n",
      "Fizz\n",
      "37\n",
      "38\n",
      "Fizz\n",
      "Buzz\n",
      "41\n",
      "Fizz\n",
      "43\n",
      "44\n",
      "FizzBuzz\n",
      "46\n",
      "47\n",
      "Fizz\n",
      "49\n",
      "Buzz\n"
     ]
    }
   ],
   "source": [
    "# Problem 8: FizzBuzz\n",
    "# Write a Python script to solve the classic FizzBuzz problem. Print numbers from 1 to 50, but:\n",
    "\n",
    "# For multiples of 3, print \"Fizz\" instead of the number.\n",
    "# For multiples of 5, print \"Buzz\" instead of the number.\n",
    "# For numbers that are multiples of both 3 and 5, print \"FizzBuzz\".\n",
    "\n",
    "a = range(1,51)\n",
    "\n",
    "for i in a:\n",
    "    if i % 15 == 0:\n",
    "        print('FizzBuzz')\n",
    "    elif i % 5 == 0:\n",
    "        print('Buzz')\n",
    "    elif i % 3 == 0:\n",
    "        print('Fizz')\n",
    "    else: \n",
    "        print(i)"
   ]
  },
  {
   "cell_type": "code",
   "execution_count": 13,
   "metadata": {},
   "outputs": [
    {
     "data": {
      "text/plain": [
       "99"
      ]
     },
     "execution_count": 13,
     "metadata": {},
     "output_type": "execute_result"
    }
   ],
   "source": [
    "# Problem 9: Find the Largest Number\n",
    "# Write a Python script to find the largest number in a list of integers. \n",
    "# For example, given the list [34, 78, 2, 45, 99, 23], the output should be 99.\n",
    "\n",
    "a = [34, 78, 2, 45, 99, 23]\n",
    "max(a)\n",
    "\n",
    "# with a for loop\n",
    "x = a[0]\n",
    "for i in a:\n",
    "    if i > x:\n",
    "        x = i\n",
    "x\n"
   ]
  },
  {
   "cell_type": "code",
   "execution_count": 36,
   "metadata": {},
   "outputs": [
    {
     "name": "stdout",
     "output_type": "stream",
     "text": [
      "not a palindrome\n",
      "palindrome\n"
     ]
    }
   ],
   "source": [
    "# Problem 10: Palindrome Checker\n",
    "# Write a Python script to check if a given string is a palindrome. \n",
    "# A palindrome reads the same forward and backward, ignoring case and spaces. \n",
    "\n",
    "a = 'Palindrome'\n",
    "b = 'A man a plan a canal Panama'\n",
    "\n",
    "def check_palindrome(your_text):\n",
    "    your_text = your_text.replace(' ','').lower()\n",
    "    your_text_p = your_text.replace(' ','').lower()[::-1]\n",
    "\n",
    "    if your_text_p == your_text:\n",
    "        print('palindrome')\n",
    "    else:\n",
    "        print('not a palindrome')\n",
    "\n",
    "check_palindrome(a)\n",
    "check_palindrome(b)\n"
   ]
  },
  {
   "cell_type": "code",
   "execution_count": 55,
   "metadata": {},
   "outputs": [
    {
     "name": "stdout",
     "output_type": "stream",
     "text": [
      "h: 2\n",
      "e: 1\n",
      "l: 3\n",
      "o: 2\n",
      " : 1\n",
      "p: 2\n",
      "a: 2\n"
     ]
    }
   ],
   "source": [
    "# Problem 11: Character Frequency\n",
    "# Write a Python script to count the frequency of each character in a given string.\n",
    "# You can use a for loop to iterate over the string and build a frequency counter.\n",
    "\n",
    "a = 'hello hoppala'\n",
    "\n",
    "characters = {}\n",
    "for i in a:\n",
    "    if i not in characters:\n",
    "        characters[i] = 1\n",
    "    else:\n",
    "        characters[i] += 1\n",
    "\n",
    "for k, v in characters.items():\n",
    "    print(f'{k}: {v}')\n",
    "\n",
    "\n"
   ]
  },
  {
   "cell_type": "code",
   "execution_count": 56,
   "metadata": {},
   "outputs": [],
   "source": [
    "# Problem 12: Nested Loops - Print a Pyramid\n",
    "# Write a Python script to print the following pattern for a given height (e.g., height = 5):\n",
    "\n",
    "\"\"\"\n",
    "    *\n",
    "   ***\n",
    "  *****\n",
    " *******\n",
    "*********\n",
    "\"\"\"\n",
    "\n",
    "\n",
    "\"\"\"Hints:\n",
    "\n",
    "Use nested for loops: one for rows and one for spaces/stars.\n",
    "The number of spaces decreases, and the number of stars increases with each row.\"\"\""
   ]
  },
  {
   "cell_type": "code",
   "execution_count": 1,
   "metadata": {},
   "outputs": [
    {
     "name": "stdout",
     "output_type": "stream",
     "text": [
      "       *\n",
      "      ***\n",
      "     *****\n",
      "    *******\n",
      "   *********\n",
      "  ***********\n",
      " *************\n",
      "***************\n"
     ]
    }
   ],
   "source": [
    "\"\"\"\n",
    "  *             2 space and 1 star\n",
    " ***            1 space and 3 stars\n",
    "*****           0 spaces and 5 stars\n",
    " \n",
    "\"\"\"\n",
    "\n",
    "\n",
    "rows = range(8)\n",
    "spaces = max(rows)+1\n",
    "stars = -1\n",
    "for i in rows:\n",
    "    spaces -= 1\n",
    "    stars += 2\n",
    "    print(spaces * ' ' + stars * '*')"
   ]
  },
  {
   "cell_type": "code",
   "execution_count": 7,
   "metadata": {},
   "outputs": [
    {
     "data": {
      "text/plain": [
       "' \\n\\nProblem 13 (Analytics): Calculate Row Sums in a Matrix\\nGiven a 2D list (matrix) of integers, write a script to calculate and print the sum of each row. For example:\\n\\npython\\nCopy code\\nmatrix = [\\n    [1, 2, 3],\\n    [4, 5, 6],\\n    [7, 8, 9]\\n]\\nThe output should be:\\n\\nmathematica\\nCopy code\\nRow 1: 6\\nRow 2: 15\\nRow 3: 24\\n\\n'"
      ]
     },
     "execution_count": 7,
     "metadata": {},
     "output_type": "execute_result"
    }
   ],
   "source": [
    "\"\"\" \n",
    "\n",
    "Problem 13 (Analytics): Calculate Row Sums in a Matrix\n",
    "Given a 2D list (matrix) of integers, write a script to calculate and print the sum of each row. For example:\n",
    "\n",
    "python\n",
    "Copy code\n",
    "matrix = [\n",
    "    [1, 2, 3],\n",
    "    [4, 5, 6],\n",
    "    [7, 8, 9]\n",
    "]\n",
    "The output should be:\n",
    "\n",
    "mathematica\n",
    "Copy code\n",
    "Row 1: 6\n",
    "Row 2: 15\n",
    "Row 3: 24\n",
    "\n",
    "\"\"\""
   ]
  },
  {
   "cell_type": "code",
   "execution_count": 3,
   "metadata": {},
   "outputs": [
    {
     "name": "stdout",
     "output_type": "stream",
     "text": [
      "Row 1: 6\n",
      "Row 2: 15\n",
      "Row 3: 24\n"
     ]
    }
   ],
   "source": [
    "table = [\n",
    "    [1, 2, 3],\n",
    "    [4, 5, 6],\n",
    "    [7, 8, 9]\n",
    "]\n",
    "for line in table:\n",
    "    index = (table.index(line) + 1)\n",
    "    total = sum(line)\n",
    "    print(f'Row {index}: {total}')"
   ]
  },
  {
   "cell_type": "code",
   "execution_count": 4,
   "metadata": {},
   "outputs": [
    {
     "data": {
      "text/plain": [
       "'\\nProblem 14 (Analytics): Count Words in a Sentence\\nWrite a Python script to count the frequency of each word in a given sentence. For example, for the sentence:\\n\\n\"This is a test. This test is fun.\"\\nThe output should be:\\n\\nthis: 2\\nis: 2\\na: 1\\ntest: 2\\nfun: 1\\nIgnore punctuation and case.\\n'"
      ]
     },
     "execution_count": 4,
     "metadata": {},
     "output_type": "execute_result"
    }
   ],
   "source": [
    "\"\"\"\n",
    "Problem 14 (Analytics): Count Words in a Sentence\n",
    "Write a Python script to count the frequency of each word in a given sentence. For example, for the sentence:\n",
    "\n",
    "\"This is a test. This test is fun.\"\n",
    "The output should be:\n",
    "\n",
    "this: 2\n",
    "is: 2\n",
    "a: 1\n",
    "test: 2\n",
    "fun: 1\n",
    "Ignore punctuation and case.\n",
    "\"\"\""
   ]
  },
  {
   "cell_type": "code",
   "execution_count": 19,
   "metadata": {},
   "outputs": [
    {
     "name": "stdout",
     "output_type": "stream",
     "text": [
      "this: 2\n",
      "is: 2\n",
      "a: 1\n",
      "test: 2\n",
      "fun: 1\n"
     ]
    }
   ],
   "source": [
    "sentence = 'This is a test. This test is fun.'\n",
    "\n",
    "sentence = sentence.lower().replace('.','').split()\n",
    "\n",
    "counter = {}\n",
    "for word in sentence: \n",
    "    if word not in counter:\n",
    "        counter[word] = 1\n",
    "    else:\n",
    "        counter[word] +=1\n",
    "\n",
    "for k, v in counter.items():\n",
    "    print(f'{k}: {v}')\n"
   ]
  },
  {
   "cell_type": "code",
   "execution_count": null,
   "metadata": {},
   "outputs": [],
   "source": [
    "\"\"\" \n",
    "Problem 15 (General): Generate a Pyramid\n",
    "Print a pyramid pattern for a given height, as described earlier:\n",
    "\n",
    "markdown\n",
    "Copy code\n",
    "    *\n",
    "   ***\n",
    "  *****\n",
    " *******\n",
    "*********\n",
    "\"\"\""
   ]
  },
  {
   "cell_type": "code",
   "execution_count": 64,
   "metadata": {},
   "outputs": [
    {
     "name": "stdout",
     "output_type": "stream",
     "text": [
      "Column 1: 13\n",
      "Column 2: 16\n",
      "Column 3: 19\n"
     ]
    }
   ],
   "source": [
    "\"\"\" \n",
    "Problem 16 (Analytics): Column Sums in a Matrix\n",
    "Given a 2D list (matrix) of integers, write a script to calculate and print the sum of each column. For example:\n",
    "\"\"\"\n",
    "matrix = [\n",
    "    [1, 2, 3],\n",
    "    [4, 5, 6],\n",
    "    [7, 8, 9],\n",
    "    [1, 1, 1]\n",
    "]\n",
    "\n",
    "\"\"\"\n",
    "The output should be:\n",
    "Column 1: 12\n",
    "Column 2: 15\n",
    "Column 3: 18\n",
    "\"\"\"\n",
    "\n",
    "for col_index in range(len(matrix[0])):\n",
    "    col_sum = 0\n",
    "    for row in matrix:\n",
    "        col_sum += row[col_index]\n",
    "    print(f'Column {col_index + 1}: {col_sum}')\n"
   ]
  },
  {
   "cell_type": "code",
   "execution_count": 120,
   "metadata": {},
   "outputs": [
    {
     "data": {
      "text/plain": [
       "[[1, 4, 7], [2, 5, 8], [3, 6, 9]]"
      ]
     },
     "execution_count": 120,
     "metadata": {},
     "output_type": "execute_result"
    }
   ],
   "source": [
    "\"\"\"\n",
    "Problem 17 (Analytics): Transpose a Matrix\n",
    "Write a Python script to transpose a given 2D matrix. The transpose of a matrix is obtained by swapping its rows and columns.\n",
    "For example:\n",
    "\"\"\"\n",
    "matrix = [\n",
    "    [1, 2, 3],\n",
    "    [4, 5, 6],\n",
    "    [7, 8, 9]\n",
    "]\n",
    "\"\"\" The transpose should look like this:\n",
    "[\n",
    "    [1, 4, 7],\n",
    "    [2, 5, 8],\n",
    "    [3, 6, 9]\n",
    "]\"\"\"\n",
    "\n",
    "new_matrix = []\n",
    "for col_index in range(len(matrix[0])):\n",
    "    new_row = []\n",
    "    for row_index in range(len(matrix)):\n",
    "        new_row.append(matrix[row_index][col_index])\n",
    "    new_matrix.append(new_row)\n",
    "new_matrix"
   ]
  },
  {
   "cell_type": "code",
   "execution_count": 76,
   "metadata": {},
   "outputs": [
    {
     "data": {
      "text/plain": [
       "'\\n\\n        0   1   2\\n\\n0       1   2   3\\n1       4   5   6\\n2       7   8   9\\n\\n\\n'"
      ]
     },
     "execution_count": 76,
     "metadata": {},
     "output_type": "execute_result"
    }
   ],
   "source": [
    "\"\"\"\n",
    "\n",
    "        0   1   2                       0   1   2\n",
    "\n",
    "0       1   2   3               0       1   4   7\n",
    "1       4   5   6               1       2   5   8\n",
    "2       7   8   9               2       3   6   9\n",
    "\n",
    "\n",
    "\"\"\""
   ]
  },
  {
   "cell_type": "code",
   "execution_count": null,
   "metadata": {},
   "outputs": [
    {
     "name": "stdout",
     "output_type": "stream",
     "text": [
      "Row 1: 6\n",
      "Row 2: 7\n",
      "Row 3: 8\n",
      "Column 1: 3\n",
      "Column 2: 7\n",
      "Column 3: 11\n",
      "position: row 1 | col 2 = 2 [matrix]\n",
      "position: row 2 | col 1 = 1 [transposed matrix]\n",
      "[1, 1, 1]\n",
      "[2, 3, 2]\n",
      "[3, 3, 5]\n"
     ]
    }
   ],
   "source": [
    "# sum rows\n",
    "# sum columns\n",
    "# transpose\n",
    "\n",
    "matrix = [\n",
    "    [1,2,3],\n",
    "    [1,3,3],\n",
    "    [1,2,5]\n",
    "]\n",
    "\n",
    "# sum rows\n",
    "for i in matrix:\n",
    "    sum_rows = sum(i)\n",
    "    index_rows = matrix.index(i) + 1\n",
    "    print(f'Row {index_rows}: {sum_rows}')\n",
    "\n",
    "# sum columns\n",
    "for col_index in range(len(matrix[0])):\n",
    "    col_sum = 0\n",
    "    for row in matrix:\n",
    "        col_sum += row[col_index]                   # add the row value at the position 'col_index' | row value [0], e.g.\n",
    "    print(f'Column {col_index + 1}: {col_sum}')\n",
    "\n",
    "# transpose\n",
    "\n",
    "    # swapping columns and rows:\n",
    "a = matrix[0][1], print(f'position: row 1 | col 2 = {a[0]} [matrix]')\n",
    "t_a = matrix[1][0], print(f'position: row 2 | col 1 = {t_a[0]} [transposed matrix]')\n",
    "\n",
    "t_matrix = []\n",
    "for col_index in range(len(matrix[0])):\n",
    "    t_cols = []\n",
    "    for row_index in range(len(matrix)):\n",
    "        t_cols.append(matrix[row_index][col_index]) # for the items in matrix, use the row as col and the col as row.\n",
    "    t_matrix.append(t_cols)\n",
    "\n",
    "for l in t_matrix:\n",
    "    print(l)\n",
    "\n",
    "\n"
   ]
  },
  {
   "cell_type": "code",
   "execution_count": 96,
   "metadata": {},
   "outputs": [
    {
     "data": {
      "text/plain": [
       "'The main diagonal is 1, 5, 9 (top-left to bottom-right) with a sum of 15.\\nThe anti-diagonal is 3, 5, 7 (top-right to bottom-left) with a sum of 15.\\n\\nOutput:\\nMain diagonal sum: 15\\nAnti-diagonal sum: 15'"
      ]
     },
     "execution_count": 96,
     "metadata": {},
     "output_type": "execute_result"
    }
   ],
   "source": [
    "\"\"\"\n",
    "Problem 18 (Analytics): Calculate Diagonal Sums in a Matrix\n",
    "Write a Python script to calculate the sums of the main diagonal and the anti-diagonal of a square matrix.\n",
    "For example, given the matrix:\"\"\" \n",
    "\n",
    "matrix = [\n",
    "    [1, 2, 3],\n",
    "    [4, 5, 6],\n",
    "    [7, 8, 9]\n",
    "]\n",
    "\"\"\"The main diagonal is 1, 5, 9 (top-left to bottom-right) with a sum of 15.\n",
    "The anti-diagonal is 3, 5, 7 (top-right to bottom-left) with a sum of 15.\n",
    "\n",
    "Output:\n",
    "Main diagonal sum: 15\n",
    "Anti-diagonal sum: 15\"\"\""
   ]
  },
  {
   "cell_type": "code",
   "execution_count": 84,
   "metadata": {},
   "outputs": [
    {
     "name": "stdout",
     "output_type": "stream",
     "text": [
      "1 5 9\n",
      "3 5 7\n"
     ]
    }
   ],
   "source": [
    "# main digonal items are found at\n",
    "print(matrix[0][0], matrix[1][1], matrix[2][2]) # start from row 0 and add 1 row each time. start from col 0 and add 1 col each time.  \n",
    "\n",
    "# anti-diagonal\n",
    "print(matrix[0][2],matrix[1][1],matrix[2][0]) # start from row 0 and add 1 row each time. start from last col and subtract 1 col each time. "
   ]
  },
  {
   "cell_type": "code",
   "execution_count": 124,
   "metadata": {},
   "outputs": [
    {
     "name": "stdout",
     "output_type": "stream",
     "text": [
      "Main Diagonal sum: 15 \n",
      "Anti Diagonal sum: 15\n"
     ]
    }
   ],
   "source": [
    "# initialize position of the main diagonal \n",
    "m_row_pos = -1\n",
    "m_col_pos = -1\n",
    "\n",
    "#initialize position of the anti diagonal\n",
    "a_row_pos = -1\n",
    "a_col_pos = len(matrix[0]) # determine the value of the last column plus one (3)\n",
    "\n",
    "main_dia = []\n",
    "anti_dia=[]\n",
    "\n",
    "for row in range(len(matrix)):\n",
    "    \n",
    "    # calculate new position \n",
    "    m_row_pos += 1\n",
    "    m_col_pos += 1\n",
    "    # create main diagonal list\n",
    "    main_dia.append(matrix[m_row_pos][m_col_pos])\n",
    "\n",
    "    # calculate new position\n",
    "    a_row_pos += 1\n",
    "    a_col_pos -= 1\n",
    "    # create te anti diagonal list\n",
    "    anti_dia.append(matrix[a_row_pos][a_col_pos])\n",
    "    \n",
    "print(f'Main Diagonal sum: {sum(main_dia)} \\nAnti Diagonal sum: {sum(anti_dia)}')\n",
    "\n"
   ]
  },
  {
   "cell_type": "code",
   "execution_count": 9,
   "metadata": {},
   "outputs": [
    {
     "name": "stdout",
     "output_type": "stream",
     "text": [
      "PYTHON\n",
      "PYTHO\n",
      "PYTH\n",
      "PYT\n",
      "PY\n",
      "P\n"
     ]
    }
   ],
   "source": [
    "# Problem 19 (Playful): Word Ladder\n",
    "\"\"\"\n",
    "PYTHON\n",
    "PYTHO\n",
    "PYTH\n",
    "PYT\n",
    "PY\n",
    "P\n",
    "\"\"\"\n",
    "\n",
    "lad = 'PYTHON'\n",
    "pos = len(lad)\n",
    "for _ in range(pos):\n",
    "    print(lad[:pos])\n",
    "    pos -= 1\n"
   ]
  },
  {
   "cell_type": "code",
   "execution_count": 20,
   "metadata": {},
   "outputs": [
    {
     "name": "stdout",
     "output_type": "stream",
     "text": [
      "1\n",
      "1 2\n",
      "1 2 3\n",
      "1 2 3 4\n",
      "1 2 3 4 5\n"
     ]
    }
   ],
   "source": [
    "# Problem 20 (Playful): Number Pyramid\n",
    "\n",
    "# Write a Python script to create a pyramid of numbers, where each row contains consecutive numbers \n",
    "# up to that row’s index. For example, if the input is 5, the output should look like this:\n",
    "\n",
    "\"\"\"\n",
    "1\n",
    "1 2\n",
    "1 2 3\n",
    "1 2 3 4\n",
    "1 2 3 4 5\n",
    "\"\"\"\n",
    "\n",
    "indy = 5\n",
    "for i in range(1,indy+1):\n",
    "    print(*range(1,i+1))"
   ]
  },
  {
   "cell_type": "code",
   "execution_count": 32,
   "metadata": {},
   "outputs": [
    {
     "name": "stdout",
     "output_type": "stream",
     "text": [
      "0 1 2 3 4\n"
     ]
    }
   ],
   "source": [
    "range(5)            # range(0, 5)\n",
    "list(range(5))      # [0, 1, 2, 3, 4]\n",
    "for _ in range(1): \n",
    "    print(*range(5))# 0 1 2 3 4"
   ]
  },
  {
   "cell_type": "code",
   "execution_count": 103,
   "metadata": {},
   "outputs": [
    {
     "name": "stdout",
     "output_type": "stream",
     "text": [
      "A\n",
      "A B\n",
      "A B C\n",
      "A B C D\n",
      "A B C D E\n",
      "A B C D E F\n",
      "A B C D E F G\n",
      "A B C D E F G H\n",
      "A B C D E F G H I\n",
      "A B C D E F G H I J\n",
      "A B C D E F G H I J K\n",
      "A B C D E F G H I J K L\n",
      "A B C D E F G H I J K L M\n",
      "A B C D E F G H I J K L M N\n",
      "A B C D E F G H I J K L M N O\n"
     ]
    }
   ],
   "source": [
    "# Problem 21 (Playful): Alphabet Triangle\n",
    "\"\"\"\n",
    "A\n",
    "A B\n",
    "A B C\n",
    "A B C D\n",
    "A B C D E\n",
    "\"\"\"\n",
    "\n",
    "indi = 80\n",
    "endy = 65 + 1\n",
    "for i in range(65,min(91,indi)):\n",
    "    print(*map(chr, range(65,min(endy, 91))))\n",
    "    endy += 1"
   ]
  },
  {
   "cell_type": "code",
   "execution_count": 136,
   "metadata": {},
   "outputs": [
    {
     "name": "stdout",
     "output_type": "stream",
     "text": [
      "          1\n",
      "         1 2\n",
      "        1 2 3\n",
      "       1 2 3 4\n",
      "      1 2 3 4 5\n",
      "     1 2 3 4 5 6\n",
      "    1 2 3 4 5 6 7\n",
      "   1 2 3 4 5 6 7 8\n",
      "  1 2 3 4 5 6 7 8 9\n",
      " 1 2 3 4 5 6 7 8 9 10\n",
      "  1 2 3 4 5 6 7 8 9\n",
      "   1 2 3 4 5 6 7 8\n",
      "    1 2 3 4 5 6 7\n",
      "     1 2 3 4 5 6\n",
      "      1 2 3 4 5\n",
      "       1 2 3 4\n",
      "        1 2 3\n",
      "         1 2\n",
      "          1\n"
     ]
    }
   ],
   "source": [
    "# Problem 22 (Playful): Number Diamond\n",
    "\n",
    "\"\"\"\n",
    "    1                   4 spaces, 1st number\n",
    "   1 2                  3 spaces, 1st number, 1 space, 2nd number\n",
    "  1 2 3                 2 spaces, 1st number, 1 space, 2nd number, 1 space, 3rd number\n",
    " 1 2 3 4\n",
    "1 2 3 4 5               0 spaces, 1st number, 1 space, 2nd number, 1 space, 3rd number [..]\n",
    " 1 2 3 4\n",
    "  1 2 3\n",
    "   1 2\n",
    "    1\n",
    "\"\"\"\n",
    "\n",
    "# tree\n",
    "height = 10\n",
    "\n",
    "# variables that increase (first half of the diamond)\n",
    "spc_range = height          # variable to store the # of spaces prior to the first number\n",
    "num_range = 1               # range of numbers for each line\n",
    "\n",
    "# variables that decrease (second half of the diamond)\n",
    "spc_dec = 2\n",
    "num_dec = height - 1\n",
    "\n",
    "for _ in range(height):\n",
    "    print(f'{spc_range * \" \"}{\" \".join(str(x) for x in range(1,num_range + 1))}') # use a join of spaces and string loops\n",
    "    spc_range -= 1\n",
    "    num_range += 1\n",
    "for _ in range(height - 1):\n",
    "    print(f'{spc_dec * \" \"}{\" \".join(str(x) for x in range(1,num_dec + 1))}')\n",
    "    spc_dec += 1\n",
    "    num_dec -= 1"
   ]
  },
  {
   "cell_type": "code",
   "execution_count": null,
   "metadata": {},
   "outputs": [],
   "source": []
  },
  {
   "cell_type": "code",
   "execution_count": 68,
   "metadata": {},
   "outputs": [
    {
     "name": "stdout",
     "output_type": "stream",
     "text": [
      "[5]\n",
      "[5, 82]\n",
      "[5, 82, 34, 15]\n",
      "[5, 82, 34, 15, 87, 73, 33, 20]\n",
      "[5, 82, 34, 15, 87, 73, 33, 20, 6, 36, 28, 81, 4, 22, 84, 27]\n",
      "[5, 82, 34, 15, 87, 73, 33, 20, 6, 36, 28, 81, 4, 22, 84, 27, 43, 54, 89, 24, 19, 59, 97, 50, 35, 51, 68, 77, 41, 34, 57, 61]\n"
     ]
    }
   ],
   "source": [
    "# Let's build a recursive function\n",
    "# this function will start from a list of 1 number\n",
    "# then will double the length of the list by addint n numbers. these will be random numbers\n",
    "# and will grow until it reaches a legth of 30 numbers. \n",
    "import random\n",
    "\n",
    "numbers = [5]\n",
    "def random_double(L): # L being the starting list\n",
    "    print(L)\n",
    "    if len(L) < 20:\n",
    "        for i in random.sample(range(1, 100), k=len(L)):\n",
    "            L.append(i)\n",
    "        random_double(L)\n",
    "        \n",
    "random_double(numbers)"
   ]
  },
  {
   "cell_type": "markdown",
   "metadata": {},
   "source": [
    "Factorial"
   ]
  },
  {
   "cell_type": "code",
   "execution_count": 1,
   "metadata": {},
   "outputs": [
    {
     "name": "stdout",
     "output_type": "stream",
     "text": [
      "120\n",
      "40320\n"
     ]
    }
   ],
   "source": [
    "def factorial(n): \n",
    "# YOUR CODE HERE\n",
    "    a = n\n",
    "    while a > 1:\n",
    "        a = a - 1\n",
    "        n = n * a\n",
    "    return n\n",
    "print(factorial(5))\n",
    "print(factorial(8))"
   ]
  },
  {
   "cell_type": "code",
   "execution_count": 2,
   "metadata": {},
   "outputs": [
    {
     "name": "stdout",
     "output_type": "stream",
     "text": [
      "24\n",
      "40320\n"
     ]
    }
   ],
   "source": [
    "def factorial_recursive(n): \n",
    "# YOUR CODE HERE\n",
    "    if n == 1:\n",
    "        return 1\n",
    "    else:\n",
    "        return n * factorial_recursive(n-1)\n",
    "        \n",
    "        \n",
    "\n",
    "# Answer check\n",
    "print(factorial_recursive(4)) \n",
    "print(factorial_recursive(8)) "
   ]
  },
  {
   "cell_type": "markdown",
   "metadata": {},
   "source": [
    "Fibonacci"
   ]
  },
  {
   "cell_type": "markdown",
   "metadata": {},
   "source": []
  },
  {
   "cell_type": "code",
   "execution_count": 3,
   "metadata": {},
   "outputs": [
    {
     "name": "stdout",
     "output_type": "stream",
     "text": [
      "5\n",
      "21\n"
     ]
    }
   ],
   "source": [
    "def fibonacci(n): \n",
    "    a = 1\n",
    "    b = 1\n",
    "    for _ in range(n-2): # iterates n-2 times (3 times in case of 5)\n",
    "        # YOUR CODE HERE\n",
    "        i = a # we store a \n",
    "        a = b # b becomes a\n",
    "        b = i + b # the sum of b + a becomes b\n",
    "    return b\n",
    "\n",
    "# Answer Check\n",
    "print(fibonacci(5))\n",
    "print(fibonacci(8))"
   ]
  },
  {
   "cell_type": "code",
   "execution_count": 4,
   "metadata": {},
   "outputs": [
    {
     "name": "stdout",
     "output_type": "stream",
     "text": [
      "5\n",
      "21\n"
     ]
    }
   ],
   "source": [
    "def fibonacci_recursive(n): \n",
    "# YOUR CODE HERE\n",
    "    if n < 3:\n",
    "        return 1\n",
    "    else:\n",
    "        return fibonacci_recursive(n-1) + fibonacci_recursive(n-2)\n",
    "\n",
    "# Answer Check\n",
    "print(fibonacci_recursive(5))\n",
    "print(fibonacci_recursive(8))"
   ]
  },
  {
   "cell_type": "code",
   "execution_count": null,
   "metadata": {},
   "outputs": [],
   "source": []
  }
 ],
 "metadata": {
  "kernelspec": {
   "display_name": "base",
   "language": "python",
   "name": "python3"
  },
  "language_info": {
   "codemirror_mode": {
    "name": "ipython",
    "version": 3
   },
   "file_extension": ".py",
   "mimetype": "text/x-python",
   "name": "python",
   "nbconvert_exporter": "python",
   "pygments_lexer": "ipython3",
   "version": "3.12.7"
  }
 },
 "nbformat": 4,
 "nbformat_minor": 2
}
