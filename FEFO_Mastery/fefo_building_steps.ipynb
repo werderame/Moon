{
 "cells": [
  {
   "cell_type": "markdown",
   "metadata": {},
   "source": [
    "# FEFO Mastery\n",
    "Building a fefo calculator from scratch"
   ]
  },
  {
   "cell_type": "markdown",
   "metadata": {},
   "source": [
    "In this Jupyter Notebook we want to write a comprehensive script that allows us to tackle inventory management strategy called FEFO, First Expiry First Out."
   ]
  },
  {
   "cell_type": "markdown",
   "metadata": {},
   "source": [
    "## Dictionaries for Inventory and Demand"
   ]
  },
  {
   "cell_type": "markdown",
   "metadata": {},
   "source": [
    "Let's start with the most basic situation, we have a dictionary of articles and quantities called \"Inventory\" and we want to iterate through it so to print the data it contains"
   ]
  },
  {
   "cell_type": "code",
   "execution_count": null,
   "metadata": {},
   "outputs": [],
   "source": [
    "# Create a variable called `inventory` and store some articles and quantities in it\n",
    "inventory = {\n",
    "    \"apple\": 100,\n",
    "    \"banana\": 50,\n",
    "    \"orange\": 75\n",
    "}\n",
    "# Write a loop to print the article and its quantity.\n",
    "# We'll use the items() method to access the dictionary..\n",
    "for k, v in inventory.items():\n",
    "    print(k, v)\n"
   ]
  },
  {
   "cell_type": "markdown",
   "metadata": {},
   "source": [
    "Now we will build upon the `dictionary` object.\n",
    "Tipically inventory data is stored in relational databases and its format is perfectly represented by that of a `list` of `dictionaries`. Each `dictionary` contains `keys` like 'article' or 'sku_code', 'quantity', 'description' and so on."
   ]
  },
  {
   "cell_type": "code",
   "execution_count": null,
   "metadata": {},
   "outputs": [],
   "source": [
    "# Build a dictionary with three basic data points: 'article', 'quantity' and 'expiration_date'\n",
    "inventory = [\n",
    "    {\"article\": \"apple\", \"quantity\": 100, \"expiration_date\": \"2025-01-15\"},\n",
    "    {\"article\": \"banana\", \"quantity\": 50, \"expiration_date\": \"2025-01-10\"},\n",
    "    {\"article\": \"orange\", \"quantity\": 75, \"expiration_date\": \"2025-01-20\"}\n",
    "]\n",
    "\n",
    "# Learn to iterate through the dictionary accessing each entry or row and thus each `key - value` pair\n",
    "for entry in inventory:\n",
    "    print(f\"{entry['article']}: {entry['quantity']}, expires on {entry['expiration_date']}\")"
   ]
  },
  {
   "cell_type": "markdown",
   "metadata": {},
   "source": [
    "## Sorting List of Dictionaries"
   ]
  },
  {
   "cell_type": "markdown",
   "metadata": {},
   "source": [
    "It is very important at this point that we step out of **Python** and think of the **logic** that we want to implement. Here it goes: \n",
    "1. we want to allocate existing inventory to a demand (we haven't yet dealt with demand, but we'll do so very soon) _in order of expiry date_ \n",
    "2. we want to dinamically return the remaining inventory after it has been allocated and consumed by production"
   ]
  },
  {
   "cell_type": "markdown",
   "metadata": {},
   "source": [
    "Let's tackle 1. Ordering the inventory by expiration date. \n",
    "We will do so by using a lamda function to sort the inventory. We will also assign the sorted inventory to a new variable which will allow us to keep track of all steps of the way."
   ]
  },
  {
   "cell_type": "code",
   "execution_count": null,
   "metadata": {},
   "outputs": [],
   "source": [
    "# Sort Inventory by Expiration Date\n",
    "sortinv = sorted(inventory, key=lambda expi: expi['expiration_date'])\n",
    "\n",
    "print(\"Sorted Inventory: \\n\")\n",
    "for entry in sortinv:\n",
    "    print(f\"{entry['article']}: {entry['quantity']}, expires on {entry['expiration_date']}\")"
   ]
  },
  {
   "cell_type": "markdown",
   "metadata": {},
   "source": [
    "We will now build the demand dataset with a very simple list of two items. \n",
    "We will keep the same exact structure of the Inventory, i.e. a list of dictionaries, with keys 'article', 'quantity' and a date that tells us when the article is needed by production."
   ]
  },
  {
   "cell_type": "code",
   "execution_count": 6,
   "metadata": {},
   "outputs": [],
   "source": [
    "# Build the demand dataset\n",
    "demand = [\n",
    "    {\"article\": \"apple\", \"quantity\": 120, \"demand_date\": \"2025-01-12\"},\n",
    "    {\"article\": \"banana\", \"quantity\": 30, \"demand_date\": \"2025-01-11\"}\n",
    "]"
   ]
  },
  {
   "cell_type": "markdown",
   "metadata": {},
   "source": [
    "We will also want to order the demand by date, this is because we want to allocate the existing inventory to demand that is closer in time - for later demand lines we will have time to purchase more inventory!"
   ]
  },
  {
   "cell_type": "code",
   "execution_count": null,
   "metadata": {},
   "outputs": [],
   "source": [
    "# Sort demand by expiration date\n",
    "sortdem = sorted(demand, key=lambda demd: demd['demand_date'])\n",
    "\n",
    "print(\"Sorted Demand: \\n\")\n",
    "for requir in sortdem:\n",
    "    print(f\"{requir['article']}: {requir['quantity']}, requirement on {requir['demand_date']}\")"
   ]
  },
  {
   "cell_type": "markdown",
   "metadata": {},
   "source": [
    "## A For Loop to Dynamically Allocate Inventory to Demand lines"
   ]
  },
  {
   "cell_type": "markdown",
   "metadata": {},
   "source": [
    "Now that we have both demand and inventory in a good shape, we want to tackle the second problem, i.e. allocating the inventory to the demand and returning the remaining datasets. \n",
    "\n",
    "As this is a dinamic and iterative process we will need to use a for loop. And this procedure will essentially do the following: \n",
    "- for each line of the demand, take the first line of the inventory with corresponding article (of course we fulfill demand with the correct parts)\n",
    "- if the demand is larger than the inventory line, then subtract the inventory and reduce it to zero\n",
    "- - thus search for any other lines in the inventory that can satisfy the remaining demand\n",
    "- if the demand is less than the inventory, then make the demand zero (fulfill the demand) and store the remaining inventory \n",
    "\n",
    "For clarity purposes we will want to delete zero line quantities from the two datasets. \n",
    "Also, as before, for clarity purposes, we keep track of all steps of the way by deep-copying our datasets. "
   ]
  },
  {
   "cell_type": "markdown",
   "metadata": {},
   "source": [
    "### Version 1: The Basic Calculation"
   ]
  },
  {
   "cell_type": "code",
   "execution_count": null,
   "metadata": {},
   "outputs": [],
   "source": [
    "import copy\n",
    "calc_inventory = copy.deepcopy(sortinv)\n",
    "calc_demand = copy.deepcopy(sortdem)\n",
    "\n",
    "# Match demand with existing inventory\n",
    "for d in calc_demand:\n",
    "    for i in calc_inventory:\n",
    "        if i['article'] == d['article']:\n",
    "            if d['quantity'] >= i['quantity']:\n",
    "                d['quantity'] -= i['quantity'] # demand - inventory\n",
    "                i['quantity'] = 0 # thus save the remaining demand\n",
    "            else:\n",
    "                i['quantity'] -= d['quantity'] # inventory - demand\n",
    "                d['quantity'] = 0 # then reduce the demand to zero\n",
    "calc_demand = [d for d in calc_demand if d['quantity'] > 0]\n",
    "calc_inventory = [i for i in calc_inventory if i['quantity'] > 0]\n",
    "# Reproduce the remaining inventory\n",
    "print(\"Remaining inventory:\")\n",
    "for i in calc_inventory:\n",
    "    print(f\"{i['article']}: {i['quantity']}\")\n",
    "# Reproduce the remaining demand\n",
    "print(\"\\nRemaining demand:\")\n",
    "for i in calc_demand:\n",
    "    print(f\"{i['article']}: {i['quantity']}\")"
   ]
  },
  {
   "cell_type": "markdown",
   "metadata": {},
   "source": [
    "### Version 2: Handling Expiring Inventory and Dated Demand"
   ]
  },
  {
   "cell_type": "markdown",
   "metadata": {},
   "source": [
    "Once we have made sure that we are able to capture the real life scenario of allocating ordered inventory to ordered demand, we will tackle the next problem, i.e. checking for the additional condition that the inventory is not expired at the time of demand. Essentially, the case where `inventory['expiration_date'] < demand['demand_date']` represents a case where the is no available inventory. Thus we need to exclude the allocation for that case. "
   ]
  },
  {
   "cell_type": "markdown",
   "metadata": {},
   "source": [
    "We initialize our sets and want to trigger this behaviour: \n",
    "- apples: there is a demand of 120 pieces which cannot be met by the lot expiring on the 10th of January. So that quantity \"remains\" and is not allocated to production. \n",
    "- the 120 demand is satisfied using the second lot, expiring on the 30th of the same month.\n",
    "- however the subsequent demand of 30 pieces falls short of inventory, (only 130 - 120 = 10 pcs are left)"
   ]
  },
  {
   "cell_type": "code",
   "execution_count": 22,
   "metadata": {},
   "outputs": [],
   "source": [
    "# initialize sets\n",
    "demand = [\n",
    "    {\"article\": \"apple\", \"quantity\": 120, \"demand_date\": \"2025-01-12\"},\n",
    "    {\"article\": \"apple\", \"quantity\": 30, \"demand_date\": \"2025-01-15\"}]\n",
    "inventory = [\n",
    "    {\"article\": \"apple\", \"quantity\": 50, \"expiration_date\": \"2025-01-10\"}, \n",
    "    {\"article\": \"apple\", \"quantity\": 130, \"expiration_date\": \"2025-01-30\"}, \n",
    "    {\"article\": \"banana\", \"quantity\": 50, \"expiration_date\": \"2025-01-10\"}]\n",
    "\n",
    "# order by date\n",
    "sortdem = sorted(demand, key=lambda demd: demd['demand_date'])\n",
    "sortinv = sorted(inventory, key=lambda expi: expi['expiration_date'])\n",
    "\n",
    "# copy for tracking\n",
    "calc_inv_date = copy.deepcopy(sortinv)\n",
    "calc_dem_date = copy.deepcopy(sortdem)"
   ]
  },
  {
   "cell_type": "markdown",
   "metadata": {},
   "source": [
    "We add `and d['demand_date'] < i['expiration_date']` to the conditional. This will ensure proper handling of the expiration and demand dates. "
   ]
  },
  {
   "cell_type": "code",
   "execution_count": null,
   "metadata": {},
   "outputs": [],
   "source": [
    "# Match demand with existing inventory\n",
    "for d in calc_dem_date:\n",
    "    for i in calc_inv_date:\n",
    "\n",
    "        if d['article'] == i['article'] and d['demand_date'] < i['expiration_date']: # if the demand happens prior to the expiration\n",
    "            if d['quantity'] >= i['quantity']:\n",
    "                d['quantity'] -= i['quantity'] \n",
    "                i['quantity'] = 0 \n",
    "            else:\n",
    "                i['quantity'] -= d['quantity'] \n",
    "                d['quantity'] = 0 \n",
    "        # in any other case the demand is unmet (and remains) and the inventory is expired (and remains)\n",
    "    \n",
    "# delete zero quanity lines\n",
    "calc_dem_date = [d for d in calc_dem_date if d['quantity'] > 0]\n",
    "calc_inv_date = [i for i in calc_inv_date if i['quantity'] > 0]\n",
    "\n",
    "# Reproduce the remaining inventory\n",
    "print(\"Remaining inventory:\")\n",
    "for i in calc_inv_date:\n",
    "    print(f\"{i['article']}: {i['quantity']}\")\n",
    "# Reproduce the remaining demand\n",
    "print(\"\\nUnmet demand:\")\n",
    "for i in calc_dem_date:\n",
    "    print(f\"{i['article']}: {i['quantity']}\")"
   ]
  },
  {
   "cell_type": "markdown",
   "metadata": {},
   "source": [
    "### Version 3: Tracking the Inventory Changes Before and After the Allocation"
   ]
  },
  {
   "cell_type": "markdown",
   "metadata": {},
   "source": [
    "In the next round of code we are going to build upon the working loop of before. What we want to achieve is more clarity about the starting quantities, the consumed quantities and the remaining quantities for each line of the inventory and each line of the demand sets. \n",
    "\n",
    "1. the first thing we need is to initialize the dictionaries adding to `'quantity'` representing the initial quantity:\n",
    "- demand set: `met_demand` and `unmet_demand`. Since we are _before_ the loop the demand met is 0 and the unmet demand is equal the the demand quantity\n",
    "- inventory set: `remaining_quantity` and `consumed_quantity`. Again, the remaining quantity is the whole, and the consumed is 0, for now. \n",
    "_De facto_ we can think of these as the **dynamic** quantities of the dataset, while the initial quantity as a static amount.\n",
    "\n",
    "2. Now we are ready to enter the loop, therefore, without touching the initial quantities, we are going to increase and decrease only the dynamic quantityes. \n",
    "\n",
    "3. At the end of the loop we will `display` the data with the help of Pandas DataFrames - which help us understand the result visually much better than plain `print` statements."
   ]
  },
  {
   "cell_type": "code",
   "execution_count": 49,
   "metadata": {},
   "outputs": [
    {
     "data": {
      "text/html": [
       "<div>\n",
       "<style scoped>\n",
       "    .dataframe tbody tr th:only-of-type {\n",
       "        vertical-align: middle;\n",
       "    }\n",
       "\n",
       "    .dataframe tbody tr th {\n",
       "        vertical-align: top;\n",
       "    }\n",
       "\n",
       "    .dataframe thead th {\n",
       "        text-align: right;\n",
       "    }\n",
       "</style>\n",
       "<table border=\"1\" class=\"dataframe\">\n",
       "  <thead>\n",
       "    <tr style=\"text-align: right;\">\n",
       "      <th></th>\n",
       "      <th>article</th>\n",
       "      <th>quantity</th>\n",
       "      <th>expiration_date</th>\n",
       "      <th>remaining_quantity</th>\n",
       "      <th>consumed_quantity</th>\n",
       "    </tr>\n",
       "  </thead>\n",
       "  <tbody>\n",
       "    <tr>\n",
       "      <th>0</th>\n",
       "      <td>apple</td>\n",
       "      <td>50</td>\n",
       "      <td>2025-01-10</td>\n",
       "      <td>50</td>\n",
       "      <td>0</td>\n",
       "    </tr>\n",
       "    <tr>\n",
       "      <th>1</th>\n",
       "      <td>banana</td>\n",
       "      <td>50</td>\n",
       "      <td>2025-01-10</td>\n",
       "      <td>50</td>\n",
       "      <td>0</td>\n",
       "    </tr>\n",
       "    <tr>\n",
       "      <th>2</th>\n",
       "      <td>apple</td>\n",
       "      <td>130</td>\n",
       "      <td>2025-01-30</td>\n",
       "      <td>0</td>\n",
       "      <td>130</td>\n",
       "    </tr>\n",
       "  </tbody>\n",
       "</table>\n",
       "</div>"
      ],
      "text/plain": [
       "  article  quantity expiration_date  remaining_quantity  consumed_quantity\n",
       "0   apple        50      2025-01-10                  50                  0\n",
       "1  banana        50      2025-01-10                  50                  0\n",
       "2   apple       130      2025-01-30                   0                130"
      ]
     },
     "metadata": {},
     "output_type": "display_data"
    },
    {
     "data": {
      "text/html": [
       "<div>\n",
       "<style scoped>\n",
       "    .dataframe tbody tr th:only-of-type {\n",
       "        vertical-align: middle;\n",
       "    }\n",
       "\n",
       "    .dataframe tbody tr th {\n",
       "        vertical-align: top;\n",
       "    }\n",
       "\n",
       "    .dataframe thead th {\n",
       "        text-align: right;\n",
       "    }\n",
       "</style>\n",
       "<table border=\"1\" class=\"dataframe\">\n",
       "  <thead>\n",
       "    <tr style=\"text-align: right;\">\n",
       "      <th></th>\n",
       "      <th>article</th>\n",
       "      <th>quantity</th>\n",
       "      <th>demand_date</th>\n",
       "      <th>met_demand</th>\n",
       "      <th>unmet_demand</th>\n",
       "    </tr>\n",
       "  </thead>\n",
       "  <tbody>\n",
       "    <tr>\n",
       "      <th>0</th>\n",
       "      <td>apple</td>\n",
       "      <td>120</td>\n",
       "      <td>2025-01-12</td>\n",
       "      <td>120</td>\n",
       "      <td>0</td>\n",
       "    </tr>\n",
       "    <tr>\n",
       "      <th>1</th>\n",
       "      <td>apple</td>\n",
       "      <td>30</td>\n",
       "      <td>2025-01-15</td>\n",
       "      <td>10</td>\n",
       "      <td>20</td>\n",
       "    </tr>\n",
       "  </tbody>\n",
       "</table>\n",
       "</div>"
      ],
      "text/plain": [
       "  article  quantity demand_date  met_demand  unmet_demand\n",
       "0   apple       120  2025-01-12         120             0\n",
       "1   apple        30  2025-01-15          10            20"
      ]
     },
     "metadata": {},
     "output_type": "display_data"
    }
   ],
   "source": [
    "import pandas as pd\n",
    "# initialize sets\n",
    "demand = [\n",
    "    {\"article\": \"apple\", \"quantity\": 120, \"demand_date\": \"2025-01-12\"},     # met: 120, um: 0\n",
    "    {\"article\": \"apple\", \"quantity\": 30, \"demand_date\": \"2025-01-15\"}]      # met: 10, um: 20\n",
    "inventory = [\n",
    "    {\"article\": \"apple\", \"quantity\": 50, \"expiration_date\": \"2025-01-10\"},  # c: 0, r: 50\n",
    "    {\"article\": \"apple\", \"quantity\": 130, \"expiration_date\": \"2025-01-30\"}, # c: 130, r: 0\n",
    "    {\"article\": \"banana\", \"quantity\": 50, \"expiration_date\": \"2025-01-10\"}] # c: 0, r: 50\n",
    "\n",
    "# order by date\n",
    "sortdem = sorted(demand, key=lambda demd: demd['demand_date'])\n",
    "sortinv = sorted(inventory, key=lambda expi: expi['expiration_date'])\n",
    "\n",
    "# copy for tracking\n",
    "import copy\n",
    "calc_inv_date = copy.deepcopy(sortinv)\n",
    "calc_dem_date = copy.deepcopy(sortdem)\n",
    "\n",
    "# expand sets \n",
    "for i in calc_inv_date:\n",
    "    i['remaining_quantity'] = i['quantity']\n",
    "    i['consumed_quantity'] = 0\n",
    "\n",
    "for d in calc_dem_date:\n",
    "    d['met_demand'] = 0\n",
    "    d['unmet_demand'] = d['quantity']\n",
    "\n",
    "# Match demand to inventory and update the dynamic quantities\n",
    "for d in calc_dem_date:\n",
    "   \n",
    "    for i in calc_inv_date:\n",
    "\n",
    "        if d['article'] == i['article'] and d['demand_date'] < i['expiration_date']: # if the demand happens prior to the expiration\n",
    "            \n",
    "            if d['unmet_demand'] >= i['remaining_quantity']:    # if the unmet > remaining      |   (if d > i)\n",
    "                \n",
    "                d['met_demand'] += i['remaining_quantity']      # d.met quantity -> increase by the remaining\n",
    "                d['unmet_demand'] -= i['remaining_quantity']    # set the unmet demand to zero\n",
    "                i['consumed_quantity'] += i['remaining_quantity']\n",
    "                i['remaining_quantity'] = 0                     # set the remaining to zero (move it to met quantity)\n",
    "                            \n",
    "            else:                                               # if the remaining > unmet      |   (if i > d)\n",
    "                d['met_demand'] += d['unmet_demand']            # demand met is the entire unmet demad\n",
    "                i['remaining_quantity'] -= d['unmet_demand']      # inventory remaining decrease by d.met\n",
    "                i['consumed_quantity'] += d['unmet_demand']       # inventory consumed is decreased by the met demand\n",
    "                d['unmet_demand'] = 0\n",
    "          \n",
    "# Display the result with Pandas\n",
    "import pandas as pd\n",
    "inventory_calc = pd.DataFrame(calc_inv_date)\n",
    "demand_calc = pd.DataFrame(calc_dem_date)\n",
    "display(inventory_calc)\n",
    "display(demand_calc)"
   ]
  },
  {
   "cell_type": "markdown",
   "metadata": {},
   "source": [
    "### Version 4: Optimising the Calculation"
   ]
  },
  {
   "cell_type": "markdown",
   "metadata": {},
   "source": [
    "optimisation of the iterative work: only on the grouped articles"
   ]
  },
  {
   "cell_type": "markdown",
   "metadata": {},
   "source": [
    "now we use the grouped inventory `article` to process the allocation"
   ]
  },
  {
   "cell_type": "code",
   "execution_count": 27,
   "metadata": {},
   "outputs": [
    {
     "data": {
      "text/html": [
       "<div>\n",
       "<style scoped>\n",
       "    .dataframe tbody tr th:only-of-type {\n",
       "        vertical-align: middle;\n",
       "    }\n",
       "\n",
       "    .dataframe tbody tr th {\n",
       "        vertical-align: top;\n",
       "    }\n",
       "\n",
       "    .dataframe thead th {\n",
       "        text-align: right;\n",
       "    }\n",
       "</style>\n",
       "<table border=\"1\" class=\"dataframe\">\n",
       "  <thead>\n",
       "    <tr style=\"text-align: right;\">\n",
       "      <th></th>\n",
       "      <th>article</th>\n",
       "      <th>quantity</th>\n",
       "      <th>expiration_date</th>\n",
       "      <th>remaining_quantity</th>\n",
       "      <th>consumed_quantity</th>\n",
       "    </tr>\n",
       "  </thead>\n",
       "  <tbody>\n",
       "    <tr>\n",
       "      <th>0</th>\n",
       "      <td>kiwi</td>\n",
       "      <td>25</td>\n",
       "      <td>2025-01-03</td>\n",
       "      <td>25</td>\n",
       "      <td>0</td>\n",
       "    </tr>\n",
       "    <tr>\n",
       "      <th>1</th>\n",
       "      <td>pineapple</td>\n",
       "      <td>2</td>\n",
       "      <td>2025-01-03</td>\n",
       "      <td>2</td>\n",
       "      <td>0</td>\n",
       "    </tr>\n",
       "    <tr>\n",
       "      <th>2</th>\n",
       "      <td>apple</td>\n",
       "      <td>50</td>\n",
       "      <td>2025-01-10</td>\n",
       "      <td>50</td>\n",
       "      <td>0</td>\n",
       "    </tr>\n",
       "    <tr>\n",
       "      <th>3</th>\n",
       "      <td>banana</td>\n",
       "      <td>50</td>\n",
       "      <td>2025-01-10</td>\n",
       "      <td>50</td>\n",
       "      <td>0</td>\n",
       "    </tr>\n",
       "    <tr>\n",
       "      <th>4</th>\n",
       "      <td>apple</td>\n",
       "      <td>130</td>\n",
       "      <td>2025-01-30</td>\n",
       "      <td>0</td>\n",
       "      <td>130</td>\n",
       "    </tr>\n",
       "  </tbody>\n",
       "</table>\n",
       "</div>"
      ],
      "text/plain": [
       "     article  quantity expiration_date  remaining_quantity  consumed_quantity\n",
       "0       kiwi        25      2025-01-03                  25                  0\n",
       "1  pineapple         2      2025-01-03                   2                  0\n",
       "2      apple        50      2025-01-10                  50                  0\n",
       "3     banana        50      2025-01-10                  50                  0\n",
       "4      apple       130      2025-01-30                   0                130"
      ]
     },
     "metadata": {},
     "output_type": "display_data"
    },
    {
     "data": {
      "text/html": [
       "<div>\n",
       "<style scoped>\n",
       "    .dataframe tbody tr th:only-of-type {\n",
       "        vertical-align: middle;\n",
       "    }\n",
       "\n",
       "    .dataframe tbody tr th {\n",
       "        vertical-align: top;\n",
       "    }\n",
       "\n",
       "    .dataframe thead th {\n",
       "        text-align: right;\n",
       "    }\n",
       "</style>\n",
       "<table border=\"1\" class=\"dataframe\">\n",
       "  <thead>\n",
       "    <tr style=\"text-align: right;\">\n",
       "      <th></th>\n",
       "      <th>article</th>\n",
       "      <th>quantity</th>\n",
       "      <th>demand_date</th>\n",
       "      <th>met_demand</th>\n",
       "      <th>unmet_demand</th>\n",
       "    </tr>\n",
       "  </thead>\n",
       "  <tbody>\n",
       "    <tr>\n",
       "      <th>0</th>\n",
       "      <td>apple</td>\n",
       "      <td>120</td>\n",
       "      <td>2025-01-12</td>\n",
       "      <td>120</td>\n",
       "      <td>0</td>\n",
       "    </tr>\n",
       "    <tr>\n",
       "      <th>1</th>\n",
       "      <td>apple</td>\n",
       "      <td>30</td>\n",
       "      <td>2025-01-15</td>\n",
       "      <td>10</td>\n",
       "      <td>20</td>\n",
       "    </tr>\n",
       "    <tr>\n",
       "      <th>2</th>\n",
       "      <td>kiwi</td>\n",
       "      <td>30</td>\n",
       "      <td>2025-01-15</td>\n",
       "      <td>0</td>\n",
       "      <td>30</td>\n",
       "    </tr>\n",
       "  </tbody>\n",
       "</table>\n",
       "</div>"
      ],
      "text/plain": [
       "  article  quantity demand_date  met_demand  unmet_demand\n",
       "0   apple       120  2025-01-12         120             0\n",
       "1   apple        30  2025-01-15          10            20\n",
       "2    kiwi        30  2025-01-15           0            30"
      ]
     },
     "metadata": {},
     "output_type": "display_data"
    }
   ],
   "source": [
    "import pandas as pd\n",
    "# initialize sets\n",
    "demand = [\n",
    "    {\"article\": \"apple\", \"quantity\": 120, \"demand_date\": \"2025-01-12\"},     # met: 120, um: 0\n",
    "    {\"article\": \"apple\", \"quantity\": 30, \"demand_date\": \"2025-01-15\"},      # met: 10, um: 20\n",
    "    {\"article\": \"kiwi\", \"quantity\": 30, \"demand_date\": \"2025-01-15\"}]\n",
    "inventory = [\n",
    "    {\"article\": \"apple\", \"quantity\": 50, \"expiration_date\": \"2025-01-10\"},  # c: 0, r: 50\n",
    "    {\"article\": \"apple\", \"quantity\": 130, \"expiration_date\": \"2025-01-30\"}, # c: 130, r: 0\n",
    "    {\"article\": \"banana\", \"quantity\": 50, \"expiration_date\": \"2025-01-10\"}, # c: 0, r: 50\n",
    "    {\"article\": \"kiwi\", \"quantity\": 25, \"expiration_date\": \"2025-01-03\"},\n",
    "    {\"article\": \"pineapple\", \"quantity\": 2, \"expiration_date\": \"2025-01-03\"},]\n",
    "\n",
    "# order by date\n",
    "sortdem = sorted(demand, key=lambda demd: demd['demand_date'])\n",
    "sortinv = sorted(inventory, key=lambda expi: expi['expiration_date'])\n",
    "\n",
    "# copy for tracking\n",
    "import copy\n",
    "calc_inv_date = copy.deepcopy(sortinv)\n",
    "calc_dem_date = copy.deepcopy(sortdem)\n",
    "\n",
    "# expand sets \n",
    "for i in calc_inv_date:\n",
    "    i['remaining_quantity'] = i['quantity']\n",
    "    i['consumed_quantity'] = 0\n",
    "\n",
    "for d in calc_dem_date:\n",
    "    d['met_demand'] = 0\n",
    "    d['unmet_demand'] = d['quantity']\n",
    "\n",
    "# Create a dictionary of inventory skus\n",
    "articles = {}\n",
    "for item in calc_inv_date:\n",
    "    sku = item['article']\n",
    "    if sku not in articles: \n",
    "        articles[sku] = []              # add the sku and assign it an empty list\n",
    "        articles[sku].append(item)         # append the row to the list within the sku key\n",
    "    else:\n",
    "        articles[sku].append(item)         # append as before\n",
    "\n",
    "# Match demand to inventory and update the dynamic quantities\n",
    "# pull from articles\n",
    "for d in calc_dem_date:\n",
    "    if d['article'] in articles:\n",
    "\n",
    "        for i in articles[d['article']]:\n",
    "            if d['demand_date'] < i['expiration_date']:\n",
    "                \n",
    "                if d['unmet_demand'] >= i['remaining_quantity']:    # if the unmet > remaining      |   (if d > i)\n",
    "                    \n",
    "                    d['met_demand'] += i['remaining_quantity']\n",
    "                    d['unmet_demand'] -= i['remaining_quantity']\n",
    "                    i['consumed_quantity'] += i['remaining_quantity']\n",
    "                    i['remaining_quantity'] = 0\n",
    "                                \n",
    "                else:                                               # if the remaining > unmet      |   (if i > d)\n",
    "                    d['met_demand'] += d['unmet_demand']\n",
    "                    i['remaining_quantity'] -= d['unmet_demand']\n",
    "                    i['consumed_quantity'] += d['unmet_demand']\n",
    "                    d['unmet_demand'] = 0\n",
    "            \n",
    "import pandas as pd\n",
    "inventory_calc = pd.DataFrame(calc_inv_date)\n",
    "demand_calc = pd.DataFrame(calc_dem_date)\n",
    "display(inventory_calc)\n",
    "display(demand_calc)"
   ]
  },
  {
   "cell_type": "markdown",
   "metadata": {},
   "source": [
    "### Speed test\n",
    "Let's now create large datasets to test the speed of each loop and compare them."
   ]
  },
  {
   "cell_type": "markdown",
   "metadata": {},
   "source": [
    "For simplicity, we are going to store 4 functions in the python file called `utils.py`:\n",
    "1. the slow function with name `fefo_calc_opt`.\n",
    "2. the optimised function with name `fefo_calc_slo`\n",
    "3. `gen_inventory` a generator of random inventory lines that takes two arguments: `number_of_lines` and `range` for the randint method\n",
    "4. `gen_demand` a generator of random demand, also with a parameter for `number_of_lines` and one for the `range`."
   ]
  },
  {
   "cell_type": "markdown",
   "metadata": {},
   "source": [
    "if you would like to see all these functions, feel free to take a look at the utils.py. But here We want to concentrate on the speed of the two models. "
   ]
  },
  {
   "cell_type": "markdown",
   "metadata": {},
   "source": [
    "Let's import the functions, generate **large** datasets"
   ]
  },
  {
   "cell_type": "code",
   "execution_count": 24,
   "metadata": {},
   "outputs": [],
   "source": [
    "# import the 4 functions\n",
    "from utils import gen_inventory, gen_demand, fefo_calc_opt, fefo_calc_slo\n",
    "\n",
    "random_inventory = gen_inventory(10_000,1_000) # 100k lines and 1k random codes in total\n",
    "random_demand = gen_demand(5_000,1_000) # 50K lines of demand with the same 1k random codes"
   ]
  },
  {
   "cell_type": "code",
   "execution_count": 25,
   "metadata": {},
   "outputs": [
    {
     "data": {
      "text/html": [
       "<div>\n",
       "<style scoped>\n",
       "    .dataframe tbody tr th:only-of-type {\n",
       "        vertical-align: middle;\n",
       "    }\n",
       "\n",
       "    .dataframe tbody tr th {\n",
       "        vertical-align: top;\n",
       "    }\n",
       "\n",
       "    .dataframe thead th {\n",
       "        text-align: right;\n",
       "    }\n",
       "</style>\n",
       "<table border=\"1\" class=\"dataframe\">\n",
       "  <thead>\n",
       "    <tr style=\"text-align: right;\">\n",
       "      <th></th>\n",
       "      <th>article</th>\n",
       "      <th>quantity</th>\n",
       "      <th>expiration_date</th>\n",
       "      <th>remaining_quantity</th>\n",
       "      <th>consumed_quantity</th>\n",
       "    </tr>\n",
       "  </thead>\n",
       "  <tbody>\n",
       "    <tr>\n",
       "      <th>0</th>\n",
       "      <td>a451</td>\n",
       "      <td>56777</td>\n",
       "      <td>2025-01-02</td>\n",
       "      <td>56777</td>\n",
       "      <td>0</td>\n",
       "    </tr>\n",
       "    <tr>\n",
       "      <th>1</th>\n",
       "      <td>a649</td>\n",
       "      <td>94033</td>\n",
       "      <td>2025-01-02</td>\n",
       "      <td>94033</td>\n",
       "      <td>0</td>\n",
       "    </tr>\n",
       "    <tr>\n",
       "      <th>2</th>\n",
       "      <td>a882</td>\n",
       "      <td>38735</td>\n",
       "      <td>2025-01-02</td>\n",
       "      <td>38735</td>\n",
       "      <td>0</td>\n",
       "    </tr>\n",
       "    <tr>\n",
       "      <th>3</th>\n",
       "      <td>a349</td>\n",
       "      <td>4923</td>\n",
       "      <td>2025-01-02</td>\n",
       "      <td>4923</td>\n",
       "      <td>0</td>\n",
       "    </tr>\n",
       "    <tr>\n",
       "      <th>4</th>\n",
       "      <td>a711</td>\n",
       "      <td>80012</td>\n",
       "      <td>2025-01-02</td>\n",
       "      <td>80012</td>\n",
       "      <td>0</td>\n",
       "    </tr>\n",
       "    <tr>\n",
       "      <th>...</th>\n",
       "      <td>...</td>\n",
       "      <td>...</td>\n",
       "      <td>...</td>\n",
       "      <td>...</td>\n",
       "      <td>...</td>\n",
       "    </tr>\n",
       "    <tr>\n",
       "      <th>9995</th>\n",
       "      <td>a753</td>\n",
       "      <td>51208</td>\n",
       "      <td>2026-01-02</td>\n",
       "      <td>0</td>\n",
       "      <td>51208</td>\n",
       "    </tr>\n",
       "    <tr>\n",
       "      <th>9996</th>\n",
       "      <td>a720</td>\n",
       "      <td>11682</td>\n",
       "      <td>2026-01-02</td>\n",
       "      <td>11682</td>\n",
       "      <td>0</td>\n",
       "    </tr>\n",
       "    <tr>\n",
       "      <th>9997</th>\n",
       "      <td>a555</td>\n",
       "      <td>71776</td>\n",
       "      <td>2026-01-02</td>\n",
       "      <td>29909</td>\n",
       "      <td>41867</td>\n",
       "    </tr>\n",
       "    <tr>\n",
       "      <th>9998</th>\n",
       "      <td>a695</td>\n",
       "      <td>55169</td>\n",
       "      <td>2026-01-02</td>\n",
       "      <td>55169</td>\n",
       "      <td>0</td>\n",
       "    </tr>\n",
       "    <tr>\n",
       "      <th>9999</th>\n",
       "      <td>a24</td>\n",
       "      <td>46138</td>\n",
       "      <td>2026-01-02</td>\n",
       "      <td>0</td>\n",
       "      <td>46138</td>\n",
       "    </tr>\n",
       "  </tbody>\n",
       "</table>\n",
       "<p>10000 rows × 5 columns</p>\n",
       "</div>"
      ],
      "text/plain": [
       "     article  quantity expiration_date  remaining_quantity  consumed_quantity\n",
       "0       a451     56777      2025-01-02               56777                  0\n",
       "1       a649     94033      2025-01-02               94033                  0\n",
       "2       a882     38735      2025-01-02               38735                  0\n",
       "3       a349      4923      2025-01-02                4923                  0\n",
       "4       a711     80012      2025-01-02               80012                  0\n",
       "...      ...       ...             ...                 ...                ...\n",
       "9995    a753     51208      2026-01-02                   0              51208\n",
       "9996    a720     11682      2026-01-02               11682                  0\n",
       "9997    a555     71776      2026-01-02               29909              41867\n",
       "9998    a695     55169      2026-01-02               55169                  0\n",
       "9999     a24     46138      2026-01-02                   0              46138\n",
       "\n",
       "[10000 rows x 5 columns]"
      ]
     },
     "execution_count": 25,
     "metadata": {},
     "output_type": "execute_result"
    }
   ],
   "source": [
    "# run the first model. \n",
    "fefo_calc_opt(random_demand, random_inventory) # 100K inventory and 50K demand lines -> 0.9 seconds"
   ]
  },
  {
   "cell_type": "code",
   "execution_count": 26,
   "metadata": {},
   "outputs": [
    {
     "data": {
      "text/html": [
       "<div>\n",
       "<style scoped>\n",
       "    .dataframe tbody tr th:only-of-type {\n",
       "        vertical-align: middle;\n",
       "    }\n",
       "\n",
       "    .dataframe tbody tr th {\n",
       "        vertical-align: top;\n",
       "    }\n",
       "\n",
       "    .dataframe thead th {\n",
       "        text-align: right;\n",
       "    }\n",
       "</style>\n",
       "<table border=\"1\" class=\"dataframe\">\n",
       "  <thead>\n",
       "    <tr style=\"text-align: right;\">\n",
       "      <th></th>\n",
       "      <th>article</th>\n",
       "      <th>quantity</th>\n",
       "      <th>expiration_date</th>\n",
       "      <th>remaining_quantity</th>\n",
       "      <th>consumed_quantity</th>\n",
       "    </tr>\n",
       "  </thead>\n",
       "  <tbody>\n",
       "    <tr>\n",
       "      <th>0</th>\n",
       "      <td>a451</td>\n",
       "      <td>56777</td>\n",
       "      <td>2025-01-02</td>\n",
       "      <td>56777</td>\n",
       "      <td>0</td>\n",
       "    </tr>\n",
       "    <tr>\n",
       "      <th>1</th>\n",
       "      <td>a649</td>\n",
       "      <td>94033</td>\n",
       "      <td>2025-01-02</td>\n",
       "      <td>94033</td>\n",
       "      <td>0</td>\n",
       "    </tr>\n",
       "    <tr>\n",
       "      <th>2</th>\n",
       "      <td>a882</td>\n",
       "      <td>38735</td>\n",
       "      <td>2025-01-02</td>\n",
       "      <td>38735</td>\n",
       "      <td>0</td>\n",
       "    </tr>\n",
       "    <tr>\n",
       "      <th>3</th>\n",
       "      <td>a349</td>\n",
       "      <td>4923</td>\n",
       "      <td>2025-01-02</td>\n",
       "      <td>4923</td>\n",
       "      <td>0</td>\n",
       "    </tr>\n",
       "    <tr>\n",
       "      <th>4</th>\n",
       "      <td>a711</td>\n",
       "      <td>80012</td>\n",
       "      <td>2025-01-02</td>\n",
       "      <td>80012</td>\n",
       "      <td>0</td>\n",
       "    </tr>\n",
       "    <tr>\n",
       "      <th>...</th>\n",
       "      <td>...</td>\n",
       "      <td>...</td>\n",
       "      <td>...</td>\n",
       "      <td>...</td>\n",
       "      <td>...</td>\n",
       "    </tr>\n",
       "    <tr>\n",
       "      <th>9995</th>\n",
       "      <td>a753</td>\n",
       "      <td>51208</td>\n",
       "      <td>2026-01-02</td>\n",
       "      <td>0</td>\n",
       "      <td>51208</td>\n",
       "    </tr>\n",
       "    <tr>\n",
       "      <th>9996</th>\n",
       "      <td>a720</td>\n",
       "      <td>11682</td>\n",
       "      <td>2026-01-02</td>\n",
       "      <td>11682</td>\n",
       "      <td>0</td>\n",
       "    </tr>\n",
       "    <tr>\n",
       "      <th>9997</th>\n",
       "      <td>a555</td>\n",
       "      <td>71776</td>\n",
       "      <td>2026-01-02</td>\n",
       "      <td>29909</td>\n",
       "      <td>41867</td>\n",
       "    </tr>\n",
       "    <tr>\n",
       "      <th>9998</th>\n",
       "      <td>a695</td>\n",
       "      <td>55169</td>\n",
       "      <td>2026-01-02</td>\n",
       "      <td>55169</td>\n",
       "      <td>0</td>\n",
       "    </tr>\n",
       "    <tr>\n",
       "      <th>9999</th>\n",
       "      <td>a24</td>\n",
       "      <td>46138</td>\n",
       "      <td>2026-01-02</td>\n",
       "      <td>0</td>\n",
       "      <td>46138</td>\n",
       "    </tr>\n",
       "  </tbody>\n",
       "</table>\n",
       "<p>10000 rows × 5 columns</p>\n",
       "</div>"
      ],
      "text/plain": [
       "     article  quantity expiration_date  remaining_quantity  consumed_quantity\n",
       "0       a451     56777      2025-01-02               56777                  0\n",
       "1       a649     94033      2025-01-02               94033                  0\n",
       "2       a882     38735      2025-01-02               38735                  0\n",
       "3       a349      4923      2025-01-02                4923                  0\n",
       "4       a711     80012      2025-01-02               80012                  0\n",
       "...      ...       ...             ...                 ...                ...\n",
       "9995    a753     51208      2026-01-02                   0              51208\n",
       "9996    a720     11682      2026-01-02               11682                  0\n",
       "9997    a555     71776      2026-01-02               29909              41867\n",
       "9998    a695     55169      2026-01-02               55169                  0\n",
       "9999     a24     46138      2026-01-02                   0              46138\n",
       "\n",
       "[10000 rows x 5 columns]"
      ]
     },
     "execution_count": 26,
     "metadata": {},
     "output_type": "execute_result"
    }
   ],
   "source": [
    "# run the second model\n",
    "fefo_calc_slo(random_demand, random_inventory) # 100K inventory and 50K demand lines -> 4 minutes and 28 seconds"
   ]
  },
  {
   "cell_type": "markdown",
   "metadata": {},
   "source": [
    "## Building Sets to Test all Cases"
   ]
  },
  {
   "cell_type": "markdown",
   "metadata": {},
   "source": [
    "Now that we have stored our functions neatly we can proceed to test some cases. This is to make 100% sure that the model is behaving just like we wanted it to. \n",
    "Let's come up with cases where we are going to test that it returns the predicted result. For this we need to define a set of input lines and manually calculate the output, which then we are going to compare to our model's. "
   ]
  },
  {
   "cell_type": "markdown",
   "metadata": {},
   "source": [
    "### Set of test cases\n",
    "#### 1. duplicate demand lines"
   ]
  },
  {
   "cell_type": "code",
   "execution_count": 2,
   "metadata": {},
   "outputs": [
    {
     "data": {
      "text/html": [
       "<div>\n",
       "<style scoped>\n",
       "    .dataframe tbody tr th:only-of-type {\n",
       "        vertical-align: middle;\n",
       "    }\n",
       "\n",
       "    .dataframe tbody tr th {\n",
       "        vertical-align: top;\n",
       "    }\n",
       "\n",
       "    .dataframe thead th {\n",
       "        text-align: right;\n",
       "    }\n",
       "</style>\n",
       "<table border=\"1\" class=\"dataframe\">\n",
       "  <thead>\n",
       "    <tr style=\"text-align: right;\">\n",
       "      <th></th>\n",
       "      <th>article</th>\n",
       "      <th>quantity</th>\n",
       "      <th>demand_date</th>\n",
       "      <th>met_demand</th>\n",
       "      <th>unmet_demand</th>\n",
       "    </tr>\n",
       "  </thead>\n",
       "  <tbody>\n",
       "    <tr>\n",
       "      <th>0</th>\n",
       "      <td>apple</td>\n",
       "      <td>30</td>\n",
       "      <td>2025-01-12</td>\n",
       "      <td>30</td>\n",
       "      <td>0</td>\n",
       "    </tr>\n",
       "    <tr>\n",
       "      <th>1</th>\n",
       "      <td>apple</td>\n",
       "      <td>30</td>\n",
       "      <td>2025-01-12</td>\n",
       "      <td>30</td>\n",
       "      <td>0</td>\n",
       "    </tr>\n",
       "    <tr>\n",
       "      <th>2</th>\n",
       "      <td>apple</td>\n",
       "      <td>30</td>\n",
       "      <td>2025-01-12</td>\n",
       "      <td>10</td>\n",
       "      <td>20</td>\n",
       "    </tr>\n",
       "  </tbody>\n",
       "</table>\n",
       "</div>"
      ],
      "text/plain": [
       "  article  quantity demand_date  met_demand  unmet_demand\n",
       "0   apple        30  2025-01-12          30             0\n",
       "1   apple        30  2025-01-12          30             0\n",
       "2   apple        30  2025-01-12          10            20"
      ]
     },
     "metadata": {},
     "output_type": "display_data"
    },
    {
     "data": {
      "text/html": [
       "<div>\n",
       "<style scoped>\n",
       "    .dataframe tbody tr th:only-of-type {\n",
       "        vertical-align: middle;\n",
       "    }\n",
       "\n",
       "    .dataframe tbody tr th {\n",
       "        vertical-align: top;\n",
       "    }\n",
       "\n",
       "    .dataframe thead th {\n",
       "        text-align: right;\n",
       "    }\n",
       "</style>\n",
       "<table border=\"1\" class=\"dataframe\">\n",
       "  <thead>\n",
       "    <tr style=\"text-align: right;\">\n",
       "      <th></th>\n",
       "      <th>article</th>\n",
       "      <th>quantity</th>\n",
       "      <th>expiration_date</th>\n",
       "      <th>remaining_quantity</th>\n",
       "      <th>consumed_quantity</th>\n",
       "    </tr>\n",
       "  </thead>\n",
       "  <tbody>\n",
       "    <tr>\n",
       "      <th>0</th>\n",
       "      <td>apple</td>\n",
       "      <td>70</td>\n",
       "      <td>2025-01-30</td>\n",
       "      <td>0</td>\n",
       "      <td>70</td>\n",
       "    </tr>\n",
       "  </tbody>\n",
       "</table>\n",
       "</div>"
      ],
      "text/plain": [
       "  article  quantity expiration_date  remaining_quantity  consumed_quantity\n",
       "0   apple        70      2025-01-30                   0                 70"
      ]
     },
     "metadata": {},
     "output_type": "display_data"
    }
   ],
   "source": [
    "from utils import fefo_calc_opt\n",
    "import pandas as pd\n",
    "\n",
    "demand = [\n",
    "    {\"article\": \"apple\", \"quantity\": 30, \"demand_date\": \"2025-01-12\"},     \n",
    "    {\"article\": \"apple\", \"quantity\": 30, \"demand_date\": \"2025-01-12\"},      \n",
    "    {\"article\": \"apple\", \"quantity\": 30, \"demand_date\": \"2025-01-12\"}]\n",
    "inventory = [\n",
    "    {\"article\": \"apple\", \"quantity\": 70, \"expiration_date\": \"2025-01-30\"}]\n",
    "\n",
    "d, i = fefo_calc_opt(demand, inventory)\n",
    "display(d)\n",
    "display(i)\n",
    "\n",
    "# CHECK!\n",
    "# All values of remaining, consumed, med and unmet quantities are correctly processed"
   ]
  },
  {
   "cell_type": "markdown",
   "metadata": {},
   "source": [
    "#### 2. demand that has no inventory  -> Shortages\n",
    "#### 3. demand that has only expiring inventory -> Expiration"
   ]
  },
  {
   "cell_type": "code",
   "execution_count": 6,
   "metadata": {},
   "outputs": [
    {
     "data": {
      "text/html": [
       "<div>\n",
       "<style scoped>\n",
       "    .dataframe tbody tr th:only-of-type {\n",
       "        vertical-align: middle;\n",
       "    }\n",
       "\n",
       "    .dataframe tbody tr th {\n",
       "        vertical-align: top;\n",
       "    }\n",
       "\n",
       "    .dataframe thead th {\n",
       "        text-align: right;\n",
       "    }\n",
       "</style>\n",
       "<table border=\"1\" class=\"dataframe\">\n",
       "  <thead>\n",
       "    <tr style=\"text-align: right;\">\n",
       "      <th></th>\n",
       "      <th>article</th>\n",
       "      <th>quantity</th>\n",
       "      <th>demand_date</th>\n",
       "      <th>met_demand</th>\n",
       "      <th>unmet_demand</th>\n",
       "    </tr>\n",
       "  </thead>\n",
       "  <tbody>\n",
       "    <tr>\n",
       "      <th>0</th>\n",
       "      <td>kiwi</td>\n",
       "      <td>30</td>\n",
       "      <td>2025-01-12</td>\n",
       "      <td>0</td>\n",
       "      <td>30</td>\n",
       "    </tr>\n",
       "    <tr>\n",
       "      <th>1</th>\n",
       "      <td>apple</td>\n",
       "      <td>30</td>\n",
       "      <td>2025-01-12</td>\n",
       "      <td>0</td>\n",
       "      <td>30</td>\n",
       "    </tr>\n",
       "    <tr>\n",
       "      <th>2</th>\n",
       "      <td>apple</td>\n",
       "      <td>30</td>\n",
       "      <td>2025-01-12</td>\n",
       "      <td>0</td>\n",
       "      <td>30</td>\n",
       "    </tr>\n",
       "  </tbody>\n",
       "</table>\n",
       "</div>"
      ],
      "text/plain": [
       "  article  quantity demand_date  met_demand  unmet_demand\n",
       "0    kiwi        30  2025-01-12           0            30\n",
       "1   apple        30  2025-01-12           0            30\n",
       "2   apple        30  2025-01-12           0            30"
      ]
     },
     "metadata": {},
     "output_type": "display_data"
    },
    {
     "data": {
      "text/html": [
       "<div>\n",
       "<style scoped>\n",
       "    .dataframe tbody tr th:only-of-type {\n",
       "        vertical-align: middle;\n",
       "    }\n",
       "\n",
       "    .dataframe tbody tr th {\n",
       "        vertical-align: top;\n",
       "    }\n",
       "\n",
       "    .dataframe thead th {\n",
       "        text-align: right;\n",
       "    }\n",
       "</style>\n",
       "<table border=\"1\" class=\"dataframe\">\n",
       "  <thead>\n",
       "    <tr style=\"text-align: right;\">\n",
       "      <th></th>\n",
       "      <th>article</th>\n",
       "      <th>quantity</th>\n",
       "      <th>expiration_date</th>\n",
       "      <th>remaining_quantity</th>\n",
       "      <th>consumed_quantity</th>\n",
       "    </tr>\n",
       "  </thead>\n",
       "  <tbody>\n",
       "    <tr>\n",
       "      <th>0</th>\n",
       "      <td>apple</td>\n",
       "      <td>70</td>\n",
       "      <td>2025-01-01</td>\n",
       "      <td>70</td>\n",
       "      <td>0</td>\n",
       "    </tr>\n",
       "  </tbody>\n",
       "</table>\n",
       "</div>"
      ],
      "text/plain": [
       "  article  quantity expiration_date  remaining_quantity  consumed_quantity\n",
       "0   apple        70      2025-01-01                  70                  0"
      ]
     },
     "metadata": {},
     "output_type": "display_data"
    }
   ],
   "source": [
    "demand = [\n",
    "    {\"article\": \"kiwi\", \"quantity\": 30, \"demand_date\": \"2025-01-12\"},     \n",
    "    {\"article\": \"apple\", \"quantity\": 30, \"demand_date\": \"2025-01-12\"},      \n",
    "    {\"article\": \"apple\", \"quantity\": 30, \"demand_date\": \"2025-01-12\"}]\n",
    "inventory = [\n",
    "    {\"article\": \"apple\", \"quantity\": 70, \"expiration_date\": \"2025-01-01\"}]\n",
    "\n",
    "d, i = fefo_calc_opt(demand, inventory)\n",
    "display(d)\n",
    "display(i)\n",
    "\n",
    "# CHECK!\n",
    "# All values look good: all demand is unmet (either because of expiration or shortages) "
   ]
  },
  {
   "cell_type": "markdown",
   "metadata": {},
   "source": [
    "One aspect that we notice here is that we don't have a unified view. For example, in this case 'kiwi' only appears\n",
    "on the demand table, due to no inventory being there. At the same time that we have 70 apples expired we only know \n",
    "from the inventory table. For the purpose of making this a useful tool for ops managers or stakeholders, we should create a single source of truth to rely on. We will work on this later."
   ]
  },
  {
   "cell_type": "markdown",
   "metadata": {},
   "source": [
    "#### 4. Inventory that is split allocated to several demand lines\n",
    "#### 5. Demand that is spit across inventory lines"
   ]
  },
  {
   "cell_type": "code",
   "execution_count": 5,
   "metadata": {},
   "outputs": [
    {
     "data": {
      "text/html": [
       "<div>\n",
       "<style scoped>\n",
       "    .dataframe tbody tr th:only-of-type {\n",
       "        vertical-align: middle;\n",
       "    }\n",
       "\n",
       "    .dataframe tbody tr th {\n",
       "        vertical-align: top;\n",
       "    }\n",
       "\n",
       "    .dataframe thead th {\n",
       "        text-align: right;\n",
       "    }\n",
       "</style>\n",
       "<table border=\"1\" class=\"dataframe\">\n",
       "  <thead>\n",
       "    <tr style=\"text-align: right;\">\n",
       "      <th></th>\n",
       "      <th>article</th>\n",
       "      <th>quantity</th>\n",
       "      <th>demand_date</th>\n",
       "      <th>met_demand</th>\n",
       "      <th>unmet_demand</th>\n",
       "    </tr>\n",
       "  </thead>\n",
       "  <tbody>\n",
       "    <tr>\n",
       "      <th>0</th>\n",
       "      <td>banana</td>\n",
       "      <td>30</td>\n",
       "      <td>2025-01-12</td>\n",
       "      <td>30</td>\n",
       "      <td>0</td>\n",
       "    </tr>\n",
       "    <tr>\n",
       "      <th>1</th>\n",
       "      <td>banana</td>\n",
       "      <td>30</td>\n",
       "      <td>2025-01-15</td>\n",
       "      <td>30</td>\n",
       "      <td>0</td>\n",
       "    </tr>\n",
       "    <tr>\n",
       "      <th>2</th>\n",
       "      <td>banana</td>\n",
       "      <td>30</td>\n",
       "      <td>2025-01-18</td>\n",
       "      <td>30</td>\n",
       "      <td>0</td>\n",
       "    </tr>\n",
       "  </tbody>\n",
       "</table>\n",
       "</div>"
      ],
      "text/plain": [
       "  article  quantity demand_date  met_demand  unmet_demand\n",
       "0  banana        30  2025-01-12          30             0\n",
       "1  banana        30  2025-01-15          30             0\n",
       "2  banana        30  2025-01-18          30             0"
      ]
     },
     "metadata": {},
     "output_type": "display_data"
    },
    {
     "data": {
      "text/html": [
       "<div>\n",
       "<style scoped>\n",
       "    .dataframe tbody tr th:only-of-type {\n",
       "        vertical-align: middle;\n",
       "    }\n",
       "\n",
       "    .dataframe tbody tr th {\n",
       "        vertical-align: top;\n",
       "    }\n",
       "\n",
       "    .dataframe thead th {\n",
       "        text-align: right;\n",
       "    }\n",
       "</style>\n",
       "<table border=\"1\" class=\"dataframe\">\n",
       "  <thead>\n",
       "    <tr style=\"text-align: right;\">\n",
       "      <th></th>\n",
       "      <th>article</th>\n",
       "      <th>quantity</th>\n",
       "      <th>expiration_date</th>\n",
       "      <th>remaining_quantity</th>\n",
       "      <th>consumed_quantity</th>\n",
       "    </tr>\n",
       "  </thead>\n",
       "  <tbody>\n",
       "    <tr>\n",
       "      <th>0</th>\n",
       "      <td>banana</td>\n",
       "      <td>10</td>\n",
       "      <td>2025-01-13</td>\n",
       "      <td>0</td>\n",
       "      <td>10</td>\n",
       "    </tr>\n",
       "    <tr>\n",
       "      <th>1</th>\n",
       "      <td>banana</td>\n",
       "      <td>60</td>\n",
       "      <td>2025-01-20</td>\n",
       "      <td>0</td>\n",
       "      <td>60</td>\n",
       "    </tr>\n",
       "    <tr>\n",
       "      <th>2</th>\n",
       "      <td>banana</td>\n",
       "      <td>20</td>\n",
       "      <td>2025-01-20</td>\n",
       "      <td>0</td>\n",
       "      <td>20</td>\n",
       "    </tr>\n",
       "  </tbody>\n",
       "</table>\n",
       "</div>"
      ],
      "text/plain": [
       "  article  quantity expiration_date  remaining_quantity  consumed_quantity\n",
       "0  banana        10      2025-01-13                   0                 10\n",
       "1  banana        60      2025-01-20                   0                 60\n",
       "2  banana        20      2025-01-20                   0                 20"
      ]
     },
     "metadata": {},
     "output_type": "display_data"
    }
   ],
   "source": [
    "demand = [\n",
    "    {\"article\": \"banana\", \"quantity\": 30, \"demand_date\": \"2025-01-12\"},     \n",
    "    {\"article\": \"banana\", \"quantity\": 30, \"demand_date\": \"2025-01-15\"},      \n",
    "    {\"article\": \"banana\", \"quantity\": 30, \"demand_date\": \"2025-01-18\"}]\n",
    "inventory = [\n",
    "    {\"article\": \"banana\", \"quantity\": 10, \"expiration_date\": \"2025-01-13\"},\n",
    "    {\"article\": \"banana\", \"quantity\": 60, \"expiration_date\": \"2025-01-20\"},\n",
    "    {\"article\": \"banana\", \"quantity\": 20, \"expiration_date\": \"2025-01-20\"}]\n",
    "\n",
    "d, i = fefo_calc_opt(demand, inventory)\n",
    "display(d)\n",
    "display(i)\n",
    "\n",
    "# CHECK\n",
    "# This also worked: we expected that all demand would be met leaving zero inventory, regardless of\n",
    "# the lines of the two sets intermingling along the dynamic allocation process.\n"
   ]
  },
  {
   "cell_type": "markdown",
   "metadata": {},
   "source": [
    "Another thing we notice from the above exercise is that we don't exaclty know what line has been used from the inventory lines 2 and 3. This is because they are identical and, for computational purposes they don't make a difference. However, from anoperational point of view we could norm the allocation process according to some parameters, which we must add to the pipeline. For instance, `palled_id` or `location` or `inbound_date`. This would allow us to track more closely what exactly we want to happen in the production. "
   ]
  },
  {
   "cell_type": "markdown",
   "metadata": {},
   "source": [
    "#### 6. Past demand\n",
    "Now, this is something we haven't tackled yet, so we know that the model won't be smart enough to return the correct result. But let's take a look:"
   ]
  },
  {
   "cell_type": "code",
   "execution_count": 10,
   "metadata": {},
   "outputs": [
    {
     "name": "stdout",
     "output_type": "stream",
     "text": [
      "2025-01-22\n"
     ]
    },
    {
     "data": {
      "text/html": [
       "<div>\n",
       "<style scoped>\n",
       "    .dataframe tbody tr th:only-of-type {\n",
       "        vertical-align: middle;\n",
       "    }\n",
       "\n",
       "    .dataframe tbody tr th {\n",
       "        vertical-align: top;\n",
       "    }\n",
       "\n",
       "    .dataframe thead th {\n",
       "        text-align: right;\n",
       "    }\n",
       "</style>\n",
       "<table border=\"1\" class=\"dataframe\">\n",
       "  <thead>\n",
       "    <tr style=\"text-align: right;\">\n",
       "      <th></th>\n",
       "      <th>article</th>\n",
       "      <th>quantity</th>\n",
       "      <th>demand_date</th>\n",
       "      <th>met_demand</th>\n",
       "      <th>unmet_demand</th>\n",
       "    </tr>\n",
       "  </thead>\n",
       "  <tbody>\n",
       "    <tr>\n",
       "      <th>0</th>\n",
       "      <td>banana</td>\n",
       "      <td>30</td>\n",
       "      <td>2025-01-12</td>\n",
       "      <td>10</td>\n",
       "      <td>20</td>\n",
       "    </tr>\n",
       "  </tbody>\n",
       "</table>\n",
       "</div>"
      ],
      "text/plain": [
       "  article  quantity demand_date  met_demand  unmet_demand\n",
       "0  banana        30  2025-01-12          10            20"
      ]
     },
     "metadata": {},
     "output_type": "display_data"
    }
   ],
   "source": [
    "from datetime import date\n",
    "print(date.today())\n",
    "demand = [\n",
    "    {\"article\": \"banana\", \"quantity\": 30, \"demand_date\": \"2025-01-12\"}]\n",
    "inventory = [\n",
    "    {\"article\": \"banana\", \"quantity\": 10, \"expiration_date\": \"2025-01-13\"}]\n",
    "\n",
    "d, i = fefo_calc_opt(demand, inventory)\n",
    "display(d)\n",
    "\n",
    "# The match checks, but it is strange that we could allocate past demand to expired inventory, even though the dates made sense from a relative point of view. "
   ]
  },
  {
   "cell_type": "markdown",
   "metadata": {},
   "source": [
    "Takeaway here is that the model accepts relative date handling, but is not sensible to the actual date. \n",
    "I take this to be a feature, because, in fact, production could process past demand, in which case production is _late_. \n",
    "How I would tackle this problem is by building a data ingestion mechanism that runs the check: 'is_past', and returns `True` or `False`. In other words I would shift the problem to an earlier stage of the data pipeline: the importing of data from the database. Here we could select only future demand, e.g.\n",
    "Apart from this check, I would leave the model capable of handling past demand freely."
   ]
  },
  {
   "cell_type": "markdown",
   "metadata": {},
   "source": [
    "### Tackling issues one by one\n",
    "\n",
    "Though we have not yet found computational issues, we came up with a list of improvements for the output:\n",
    "- output a single source of truth, merging inventory and demand information in one view.\n",
    "- introduce additional identifiers for the physical goods (e.g. `pallet_id`) and bring this information through to the output\n",
    "- Another idea: costify lines. "
   ]
  },
  {
   "cell_type": "markdown",
   "metadata": {},
   "source": []
  },
  {
   "cell_type": "code",
   "execution_count": null,
   "metadata": {},
   "outputs": [],
   "source": []
  },
  {
   "cell_type": "markdown",
   "metadata": {},
   "source": [
    "Let's assume care about 'pallet id'. So we want to make sure that IDs with lower values go into production first, in case there is a duplicate line of same-article, same-exipration_date. \n",
    "The first thing we have to do after adding the `pal_id` key-value pair to our Inventory set, is to sort the inventory so that it takes the lines in the desired order. "
   ]
  },
  {
   "cell_type": "code",
   "execution_count": 28,
   "metadata": {},
   "outputs": [
    {
     "name": "stdout",
     "output_type": "stream",
     "text": [
      "{'article': 'banana', 'quantity': 20, 'expiration_date': '2025-01-20', 'pal_id': 4}\n",
      "{'article': 'banana', 'quantity': 60, 'expiration_date': '2025-01-20', 'pal_id': 8}\n",
      "{'article': 'banana', 'quantity': 10, 'expiration_date': '2025-01-30', 'pal_id': 3}\n"
     ]
    }
   ],
   "source": [
    "# Introduce Pallet IDs to the Inventory lines\n",
    "inventory = [\n",
    "    {\"article\": \"banana\", \"quantity\": 10, \"expiration_date\": \"2025-01-30\", \"pal_id\": 3},\n",
    "    {\"article\": \"banana\", \"quantity\": 60, \"expiration_date\": \"2025-01-20\", \"pal_id\": 8},\n",
    "    {\"article\": \"banana\", \"quantity\": 20, \"expiration_date\": \"2025-01-20\", \"pal_id\": 4}]\n",
    "\n",
    "# Add a sorting parameter to the function \n",
    "calc_inv_date = sorted(inventory, key=lambda logic:(logic['expiration_date'], logic['pal_id']))\n",
    "\n",
    "# Test the desired result is generated\n",
    "for i in calc_inv_date:\n",
    "    print(i)\n",
    "\n",
    "# CHECK\n",
    "# This is what we wanted: the first sorting method remains the expiration date (FEFO), and the second is the pallet ID.\n",
    "# This is an arbitrary choice, of course, and it should be adapted to whichever is the desired logic in the unit. "
   ]
  },
  {
   "cell_type": "code",
   "execution_count": null,
   "metadata": {},
   "outputs": [],
   "source": []
  }
 ],
 "metadata": {
  "kernelspec": {
   "display_name": "base",
   "language": "python",
   "name": "python3"
  },
  "language_info": {
   "codemirror_mode": {
    "name": "ipython",
    "version": 3
   },
   "file_extension": ".py",
   "mimetype": "text/x-python",
   "name": "python",
   "nbconvert_exporter": "python",
   "pygments_lexer": "ipython3",
   "version": "3.12.7"
  }
 },
 "nbformat": 4,
 "nbformat_minor": 2
}
