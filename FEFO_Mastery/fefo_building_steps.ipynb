{
 "cells": [
  {
   "cell_type": "markdown",
   "metadata": {},
   "source": [
    "In this Jupyter Notebook we want to write a comprehensive script that allows us to tackle inventory management strategy called FEFO, First Expiry First Out."
   ]
  },
  {
   "cell_type": "markdown",
   "metadata": {},
   "source": [
    "Let's start with the most basic situation, we have a dictionary of articles and quantities called \"Inventory\" and we want to iterate through it so to print the data it contains"
   ]
  },
  {
   "cell_type": "code",
   "execution_count": null,
   "metadata": {},
   "outputs": [],
   "source": [
    "# Create a variable called `inventory` and store some articles and quantities in it\n",
    "inventory = {\n",
    "    \"apple\": 100,\n",
    "    \"banana\": 50,\n",
    "    \"orange\": 75\n",
    "}\n",
    "# Write a loop to print the article and its quantity.\n",
    "# We'll use the items() method to access the dictionary..\n",
    "for k, v in inventory.items():\n",
    "    print(k, v)\n"
   ]
  },
  {
   "cell_type": "markdown",
   "metadata": {},
   "source": [
    "Now we will build upon the `dictionary` object.\n",
    "Tipically inventory data is stored in relational databases and its format is perfectly represented by that of a `list` of `dictionaries`. Each `dictionary` contains `keys` like 'article' or 'sku_code', 'quantity', 'description' and so on."
   ]
  },
  {
   "cell_type": "code",
   "execution_count": null,
   "metadata": {},
   "outputs": [],
   "source": [
    "# Build a dictionary with three basic data points: 'article', 'quantity' and 'expiration_date'\n",
    "inventory = [\n",
    "    {\"article\": \"apple\", \"quantity\": 100, \"expiration_date\": \"2025-01-15\"},\n",
    "    {\"article\": \"banana\", \"quantity\": 50, \"expiration_date\": \"2025-01-10\"},\n",
    "    {\"article\": \"orange\", \"quantity\": 75, \"expiration_date\": \"2025-01-20\"}\n",
    "]\n",
    "\n",
    "# Learn to iterate through the dictionary accessing each entry or row and thus each `key - value` pair\n",
    "for entry in inventory:\n",
    "    print(f\"{entry['article']}: {entry['quantity']}, expires on {entry['expiration_date']}\")"
   ]
  },
  {
   "cell_type": "markdown",
   "metadata": {},
   "source": [
    "It is very important at this point that we step out of **Python** and think of the **logic** that we want to implement. Here it goes: \n",
    "1. we want to allocate existing inventory to a demand (we haven't yet dealt with demand, but we'll do so very soon) _in order of expiry date_ \n",
    "2. we want to dinamically return the remaining inventory after it has been allocated and consumed by production"
   ]
  },
  {
   "cell_type": "markdown",
   "metadata": {},
   "source": [
    "Let's tackle 1. Ordering the inventory by expiration date. \n",
    "We will do so by using a lamda function to sort the inventory. We will also assign the sorted inventory to a new variable which will allow us to keep track of all steps of the way."
   ]
  },
  {
   "cell_type": "code",
   "execution_count": null,
   "metadata": {},
   "outputs": [],
   "source": [
    "# Sort Inventory by Expiration Date\n",
    "sortinv = sorted(inventory, key=lambda expi: expi['expiration_date'])\n",
    "\n",
    "print(\"Sorted Inventory: \\n\")\n",
    "for entry in sortinv:\n",
    "    print(f\"{entry['article']}: {entry['quantity']}, expires on {entry['expiration_date']}\")"
   ]
  },
  {
   "cell_type": "markdown",
   "metadata": {},
   "source": [
    "We will now build the demand dataset with a very simple list of two items. \n",
    "We will keep the same exact structure of the Inventory, i.e. a list of dictionaries, with keys 'article', 'quantity' and a date that tells us when the article is needed by production."
   ]
  },
  {
   "cell_type": "code",
   "execution_count": 6,
   "metadata": {},
   "outputs": [],
   "source": [
    "# Build the demand dataset\n",
    "demand = [\n",
    "    {\"article\": \"apple\", \"quantity\": 120, \"demand_date\": \"2025-01-12\"},\n",
    "    {\"article\": \"banana\", \"quantity\": 30, \"demand_date\": \"2025-01-11\"}\n",
    "]"
   ]
  },
  {
   "cell_type": "markdown",
   "metadata": {},
   "source": [
    "We will also want to order the demand by date, this is because we want to allocate the existing inventory to demand that is closer in time - for later demand lines we will have time to purchase more inventory!"
   ]
  },
  {
   "cell_type": "code",
   "execution_count": null,
   "metadata": {},
   "outputs": [],
   "source": [
    "# Sort demand by expiration date\n",
    "sortdem = sorted(demand, key=lambda demd: demd['demand_date'])\n",
    "\n",
    "print(\"Sorted Demand: \\n\")\n",
    "for requir in sortdem:\n",
    "    print(f\"{requir['article']}: {requir['quantity']}, requirement on {requir['demand_date']}\")"
   ]
  },
  {
   "cell_type": "markdown",
   "metadata": {},
   "source": [
    "Now that we have both demand and inventory in a good shape, we want to tackle the second problem, i.e. allocating the inventory to the demand and returning the remaining datasets. \n",
    "\n",
    "As this is a dinamic and iterative process we will need to use a for loop. And this procedure will essentially do the following: \n",
    "- for each line of the demand, take the first line of the inventory with corresponding article (of course we fulfill demand with the correct parts)\n",
    "- if the demand is larger than the inventory line, then subtract the inventory and reduce it to zero\n",
    "- - thus search for any other lines in the inventory that can satisfy the remaining demand\n",
    "- if the demand is less than the inventory, then make the demand zero (fulfill the demand) and store the remaining inventory \n",
    "\n",
    "For clarity purposes we will want to delete zero line quantities from the two datasets. \n",
    "Also, as before, for clarity purposes, we keep track of all steps of the way by deep-copying our datasets. "
   ]
  },
  {
   "cell_type": "code",
   "execution_count": null,
   "metadata": {},
   "outputs": [],
   "source": [
    "import copy\n",
    "calc_inventory = copy.deepcopy(sortinv)\n",
    "calc_demand = copy.deepcopy(sortdem)\n",
    "\n",
    "# Match demand with existing inventory\n",
    "for d in calc_demand:\n",
    "    for i in calc_inventory:\n",
    "        if i['article'] == d['article']:\n",
    "            if d['quantity'] >= i['quantity']:\n",
    "                d['quantity'] -= i['quantity'] # demand - inventory\n",
    "                i['quantity'] = 0 # thus save the remaining demand\n",
    "            else:\n",
    "                i['quantity'] -= d['quantity'] # inventory - demand\n",
    "                d['quantity'] = 0 # then reduce the demand to zero\n",
    "calc_demand = [d for d in calc_demand if d['quantity'] > 0]\n",
    "calc_inventory = [i for i in calc_inventory if i['quantity'] > 0]\n",
    "# Reproduce the remaining inventory\n",
    "print(\"Remaining inventory:\")\n",
    "for i in calc_inventory:\n",
    "    print(f\"{i['article']}: {i['quantity']}\")\n",
    "# Reproduce the remaining demand\n",
    "print(\"\\nRemaining demand:\")\n",
    "for i in calc_demand:\n",
    "    print(f\"{i['article']}: {i['quantity']}\")"
   ]
  },
  {
   "cell_type": "markdown",
   "metadata": {},
   "source": [
    "Once we have made sure that we are able to capture the real life scenario of allocating ordered inventory to ordered demand, we will tackle the next problem, i.e. checking for the additional condition that the inventory is not expired at the time of demand. Essentially, the case where `inventory['expiration_date'] < demand['demand_date']` represents a case where the is no available inventory. Thus we need to exclude the allocation for that case. "
   ]
  },
  {
   "cell_type": "markdown",
   "metadata": {},
   "source": [
    "We initialize our sets and want to trigger this behaviour: \n",
    "- apples: there is a demand of 120 pieces which cannot be met by the lot expiring on the 10th of January. So that quantity \"remains\" and is not allocated to production. \n",
    "- the 120 demand is satisfied using the second lot, expiring on the 30th of the same month.\n",
    "- however the subsequent demand of 30 pieces falls short of inventory, (only 130 - 120 = 10 pcs are left)"
   ]
  },
  {
   "cell_type": "code",
   "execution_count": 22,
   "metadata": {},
   "outputs": [],
   "source": [
    "# initialize sets\n",
    "demand = [\n",
    "    {\"article\": \"apple\", \"quantity\": 120, \"demand_date\": \"2025-01-12\"},\n",
    "    {\"article\": \"apple\", \"quantity\": 30, \"demand_date\": \"2025-01-15\"}]\n",
    "inventory = [\n",
    "    {\"article\": \"apple\", \"quantity\": 50, \"expiration_date\": \"2025-01-10\"}, \n",
    "    {\"article\": \"apple\", \"quantity\": 130, \"expiration_date\": \"2025-01-30\"}, \n",
    "    {\"article\": \"banana\", \"quantity\": 50, \"expiration_date\": \"2025-01-10\"}]\n",
    "\n",
    "# order by date\n",
    "sortdem = sorted(demand, key=lambda demd: demd['demand_date'])\n",
    "sortinv = sorted(inventory, key=lambda expi: expi['expiration_date'])\n",
    "\n",
    "# copy for tracking\n",
    "calc_inv_date = copy.deepcopy(sortinv)\n",
    "calc_dem_date = copy.deepcopy(sortdem)"
   ]
  },
  {
   "cell_type": "markdown",
   "metadata": {},
   "source": [
    "We add `and d['demand_date'] < i['expiration_date']` to the conditional. This will ensure proper handling of the expiration and demand dates. "
   ]
  },
  {
   "cell_type": "code",
   "execution_count": null,
   "metadata": {},
   "outputs": [],
   "source": [
    "# Match demand with existing inventory\n",
    "for d in calc_dem_date:\n",
    "    for i in calc_inv_date:\n",
    "\n",
    "        if d['article'] == i['article'] and d['demand_date'] < i['expiration_date']: # if the demand happens prior to the expiration\n",
    "            if d['quantity'] >= i['quantity']:\n",
    "                d['quantity'] -= i['quantity'] \n",
    "                i['quantity'] = 0 \n",
    "            else:\n",
    "                i['quantity'] -= d['quantity'] \n",
    "                d['quantity'] = 0 \n",
    "        # in any other case the demand is unmet (and remains) and the inventory is expired (and remains)\n",
    "    \n",
    "# delete zero quanity lines\n",
    "calc_dem_date = [d for d in calc_dem_date if d['quantity'] > 0]\n",
    "calc_inv_date = [i for i in calc_inv_date if i['quantity'] > 0]\n",
    "\n",
    "# Reproduce the remaining inventory\n",
    "print(\"Remaining inventory:\")\n",
    "for i in calc_inv_date:\n",
    "    print(f\"{i['article']}: {i['quantity']}\")\n",
    "# Reproduce the remaining demand\n",
    "print(\"\\nUnmet demand:\")\n",
    "for i in calc_dem_date:\n",
    "    print(f\"{i['article']}: {i['quantity']}\")"
   ]
  },
  {
   "cell_type": "markdown",
   "metadata": {},
   "source": [
    "In the next round of code we are going to build upon the working loop of before. What we want to achieve is more clarity about the starting quantities, the consumed quantities and the remaining quantities for each line of the inventory and each line of the demand sets. \n",
    "\n",
    "1. the first thing we need is to initialize the dictionaries adding to `'quantity'` representing the initial quantity:\n",
    "- demand set: `met_demand` and `unmet_demand`. Since we are _before_ the loop the demand met is 0 and the unmet demand is equal the the demand quantity\n",
    "- inventory set: `remaining_quantity` and `consumed_quantity`. Again, the remaining quantity is the whole, and the consumed is 0, for now. \n",
    "_De facto_ we can think of these as the **dynamic** quantities of the dataset, while the initial quantity as a static amount.\n",
    "\n",
    "2. Now we are ready to enter the loop, therefore, without touching the initial quantities, we are going to increase and decrease only the dynamic quantityes. \n",
    "\n",
    "3. At the end of the loop we will `display` the data with the help of Pandas DataFrames - which help us understand the result visually much better than plain `print` statements."
   ]
  },
  {
   "cell_type": "code",
   "execution_count": null,
   "metadata": {},
   "outputs": [],
   "source": [
    "import pandas as pd\n",
    "# initialize sets\n",
    "demand = [\n",
    "    {\"article\": \"apple\", \"quantity\": 120, \"demand_date\": \"2025-01-12\"},     # met: 120, um: 0\n",
    "    {\"article\": \"apple\", \"quantity\": 30, \"demand_date\": \"2025-01-15\"}]      # met: 10, um: 20\n",
    "inventory = [\n",
    "    {\"article\": \"apple\", \"quantity\": 50, \"expiration_date\": \"2025-01-10\"},  # c: 0, r: 50\n",
    "    {\"article\": \"apple\", \"quantity\": 130, \"expiration_date\": \"2025-01-30\"}, # c: 130, r: 0\n",
    "    {\"article\": \"banana\", \"quantity\": 50, \"expiration_date\": \"2025-01-10\"}] # c: 0, r: 50\n",
    "\n",
    "# order by date\n",
    "sortdem = sorted(demand, key=lambda demd: demd['demand_date'])\n",
    "sortinv = sorted(inventory, key=lambda expi: expi['expiration_date'])\n",
    "\n",
    "# copy for tracking\n",
    "import copy\n",
    "calc_inv_date = copy.deepcopy(sortinv)\n",
    "calc_dem_date = copy.deepcopy(sortdem)\n",
    "\n",
    "# expand sets \n",
    "for i in calc_inv_date:\n",
    "    i['remaining_quantity'] = i['quantity']\n",
    "    i['consumed_quantity'] = 0\n",
    "\n",
    "for d in calc_dem_date:\n",
    "    d['met_demand'] = 0\n",
    "    d['unmet_demand'] = d['quantity']\n",
    "\n",
    "# Match demand to inventory and update the dynamic quantities\n",
    "for d in calc_dem_date:\n",
    "   \n",
    "    for i in calc_inv_date:\n",
    "\n",
    "        if d['article'] == i['article'] and d['demand_date'] < i['expiration_date']: # if the demand happens prior to the expiration\n",
    "            \n",
    "            if d['unmet_demand'] >= i['remaining_quantity']:    # if the unmet > remaining      |   (if d > i)\n",
    "                \n",
    "                d['met_demand'] += i['remaining_quantity']      # d.met quantity -> increase by the remaining\n",
    "                d['unmet_demand'] -= i['remaining_quantity']    # set the unmet demand to zero\n",
    "                i['consumed_quantity'] += i['remaining_quantity']\n",
    "                i['remaining_quantity'] = 0                     # set the remaining to zero (move it to met quantity)\n",
    "                            \n",
    "            else:                                               # if the remaining > unmet      |   (if i > d)\n",
    "                d['met_demand'] += d['unmet_demand']            # demand met is the entire unmet demad\n",
    "                i['remaining_quantity'] -= d['unmet_demand']      # inventory remaining decrease by d.met\n",
    "                i['consumed_quantity'] += d['met_demand']       # inventory consumed is decreased by the met demand\n",
    "                d['unmet_demand'] = 0\n",
    "          \n",
    "# Display the result with Pandas\n",
    "import pandas as pd\n",
    "inventory_calc = pd.DataFrame(calc_inv_date)\n",
    "demand_calc = pd.DataFrame(calc_dem_date)\n",
    "display(inventory_calc)\n",
    "display(demand_calc)"
   ]
  },
  {
   "cell_type": "markdown",
   "metadata": {},
   "source": [
    "optimisation of the iterative work: only on the grouped articles"
   ]
  },
  {
   "cell_type": "code",
   "execution_count": null,
   "metadata": {},
   "outputs": [],
   "source": [
    "\"\"\"\n",
    "Challenge 1: Group Inventory by Article\n",
    "\n",
    "Before processing demand, group the inventory items by their article. \n",
    "This will let you access relevant inventory directly without iterating through the entire list each time.\n",
    "\n",
    "Task:\n",
    "\t1.\tCreate a dictionary where:\n",
    "\t•\tKeys are article names.\n",
    "\t•\tValues are lists of inventory records for that article.\n",
    "\n",
    "Example Input:\"\"\"\n",
    "inventory = [\n",
    "    {\"article\": \"apple\", \"quantity\": 50, \"expiration_date\": \"2025-01-10\"},\n",
    "    {\"article\": \"apple\", \"quantity\": 130, \"expiration_date\": \"2025-01-30\"},\n",
    "    {\"article\": \"banana\", \"quantity\": 50, \"expiration_date\": \"2025-01-10\"}\n",
    "]\n",
    "\n",
    "\"\"\"Expected output:\n",
    "{\n",
    "    \"apple\": [\n",
    "        {\"article\": \"apple\", \"quantity\": 50, \"expiration_date\": \"2025-01-10\"},\n",
    "        {\"article\": \"apple\", \"quantity\": 130, \"expiration_date\": \"2025-01-30\"}\n",
    "    ],\n",
    "    \"banana\": [\n",
    "        {\"article\": \"banana\", \"quantity\": 50, \"expiration_date\": \"2025-01-10\"}\n",
    "    ]\n",
    "}\"\"\"\n",
    "\n",
    "articles = {}\n",
    "for i in inventory:\n",
    "    sku = i['article']\n",
    "    if sku not in articles: \n",
    "        articles[sku] = []              # add the sku and assign it an empty list\n",
    "        articles[sku].append(i)         # append the row to the list within the sku key\n",
    "    else:\n",
    "        articles[sku].append(i)         # append as before\n",
    "\n",
    "articles"
   ]
  },
  {
   "cell_type": "code",
   "execution_count": null,
   "metadata": {},
   "outputs": [],
   "source": []
  },
  {
   "cell_type": "markdown",
   "metadata": {},
   "source": [
    "now we use the grouped inventory `article` to process the allocation"
   ]
  },
  {
   "cell_type": "code",
   "execution_count": null,
   "metadata": {},
   "outputs": [],
   "source": [
    "import pandas as pd\n",
    "# initialize sets\n",
    "demand = [\n",
    "    {\"article\": \"apple\", \"quantity\": 120, \"demand_date\": \"2025-01-12\"},     # met: 120, um: 0\n",
    "    {\"article\": \"apple\", \"quantity\": 30, \"demand_date\": \"2025-01-15\"}]      # met: 10, um: 20\n",
    "inventory = [\n",
    "    {\"article\": \"apple\", \"quantity\": 50, \"expiration_date\": \"2025-01-10\"},  # c: 0, r: 50\n",
    "    {\"article\": \"apple\", \"quantity\": 130, \"expiration_date\": \"2025-01-30\"}, # c: 130, r: 0\n",
    "    {\"article\": \"banana\", \"quantity\": 50, \"expiration_date\": \"2025-01-10\"}] # c: 0, r: 50\n",
    "\n",
    "# order by date\n",
    "sortdem = sorted(demand, key=lambda demd: demd['demand_date'])\n",
    "sortinv = sorted(inventory, key=lambda expi: expi['expiration_date'])\n",
    "\n",
    "# copy for tracking\n",
    "import copy\n",
    "calc_inv_date = copy.deepcopy(sortinv)\n",
    "calc_dem_date = copy.deepcopy(sortdem)\n",
    "\n",
    "# expand sets \n",
    "for i in calc_inv_date:\n",
    "    i['remaining_quantity'] = i['quantity']\n",
    "    i['consumed_quantity'] = 0\n",
    "\n",
    "for d in calc_dem_date:\n",
    "    d['met_demand'] = 0\n",
    "    d['unmet_demand'] = d['quantity']\n",
    "\n",
    "# Match demand with existing inventory\n",
    "# demand 120, inventory 130, remains 10\n",
    "# demand 30, remaining inventory 10 (d > i) met = 10, unmet = 30-10=20\n",
    "\n",
    "for d in calc_dem_date:\n",
    "   \n",
    "    for i in calc_inv_date:\n",
    "\n",
    "        if d['article'] == i['article'] and d['demand_date'] < i['expiration_date']: # if the demand happens prior to the expiration\n",
    "            \n",
    "            if d['unmet_demand'] >= i['remaining_quantity']:    # if the unmet > remaining      |   (if d > i)\n",
    "                \n",
    "                d['met_demand'] += i['remaining_quantity']      # d.met quantity -> increase by the remaining\n",
    "                d['unmet_demand'] -= i['remaining_quantity']    # set the unmet demand to zero\n",
    "                i['consumed_quantity'] += i['remaining_quantity']\n",
    "                i['remaining_quantity'] = 0                     # set the remaining to zero (move it to met quantity)\n",
    "                            \n",
    "            else:                                               # if the remaining > unmet      |   (if i > d)\n",
    "                d['met_demand'] += d['unmet_demand']            # demand met is the entire unmet demad\n",
    "                i['remaining_quantity'] -= d['unmet_demand']      # inventory remaining decrease by d.met\n",
    "                i['consumed_quantity'] += d['met_demand']       # inventory consumed is decreased by the met demand\n",
    "                d['unmet_demand'] = 0\n",
    "          \n",
    "import pandas as pd\n",
    "inventory_calc = pd.DataFrame(calc_inv_date)\n",
    "demand_calc = pd.DataFrame(calc_dem_date)\n",
    "display(inventory_calc)\n",
    "display(demand_calc)"
   ]
  },
  {
   "cell_type": "markdown",
   "metadata": {},
   "source": []
  }
 ],
 "metadata": {
  "kernelspec": {
   "display_name": "base",
   "language": "python",
   "name": "python3"
  },
  "language_info": {
   "codemirror_mode": {
    "name": "ipython",
    "version": 3
   },
   "file_extension": ".py",
   "mimetype": "text/x-python",
   "name": "python",
   "nbconvert_exporter": "python",
   "pygments_lexer": "ipython3",
   "version": "3.12.7"
  }
 },
 "nbformat": 4,
 "nbformat_minor": 2
}
