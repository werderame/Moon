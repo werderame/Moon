{
 "cells": [
  {
   "cell_type": "markdown",
   "metadata": {},
   "source": [
    "In this Jupyter Notebook we want to write a comprehensive script that allows us to tackle inventory management strategy called FEFO, First Expiry First Out."
   ]
  },
  {
   "cell_type": "markdown",
   "metadata": {},
   "source": [
    "Let's start with the most basic situation, we have a dictionary of articles and quantities called \"Inventory\" and we want to iterate through it so to print the data it contains"
   ]
  },
  {
   "cell_type": "code",
   "execution_count": 6,
   "metadata": {},
   "outputs": [
    {
     "name": "stdout",
     "output_type": "stream",
     "text": [
      "apple 100\n",
      "banana 50\n",
      "orange 75\n"
     ]
    }
   ],
   "source": [
    "# Create a variable called `inventory` and store some articles and quantities in it\n",
    "inventory = {\n",
    "    \"apple\": 100,\n",
    "    \"banana\": 50,\n",
    "    \"orange\": 75\n",
    "}\n",
    "# Write a loop to print the article and its quantity.\n",
    "# We'll use the items() method to access the dictionary..\n",
    "for k, v in inventory.items():\n",
    "    print(k, v)\n"
   ]
  },
  {
   "cell_type": "markdown",
   "metadata": {},
   "source": [
    "Now we will build upon the `dictionary` object.\n",
    "Tipically inventory data is stored in relational databases and its format is perfectly represented by that of a `list` of `dictionaries`. Each `dictionary` contains `keys` like 'article' or 'sku_code', 'quantity', 'description' and so on."
   ]
  },
  {
   "cell_type": "code",
   "execution_count": 7,
   "metadata": {},
   "outputs": [
    {
     "name": "stdout",
     "output_type": "stream",
     "text": [
      "apple: 100, expires on 2025-01-15\n",
      "banana: 50, expires on 2025-01-10\n",
      "orange: 75, expires on 2025-01-20\n"
     ]
    }
   ],
   "source": [
    "# Build a dictionary with three basic data points: 'article', 'quantity' and 'expiration_date'\n",
    "inventory = [\n",
    "    {\"article\": \"apple\", \"quantity\": 100, \"expiration_date\": \"2025-01-15\"},\n",
    "    {\"article\": \"banana\", \"quantity\": 50, \"expiration_date\": \"2025-01-10\"},\n",
    "    {\"article\": \"orange\", \"quantity\": 75, \"expiration_date\": \"2025-01-20\"}\n",
    "]\n",
    "\n",
    "# Learn to iterate through the dictionary accessing each entry or row and thus each `key - value` pair\n",
    "for entry in inventory:\n",
    "    print(f\"{entry['article']}: {entry['quantity']}, expires on {entry['expiration_date']}\")"
   ]
  },
  {
   "cell_type": "markdown",
   "metadata": {},
   "source": [
    "It is very important at this point that we step out of **Python** and think of the **logic** that we want to implement. Here it goes: \n",
    "1. we want to allocate existing inventory to a demand (we haven't yet dealt with demand, but we'll do so very soon) _in order of expiry date_ \n",
    "2. we want to dinamically return the remaining inventory after it has been allocated and consumed by production"
   ]
  },
  {
   "cell_type": "markdown",
   "metadata": {},
   "source": [
    "Let's tackle 1. Ordering the inventory by expiration date. \n",
    "We will do so by using a lamda function to sort the inventory. We will also assign the sorted inventory to a new variable which will allow us to keep track of all steps of the way."
   ]
  },
  {
   "cell_type": "code",
   "execution_count": 8,
   "metadata": {},
   "outputs": [
    {
     "name": "stdout",
     "output_type": "stream",
     "text": [
      "Sorted Inventory: \n",
      "\n",
      "banana: 50, expires on 2025-01-10\n",
      "apple: 100, expires on 2025-01-15\n",
      "orange: 75, expires on 2025-01-20\n"
     ]
    }
   ],
   "source": [
    "# Sort Inventory by Expiration Date\n",
    "sortinv = sorted(inventory, key=lambda expi: expi['expiration_date'])\n",
    "\n",
    "print(\"Sorted Inventory: \\n\")\n",
    "for entry in sortinv:\n",
    "    print(f\"{entry['article']}: {entry['quantity']}, expires on {entry['expiration_date']}\")"
   ]
  },
  {
   "cell_type": "markdown",
   "metadata": {},
   "source": [
    "We will now build the demand dataset with a very simple list of two items. \n",
    "We will keep the same exact structure of the Inventory, i.e. a list of dictionaries, with keys 'article', 'quantity' and a date that tells us when the article is needed by production."
   ]
  },
  {
   "cell_type": "code",
   "execution_count": 9,
   "metadata": {},
   "outputs": [],
   "source": [
    "# Build the demand dataset\n",
    "demand = [\n",
    "    {\"article\": \"apple\", \"quantity\": 120, \"demand_date\": \"2025-01-12\"},\n",
    "    {\"article\": \"banana\", \"quantity\": 30, \"demand_date\": \"2025-01-11\"}\n",
    "]"
   ]
  },
  {
   "cell_type": "markdown",
   "metadata": {},
   "source": [
    "We will also want to order the demand by date, this is because we want to allocate the existing inventory to demand that is closer in time - for later demand lines we will have time to purchase more inventory!"
   ]
  },
  {
   "cell_type": "code",
   "execution_count": 10,
   "metadata": {},
   "outputs": [
    {
     "name": "stdout",
     "output_type": "stream",
     "text": [
      "Sorted Demand: \n",
      "\n",
      "banana: 30, requirement on 2025-01-11\n",
      "apple: 120, requirement on 2025-01-12\n"
     ]
    }
   ],
   "source": [
    "# Sort demand by expiration date\n",
    "sortdem = sorted(demand, key=lambda demd: demd['demand_date'])\n",
    "\n",
    "print(\"Sorted Demand: \\n\")\n",
    "for requir in sortdem:\n",
    "    print(f\"{requir['article']}: {requir['quantity']}, requirement on {requir['demand_date']}\")"
   ]
  },
  {
   "cell_type": "markdown",
   "metadata": {},
   "source": [
    "Now that we have both demand and inventory in a good shape, we want to tackle the second problem, i.e. allocating the inventory to the demand and returning the remaining datasets. \n",
    "\n",
    "As this is a dinamic and iterative process we will need to use a for loop. And this procedure will essentially do the following: \n",
    "- for each line of the demand, take the first line of the inventory with corresponding article (of course we fulfill demand with the correct parts)\n",
    "- if the demand is larger than the inventory line, then subtract the inventory and reduce it to zero\n",
    "- - thus search for any other lines in the inventory that can satisfy the remaining demand\n",
    "- if the demand is less than the inventory, then make the demand zero (fulfill the demand) and store the remaining inventory \n",
    "\n",
    "For clarity purposes we will want to delete zero line quantities from the two datasets. \n",
    "Also, as before, for clarity purposes, we keep track of all steps of the way by deep-copying our datasets. "
   ]
  },
  {
   "cell_type": "code",
   "execution_count": 11,
   "metadata": {},
   "outputs": [
    {
     "name": "stdout",
     "output_type": "stream",
     "text": [
      "Remaining inventory:\n",
      "banana: 20\n",
      "orange: 75\n",
      "\n",
      "Remaining demand:\n",
      "apple: 20\n"
     ]
    }
   ],
   "source": [
    "import copy\n",
    "calc_inventory = copy.deepcopy(sortinv)\n",
    "calc_demand = copy.deepcopy(sortdem)\n",
    "\n",
    "# Match demand with existing inventory\n",
    "for d in calc_demand:\n",
    "    for i in calc_inventory:\n",
    "        if i['article'] == d['article']:\n",
    "            if d['quantity'] >= i['quantity']:\n",
    "                d['quantity'] -= i['quantity'] # demand - inventory\n",
    "                i['quantity'] = 0 # thus save the remaining demand\n",
    "            else:\n",
    "                i['quantity'] -= d['quantity'] # inventory - demand\n",
    "                d['quantity'] = 0 # then reduce the demand to zero\n",
    "    calc_demand = [d for d in calc_demand if d['quantity'] > 0]\n",
    "    calc_inventory = [i for i in calc_inventory if i['quantity'] > 0]\n",
    "# Reproduce the remaining inventory\n",
    "print(\"Remaining inventory:\")\n",
    "for i in calc_inventory:\n",
    "    print(f\"{i['article']}: {i['quantity']}\")\n",
    "# Reproduce the remaining demand\n",
    "print(\"\\nRemaining demand:\")\n",
    "for i in calc_demand:\n",
    "    print(f\"{i['article']}: {i['quantity']}\")"
   ]
  },
  {
   "cell_type": "code",
   "execution_count": null,
   "metadata": {},
   "outputs": [],
   "source": [
    "# making a change"
   ]
  }
 ],
 "metadata": {
  "kernelspec": {
   "display_name": "base",
   "language": "python",
   "name": "python3"
  },
  "language_info": {
   "codemirror_mode": {
    "name": "ipython",
    "version": 3
   },
   "file_extension": ".py",
   "mimetype": "text/x-python",
   "name": "python",
   "nbconvert_exporter": "python",
   "pygments_lexer": "ipython3",
   "version": "3.12.7"
  }
 },
 "nbformat": 4,
 "nbformat_minor": 2
}
