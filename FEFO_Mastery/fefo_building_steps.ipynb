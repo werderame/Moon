{
 "cells": [
  {
   "cell_type": "markdown",
   "metadata": {},
   "source": [
    "In this Jupyter Notebook we want to write a comprehensive script that allows us to tackle inventory management strategy called FEFO, First Expiry First Out."
   ]
  },
  {
   "cell_type": "markdown",
   "metadata": {},
   "source": [
    "Let's start with the most basic situation, we have a dictionary of articles and quantities called \"Inventory\" and we want to iterate through it so to print the data it contains"
   ]
  },
  {
   "cell_type": "code",
   "execution_count": 3,
   "metadata": {},
   "outputs": [
    {
     "name": "stdout",
     "output_type": "stream",
     "text": [
      "apple 100\n",
      "banana 50\n",
      "orange 75\n"
     ]
    }
   ],
   "source": [
    "# Create a variable called `inventory` and store some articles and quantities in it\n",
    "inventory = {\n",
    "    \"apple\": 100,\n",
    "    \"banana\": 50,\n",
    "    \"orange\": 75\n",
    "}\n",
    "# Write a loop to print the article and its quantity.\n",
    "# We'll use the items() method to access the dictionary..\n",
    "for k, v in inventory.items():\n",
    "    print(k, v)\n"
   ]
  },
  {
   "cell_type": "markdown",
   "metadata": {},
   "source": [
    "Now we will build upon the `dictionary` object.\n",
    "Tipically inventory data is stored in relational databases and its format is perfectly represented by that of a `list` of `dictionaries`. Each `dictionary` contains `keys` like 'article' or 'sku_code', 'quantity', 'description' and so on."
   ]
  },
  {
   "cell_type": "code",
   "execution_count": 4,
   "metadata": {},
   "outputs": [
    {
     "name": "stdout",
     "output_type": "stream",
     "text": [
      "apple: 100, expires on 2025-01-15\n",
      "banana: 50, expires on 2025-01-10\n",
      "orange: 75, expires on 2025-01-20\n"
     ]
    }
   ],
   "source": [
    "# Build a dictionary with three basic data points: 'article', 'quantity' and 'expiration_date'\n",
    "inventory = [\n",
    "    {\"article\": \"apple\", \"quantity\": 100, \"expiration_date\": \"2025-01-15\"},\n",
    "    {\"article\": \"banana\", \"quantity\": 50, \"expiration_date\": \"2025-01-10\"},\n",
    "    {\"article\": \"orange\", \"quantity\": 75, \"expiration_date\": \"2025-01-20\"}\n",
    "]\n",
    "\n",
    "# Learn to iterate through the dictionary accessing each entry or row and thus each `key - value` pair\n",
    "for entry in inventory:\n",
    "    print(f\"{entry['article']}: {entry['quantity']}, expires on {entry['expiration_date']}\")"
   ]
  },
  {
   "cell_type": "markdown",
   "metadata": {},
   "source": [
    "It is very important at this point that we step out of **Python** and think of the **logic** that we want to implement. Here it goes: \n",
    "1. we want to allocate existing inventory to a demand (we haven't yet dealt with demand, but we'll do so very soon) _in order of expiry date_ \n",
    "2. we want to dinamically return the remaining inventory after it has been allocated and consumed by production"
   ]
  },
  {
   "cell_type": "markdown",
   "metadata": {},
   "source": [
    "Let's tackle 1. Ordering the inventory by expiration date. \n",
    "We will do so by using a lamda function to sort the inventory. We will also assign the sorted inventory to a new variable which will allow us to keep track of all steps of the way."
   ]
  },
  {
   "cell_type": "code",
   "execution_count": 5,
   "metadata": {},
   "outputs": [
    {
     "name": "stdout",
     "output_type": "stream",
     "text": [
      "Sorted Inventory: \n",
      "\n",
      "banana: 50, expires on 2025-01-10\n",
      "apple: 100, expires on 2025-01-15\n",
      "orange: 75, expires on 2025-01-20\n"
     ]
    }
   ],
   "source": [
    "# Sort Inventory by Expiration Date\n",
    "sortinv = sorted(inventory, key=lambda expi: expi['expiration_date'])\n",
    "\n",
    "print(\"Sorted Inventory: \\n\")\n",
    "for entry in sortinv:\n",
    "    print(f\"{entry['article']}: {entry['quantity']}, expires on {entry['expiration_date']}\")"
   ]
  },
  {
   "cell_type": "markdown",
   "metadata": {},
   "source": [
    "We will now build the demand dataset with a very simple list of two items. \n",
    "We will keep the same exact structure of the Inventory, i.e. a list of dictionaries, with keys 'article', 'quantity' and a date that tells us when the article is needed by production."
   ]
  },
  {
   "cell_type": "code",
   "execution_count": 6,
   "metadata": {},
   "outputs": [],
   "source": [
    "# Build the demand dataset\n",
    "demand = [\n",
    "    {\"article\": \"apple\", \"quantity\": 120, \"demand_date\": \"2025-01-12\"},\n",
    "    {\"article\": \"banana\", \"quantity\": 30, \"demand_date\": \"2025-01-11\"}\n",
    "]"
   ]
  },
  {
   "cell_type": "markdown",
   "metadata": {},
   "source": [
    "We will also want to order the demand by date, this is because we want to allocate the existing inventory to demand that is closer in time - for later demand lines we will have time to purchase more inventory!"
   ]
  },
  {
   "cell_type": "code",
   "execution_count": 7,
   "metadata": {},
   "outputs": [
    {
     "name": "stdout",
     "output_type": "stream",
     "text": [
      "Sorted Demand: \n",
      "\n",
      "banana: 30, requirement on 2025-01-11\n",
      "apple: 120, requirement on 2025-01-12\n"
     ]
    }
   ],
   "source": [
    "# Sort demand by expiration date\n",
    "sortdem = sorted(demand, key=lambda demd: demd['demand_date'])\n",
    "\n",
    "print(\"Sorted Demand: \\n\")\n",
    "for requir in sortdem:\n",
    "    print(f\"{requir['article']}: {requir['quantity']}, requirement on {requir['demand_date']}\")"
   ]
  },
  {
   "cell_type": "markdown",
   "metadata": {},
   "source": [
    "Now that we have both demand and inventory in a good shape, we want to tackle the second problem, i.e. allocating the inventory to the demand and returning the remaining datasets. \n",
    "\n",
    "As this is a dinamic and iterative process we will need to use a for loop. And this procedure will essentially do the following: \n",
    "- for each line of the demand, take the first line of the inventory with corresponding article (of course we fulfill demand with the correct parts)\n",
    "- if the demand is larger than the inventory line, then subtract the inventory and reduce it to zero\n",
    "- - thus search for any other lines in the inventory that can satisfy the remaining demand\n",
    "- if the demand is less than the inventory, then make the demand zero (fulfill the demand) and store the remaining inventory \n",
    "\n",
    "For clarity purposes we will want to delete zero line quantities from the two datasets. \n",
    "Also, as before, for clarity purposes, we keep track of all steps of the way by deep-copying our datasets. "
   ]
  },
  {
   "cell_type": "code",
   "execution_count": 8,
   "metadata": {},
   "outputs": [
    {
     "name": "stdout",
     "output_type": "stream",
     "text": [
      "Remaining inventory:\n",
      "banana: 20\n",
      "orange: 75\n",
      "\n",
      "Remaining demand:\n",
      "apple: 20\n"
     ]
    }
   ],
   "source": [
    "import copy\n",
    "calc_inventory = copy.deepcopy(sortinv)\n",
    "calc_demand = copy.deepcopy(sortdem)\n",
    "\n",
    "# Match demand with existing inventory\n",
    "for d in calc_demand:\n",
    "    for i in calc_inventory:\n",
    "        if i['article'] == d['article']:\n",
    "            if d['quantity'] >= i['quantity']:\n",
    "                d['quantity'] -= i['quantity'] # demand - inventory\n",
    "                i['quantity'] = 0 # thus save the remaining demand\n",
    "            else:\n",
    "                i['quantity'] -= d['quantity'] # inventory - demand\n",
    "                d['quantity'] = 0 # then reduce the demand to zero\n",
    "calc_demand = [d for d in calc_demand if d['quantity'] > 0]\n",
    "calc_inventory = [i for i in calc_inventory if i['quantity'] > 0]\n",
    "# Reproduce the remaining inventory\n",
    "print(\"Remaining inventory:\")\n",
    "for i in calc_inventory:\n",
    "    print(f\"{i['article']}: {i['quantity']}\")\n",
    "# Reproduce the remaining demand\n",
    "print(\"\\nRemaining demand:\")\n",
    "for i in calc_demand:\n",
    "    print(f\"{i['article']}: {i['quantity']}\")"
   ]
  },
  {
   "cell_type": "markdown",
   "metadata": {},
   "source": [
    "Once we have made sure that we are able to capture the real life scenario of allocating ordered inventory to ordered demand, we will tackle the next problem, i.e. checking for the additional condition that the inventory is not expired at the time of demand. Essentially, the case where `inventory['expiration_date'] < demand['demand_date']` represents a case where the is no available inventory. Thus we need to exclude the allocation for that case. "
   ]
  },
  {
   "cell_type": "markdown",
   "metadata": {},
   "source": [
    "We initialize our sets and want to trigger this behaviour: \n",
    "- apples: there is a demand of 120 pieces which cannot be met by the lot expiring on the 10th of January. So that quantity \"remains\" and is not allocated to production. \n",
    "- the 120 demand is satisfied using the second lot, expiring on the 30th of the same month.\n",
    "- however the subsequent demand of 30 pieces falls short of inventory, (only 130 - 120 = 10 pcs are left)"
   ]
  },
  {
   "cell_type": "code",
   "execution_count": 22,
   "metadata": {},
   "outputs": [],
   "source": [
    "# initialize sets\n",
    "demand = [\n",
    "    {\"article\": \"apple\", \"quantity\": 120, \"demand_date\": \"2025-01-12\"},\n",
    "    {\"article\": \"apple\", \"quantity\": 30, \"demand_date\": \"2025-01-15\"}]\n",
    "inventory = [\n",
    "    {\"article\": \"apple\", \"quantity\": 50, \"expiration_date\": \"2025-01-10\"}, \n",
    "    {\"article\": \"apple\", \"quantity\": 130, \"expiration_date\": \"2025-01-30\"}, \n",
    "    {\"article\": \"banana\", \"quantity\": 50, \"expiration_date\": \"2025-01-10\"}]\n",
    "\n",
    "# order by date\n",
    "sortdem = sorted(demand, key=lambda demd: demd['demand_date'])\n",
    "sortinv = sorted(inventory, key=lambda expi: expi['expiration_date'])\n",
    "\n",
    "# copy for tracking\n",
    "calc_inv_date = copy.deepcopy(sortinv)\n",
    "calc_dem_date = copy.deepcopy(sortdem)"
   ]
  },
  {
   "cell_type": "markdown",
   "metadata": {},
   "source": [
    "We add `and d['demand_date'] < i['expiration_date']` to the conditional. This will ensure proper handling of the expiration and demand dates. "
   ]
  },
  {
   "cell_type": "code",
   "execution_count": 13,
   "metadata": {},
   "outputs": [
    {
     "name": "stdout",
     "output_type": "stream",
     "text": [
      "Remaining inventory:\n",
      "apple: 50\n",
      "banana: 50\n",
      "\n",
      "Unmet demand:\n",
      "apple: 20\n"
     ]
    }
   ],
   "source": [
    "# Match demand with existing inventory\n",
    "for d in calc_dem_date:\n",
    "    for i in calc_inv_date:\n",
    "\n",
    "        if d['article'] == i['article'] and d['demand_date'] < i['expiration_date']: # if the demand happens prior to the expiration\n",
    "            if d['quantity'] >= i['quantity']:\n",
    "                d['quantity'] -= i['quantity'] \n",
    "                i['quantity'] = 0 \n",
    "            else:\n",
    "                i['quantity'] -= d['quantity'] \n",
    "                d['quantity'] = 0 \n",
    "        # in any other case the demand is unmet (and remains) and the inventory is expired (and remains)\n",
    "    \n",
    "# delete zero quanity lines\n",
    "calc_dem_date = [d for d in calc_dem_date if d['quantity'] > 0]\n",
    "calc_inv_date = [i for i in calc_inv_date if i['quantity'] > 0]\n",
    "\n",
    "# Reproduce the remaining inventory\n",
    "print(\"Remaining inventory:\")\n",
    "for i in calc_inv_date:\n",
    "    print(f\"{i['article']}: {i['quantity']}\")\n",
    "# Reproduce the remaining demand\n",
    "print(\"\\nUnmet demand:\")\n",
    "for i in calc_dem_date:\n",
    "    print(f\"{i['article']}: {i['quantity']}\")"
   ]
  },
  {
   "cell_type": "markdown",
   "metadata": {},
   "source": [
    "summary tasks\n",
    "here we are going to display for each line of the inventory:\n",
    "the initial amount (?), the used up amount and the remaining amount after the allocation\n",
    "we should also track these for the demand, in case the demand has lines of code that do not appear in the inventory"
   ]
  },
  {
   "cell_type": "code",
   "execution_count": 38,
   "metadata": {},
   "outputs": [
    {
     "data": {
      "text/html": [
       "<div>\n",
       "<style scoped>\n",
       "    .dataframe tbody tr th:only-of-type {\n",
       "        vertical-align: middle;\n",
       "    }\n",
       "\n",
       "    .dataframe tbody tr th {\n",
       "        vertical-align: top;\n",
       "    }\n",
       "\n",
       "    .dataframe thead th {\n",
       "        text-align: right;\n",
       "    }\n",
       "</style>\n",
       "<table border=\"1\" class=\"dataframe\">\n",
       "  <thead>\n",
       "    <tr style=\"text-align: right;\">\n",
       "      <th></th>\n",
       "      <th>article</th>\n",
       "      <th>quantity</th>\n",
       "      <th>expiration_date</th>\n",
       "      <th>consumed_quantity</th>\n",
       "      <th>remaining_quantity</th>\n",
       "    </tr>\n",
       "  </thead>\n",
       "  <tbody>\n",
       "    <tr>\n",
       "      <th>0</th>\n",
       "      <td>apple</td>\n",
       "      <td>50</td>\n",
       "      <td>2025-01-10</td>\n",
       "      <td>0</td>\n",
       "      <td>50</td>\n",
       "    </tr>\n",
       "    <tr>\n",
       "      <th>1</th>\n",
       "      <td>banana</td>\n",
       "      <td>50</td>\n",
       "      <td>2025-01-10</td>\n",
       "      <td>0</td>\n",
       "      <td>50</td>\n",
       "    </tr>\n",
       "    <tr>\n",
       "      <th>2</th>\n",
       "      <td>apple</td>\n",
       "      <td>130</td>\n",
       "      <td>2025-01-30</td>\n",
       "      <td>30</td>\n",
       "      <td>100</td>\n",
       "    </tr>\n",
       "  </tbody>\n",
       "</table>\n",
       "</div>"
      ],
      "text/plain": [
       "  article  quantity expiration_date  consumed_quantity  remaining_quantity\n",
       "0   apple        50      2025-01-10                  0                  50\n",
       "1  banana        50      2025-01-10                  0                  50\n",
       "2   apple       130      2025-01-30                 30                 100"
      ]
     },
     "metadata": {},
     "output_type": "display_data"
    },
    {
     "data": {
      "text/html": [
       "<div>\n",
       "<style scoped>\n",
       "    .dataframe tbody tr th:only-of-type {\n",
       "        vertical-align: middle;\n",
       "    }\n",
       "\n",
       "    .dataframe tbody tr th {\n",
       "        vertical-align: top;\n",
       "    }\n",
       "\n",
       "    .dataframe thead th {\n",
       "        text-align: right;\n",
       "    }\n",
       "</style>\n",
       "<table border=\"1\" class=\"dataframe\">\n",
       "  <thead>\n",
       "    <tr style=\"text-align: right;\">\n",
       "      <th></th>\n",
       "      <th>article</th>\n",
       "      <th>quantity</th>\n",
       "      <th>demand_date</th>\n",
       "      <th>consumed_quantity</th>\n",
       "      <th>unmet_quantity</th>\n",
       "    </tr>\n",
       "  </thead>\n",
       "  <tbody>\n",
       "    <tr>\n",
       "      <th>0</th>\n",
       "      <td>apple</td>\n",
       "      <td>120</td>\n",
       "      <td>2025-01-12</td>\n",
       "      <td>120</td>\n",
       "      <td>0</td>\n",
       "    </tr>\n",
       "    <tr>\n",
       "      <th>1</th>\n",
       "      <td>apple</td>\n",
       "      <td>30</td>\n",
       "      <td>2025-01-15</td>\n",
       "      <td>30</td>\n",
       "      <td>0</td>\n",
       "    </tr>\n",
       "  </tbody>\n",
       "</table>\n",
       "</div>"
      ],
      "text/plain": [
       "  article  quantity demand_date  consumed_quantity  unmet_quantity\n",
       "0   apple       120  2025-01-12                120               0\n",
       "1   apple        30  2025-01-15                 30               0"
      ]
     },
     "metadata": {},
     "output_type": "display_data"
    }
   ],
   "source": [
    "# initialize sets\n",
    "demand = [\n",
    "    {\"article\": \"apple\", \"quantity\": 120, \"demand_date\": \"2025-01-12\"},\n",
    "    {\"article\": \"apple\", \"quantity\": 30, \"demand_date\": \"2025-01-15\"}]\n",
    "inventory = [\n",
    "    {\"article\": \"apple\", \"quantity\": 50, \"expiration_date\": \"2025-01-10\"}, \n",
    "    {\"article\": \"apple\", \"quantity\": 130, \"expiration_date\": \"2025-01-30\"}, \n",
    "    {\"article\": \"banana\", \"quantity\": 50, \"expiration_date\": \"2025-01-10\"}]\n",
    "\n",
    "# order by date\n",
    "sortdem = sorted(demand, key=lambda demd: demd['demand_date'])\n",
    "sortinv = sorted(inventory, key=lambda expi: expi['expiration_date'])\n",
    "\n",
    "# copy for tracking\n",
    "calc_inv_date = copy.deepcopy(sortinv)\n",
    "calc_dem_date = copy.deepcopy(sortdem)\n",
    "\n",
    "# Match demand with existing inventory\n",
    "\n",
    "\n",
    "for d in calc_dem_date:\n",
    "    d['consumed_quantity'] = 0 # initialize the consumed quantity to zero for each line\n",
    "    d['unmet_quantity'] = d['quantity']\n",
    "    for i in calc_inv_date:\n",
    "        i['consumed_quantity'] = 0 # initialize the consumed quantity to zero for each line\n",
    "        i['remaining_quantity'] = i['quantity']\n",
    "\n",
    "        if d['article'] == i['article'] and d['demand_date'] < i['expiration_date']: # if the demand happens prior to the expiration\n",
    "            if d['quantity'] >= i['quantity']:\n",
    "                i['consumed_quantity'] += i['quantity'] # move existing qty to consumed\n",
    "                i['remaining_quantity'] = 0 # reduce to zero \n",
    "                \n",
    "                d['consumed_quantity'] += i['quantity'] \n",
    "                d['unmet_quantity'] -= i['quantity']\n",
    "\n",
    "            else: # d['quantity'] < i['quantity']\n",
    "                i['consumed_quantity'] += d['quantity'] # move consumed quantity\n",
    "                i['remaining_quantity'] -= d['quantity'] \n",
    "                \n",
    "                d['consumed_quantity'] = d['quantity']\n",
    "                d['unmet_quantity'] = 0 \n",
    "                \n",
    "        # in any other case the demand is unmet (and remains) and the inventory is expired (and remains)\n",
    "\n",
    "inventory_calc = pd.DataFrame(calc_inv_date)\n",
    "demand_calc = pd.DataFrame(calc_dem_date)\n",
    "display(inventory_calc)\n",
    "display(demand_calc)"
   ]
  },
  {
   "cell_type": "markdown",
   "metadata": {},
   "source": [
    "optimisation of the iterative work: only on the grouped articles"
   ]
  },
  {
   "cell_type": "code",
   "execution_count": 70,
   "metadata": {},
   "outputs": [
    {
     "data": {
      "text/plain": [
       "{'apple': [{'article': 'apple',\n",
       "   'quantity': 50,\n",
       "   'expiration_date': '2025-01-10'},\n",
       "  {'article': 'apple', 'quantity': 130, 'expiration_date': '2025-01-30'}],\n",
       " 'banana': [{'article': 'banana',\n",
       "   'quantity': 50,\n",
       "   'expiration_date': '2025-01-10'}]}"
      ]
     },
     "execution_count": 70,
     "metadata": {},
     "output_type": "execute_result"
    }
   ],
   "source": [
    "\"\"\"\n",
    "Challenge 1: Group Inventory by Article\n",
    "\n",
    "Before processing demand, group the inventory items by their article. \n",
    "This will let you access relevant inventory directly without iterating through the entire list each time.\n",
    "\n",
    "Task:\n",
    "\t1.\tCreate a dictionary where:\n",
    "\t•\tKeys are article names.\n",
    "\t•\tValues are lists of inventory records for that article.\n",
    "\n",
    "Example Input:\"\"\"\n",
    "inventory = [\n",
    "    {\"article\": \"apple\", \"quantity\": 50, \"expiration_date\": \"2025-01-10\"},\n",
    "    {\"article\": \"apple\", \"quantity\": 130, \"expiration_date\": \"2025-01-30\"},\n",
    "    {\"article\": \"banana\", \"quantity\": 50, \"expiration_date\": \"2025-01-10\"}\n",
    "]\n",
    "\n",
    "\"\"\"Expected output:\n",
    "{\n",
    "    \"apple\": [\n",
    "        {\"article\": \"apple\", \"quantity\": 50, \"expiration_date\": \"2025-01-10\"},\n",
    "        {\"article\": \"apple\", \"quantity\": 130, \"expiration_date\": \"2025-01-30\"}\n",
    "    ],\n",
    "    \"banana\": [\n",
    "        {\"article\": \"banana\", \"quantity\": 50, \"expiration_date\": \"2025-01-10\"}\n",
    "    ]\n",
    "}\"\"\"\n",
    "\n",
    "articles = {}\n",
    "for i in inventory:\n",
    "    if i['article'] not in articles: \n",
    "        articles[i['article']] = []\n",
    "        articles[i['article']].append(i)\n",
    "    else:\n",
    "        articles[i['article']].append(i) \n",
    "articles\n"
   ]
  },
  {
   "cell_type": "code",
   "execution_count": null,
   "metadata": {},
   "outputs": [],
   "source": []
  },
  {
   "cell_type": "markdown",
   "metadata": {},
   "source": [
    "now we use the grouped inventory `article` to process the allocation"
   ]
  },
  {
   "cell_type": "code",
   "execution_count": 74,
   "metadata": {},
   "outputs": [
    {
     "data": {
      "text/html": [
       "<div>\n",
       "<style scoped>\n",
       "    .dataframe tbody tr th:only-of-type {\n",
       "        vertical-align: middle;\n",
       "    }\n",
       "\n",
       "    .dataframe tbody tr th {\n",
       "        vertical-align: top;\n",
       "    }\n",
       "\n",
       "    .dataframe thead th {\n",
       "        text-align: right;\n",
       "    }\n",
       "</style>\n",
       "<table border=\"1\" class=\"dataframe\">\n",
       "  <thead>\n",
       "    <tr style=\"text-align: right;\">\n",
       "      <th></th>\n",
       "      <th>article</th>\n",
       "      <th>quantity</th>\n",
       "      <th>expiration_date</th>\n",
       "      <th>consumed_quantity</th>\n",
       "      <th>remaining_quantity</th>\n",
       "    </tr>\n",
       "  </thead>\n",
       "  <tbody>\n",
       "    <tr>\n",
       "      <th>0</th>\n",
       "      <td>apple</td>\n",
       "      <td>50</td>\n",
       "      <td>2025-01-10</td>\n",
       "      <td>0</td>\n",
       "      <td>50</td>\n",
       "    </tr>\n",
       "    <tr>\n",
       "      <th>1</th>\n",
       "      <td>banana</td>\n",
       "      <td>50</td>\n",
       "      <td>2025-01-10</td>\n",
       "      <td>0</td>\n",
       "      <td>50</td>\n",
       "    </tr>\n",
       "    <tr>\n",
       "      <th>2</th>\n",
       "      <td>apple</td>\n",
       "      <td>130</td>\n",
       "      <td>2025-01-30</td>\n",
       "      <td>30</td>\n",
       "      <td>100</td>\n",
       "    </tr>\n",
       "  </tbody>\n",
       "</table>\n",
       "</div>"
      ],
      "text/plain": [
       "  article  quantity expiration_date  consumed_quantity  remaining_quantity\n",
       "0   apple        50      2025-01-10                  0                  50\n",
       "1  banana        50      2025-01-10                  0                  50\n",
       "2   apple       130      2025-01-30                 30                 100"
      ]
     },
     "metadata": {},
     "output_type": "display_data"
    },
    {
     "data": {
      "text/html": [
       "<div>\n",
       "<style scoped>\n",
       "    .dataframe tbody tr th:only-of-type {\n",
       "        vertical-align: middle;\n",
       "    }\n",
       "\n",
       "    .dataframe tbody tr th {\n",
       "        vertical-align: top;\n",
       "    }\n",
       "\n",
       "    .dataframe thead th {\n",
       "        text-align: right;\n",
       "    }\n",
       "</style>\n",
       "<table border=\"1\" class=\"dataframe\">\n",
       "  <thead>\n",
       "    <tr style=\"text-align: right;\">\n",
       "      <th></th>\n",
       "      <th>article</th>\n",
       "      <th>quantity</th>\n",
       "      <th>demand_date</th>\n",
       "      <th>consumed_quantity</th>\n",
       "      <th>unmet_quantity</th>\n",
       "    </tr>\n",
       "  </thead>\n",
       "  <tbody>\n",
       "    <tr>\n",
       "      <th>0</th>\n",
       "      <td>apple</td>\n",
       "      <td>120</td>\n",
       "      <td>2025-01-12</td>\n",
       "      <td>120</td>\n",
       "      <td>0</td>\n",
       "    </tr>\n",
       "    <tr>\n",
       "      <th>1</th>\n",
       "      <td>apple</td>\n",
       "      <td>30</td>\n",
       "      <td>2025-01-15</td>\n",
       "      <td>30</td>\n",
       "      <td>0</td>\n",
       "    </tr>\n",
       "  </tbody>\n",
       "</table>\n",
       "</div>"
      ],
      "text/plain": [
       "  article  quantity demand_date  consumed_quantity  unmet_quantity\n",
       "0   apple       120  2025-01-12                120               0\n",
       "1   apple        30  2025-01-15                 30               0"
      ]
     },
     "metadata": {},
     "output_type": "display_data"
    }
   ],
   "source": [
    "# initialize sets\n",
    "demand = [\n",
    "    {\"article\": \"apple\", \"quantity\": 120, \"demand_date\": \"2025-01-12\"},\n",
    "    {\"article\": \"apple\", \"quantity\": 30, \"demand_date\": \"2025-01-15\"}]\n",
    "inventory = [\n",
    "    {\"article\": \"apple\", \"quantity\": 50, \"expiration_date\": \"2025-01-10\"}, \n",
    "    {\"article\": \"apple\", \"quantity\": 130, \"expiration_date\": \"2025-01-30\"}, \n",
    "    {\"article\": \"banana\", \"quantity\": 50, \"expiration_date\": \"2025-01-10\"}]\n",
    "\n",
    "# order by date\n",
    "sortdem = sorted(demand, key=lambda demd: demd['demand_date'])\n",
    "sortinv = sorted(inventory, key=lambda expi: expi['expiration_date'])\n",
    "\n",
    "# copy for tracking\n",
    "import copy\n",
    "calc_inv_date = copy.deepcopy(sortinv)\n",
    "calc_dem_date = copy.deepcopy(sortdem)\n",
    "\n",
    "# process a grouped inventory to run the calculation faster\n",
    "articles = {}\n",
    "for i in calc_inv_date:\n",
    "    if i['article'] not in articles: \n",
    "        articles[i['article']] = []\n",
    "        articles[i['article']].append(i)\n",
    "    else:\n",
    "        articles[i['article']].append(i) \n",
    "\n",
    "\n",
    "# Match demand with existing inventory\n",
    "for d in calc_dem_date:\n",
    "    d['consumed_quantity'] = 0 # initialize the consumed quantity to zero for each line\n",
    "    d['unmet_quantity'] = d['quantity']\n",
    "    for i in calc_inv_date:\n",
    "        i['consumed_quantity'] = 0 # initialize the consumed quantity to zero for each line\n",
    "        i['remaining_quantity'] = i['quantity']\n",
    "\n",
    "        if d['article'] == i['article'] and d['demand_date'] < i['expiration_date']: # if the demand happens prior to the expiration\n",
    "            if d['quantity'] >= i['quantity']:\n",
    "                i['consumed_quantity'] += i['quantity'] # move existing qty to consumed\n",
    "                i['remaining_quantity'] = 0 # reduce to zero \n",
    "                \n",
    "                d['consumed_quantity'] += i['quantity'] \n",
    "                d['unmet_quantity'] -= i['quantity']\n",
    "\n",
    "            else: # d['quantity'] < i['quantity']\n",
    "                i['consumed_quantity'] += d['quantity'] # move consumed quantity\n",
    "                i['remaining_quantity'] -= d['quantity'] \n",
    "                \n",
    "                d['consumed_quantity'] = d['quantity']\n",
    "                d['unmet_quantity'] = 0 \n",
    "                \n",
    "        # in any other case the demand is unmet (and remains) and the inventory is expired (and remains)\n",
    "\n",
    "import pandas as pd\n",
    "inventory_calc = pd.DataFrame(calc_inv_date)\n",
    "demand_calc = pd.DataFrame(calc_dem_date)\n",
    "display(inventory_calc)\n",
    "display(demand_calc)"
   ]
  },
  {
   "cell_type": "code",
   "execution_count": 81,
   "metadata": {},
   "outputs": [
    {
     "name": "stdout",
     "output_type": "stream",
     "text": [
      "{'article': 'apple', 'quantity': 50, 'expiration_date': '2025-01-10', 'consumed_quantity': 0, 'remaining_quantity': 50}\n",
      "{'article': 'apple', 'quantity': 130, 'expiration_date': '2025-01-30', 'consumed_quantity': 30, 'remaining_quantity': 100}\n"
     ]
    }
   ],
   "source": [
    "for i in calc_inv_date:\n",
    "    if i['article'] == 'apple':\n",
    "        print(i)"
   ]
  },
  {
   "cell_type": "code",
   "execution_count": 91,
   "metadata": {},
   "outputs": [
    {
     "name": "stdout",
     "output_type": "stream",
     "text": [
      "{'article': 'apple', 'quantity': 50, 'expiration_date': '2025-01-10', 'consumed_quantity': 0, 'remaining_quantity': 50}\n",
      "{'article': 'apple', 'quantity': 130, 'expiration_date': '2025-01-30', 'consumed_quantity': 30, 'remaining_quantity': 100}\n"
     ]
    }
   ],
   "source": [
    "for k, v in articles.items():\n",
    "    if k == 'apple':\n",
    "        for i in v:\n",
    "            print(i)"
   ]
  },
  {
   "cell_type": "code",
   "execution_count": 101,
   "metadata": {},
   "outputs": [
    {
     "ename": "TypeError",
     "evalue": "list indices must be integers or slices, not str",
     "output_type": "error",
     "traceback": [
      "\u001b[0;31m---------------------------------------------------------------------------\u001b[0m",
      "\u001b[0;31mTypeError\u001b[0m                                 Traceback (most recent call last)",
      "Cell \u001b[0;32mIn[101], line 37\u001b[0m\n\u001b[1;32m     34\u001b[0m \u001b[38;5;28;01mif\u001b[39;00m d[\u001b[38;5;124m'\u001b[39m\u001b[38;5;124marticle\u001b[39m\u001b[38;5;124m'\u001b[39m] \u001b[38;5;129;01min\u001b[39;00m articles:\n\u001b[1;32m     36\u001b[0m     \u001b[38;5;28;01mfor\u001b[39;00m k, v \u001b[38;5;129;01min\u001b[39;00m articles\u001b[38;5;241m.\u001b[39mitems():\n\u001b[0;32m---> 37\u001b[0m         v[\u001b[38;5;124m'\u001b[39m\u001b[38;5;124mconsumed_quantity\u001b[39m\u001b[38;5;124m'\u001b[39m] \u001b[38;5;241m=\u001b[39m \u001b[38;5;241m0\u001b[39m \u001b[38;5;66;03m# initialize the consumed quantity to zero for each line\u001b[39;00m\n\u001b[1;32m     38\u001b[0m         v[\u001b[38;5;124m'\u001b[39m\u001b[38;5;124mremaining_quantity\u001b[39m\u001b[38;5;124m'\u001b[39m] \u001b[38;5;241m=\u001b[39m v[\u001b[38;5;124m'\u001b[39m\u001b[38;5;124mquantity\u001b[39m\u001b[38;5;124m'\u001b[39m]\n\u001b[1;32m     40\u001b[0m         \u001b[38;5;28;01mfor\u001b[39;00m i \u001b[38;5;129;01min\u001b[39;00m v:\n",
      "\u001b[0;31mTypeError\u001b[0m: list indices must be integers or slices, not str"
     ]
    }
   ],
   "source": [
    "# initialize sets\n",
    "demand = [\n",
    "    {\"article\": \"apple\", \"quantity\": 120, \"demand_date\": \"2025-01-12\"},\n",
    "    {\"article\": \"apple\", \"quantity\": 30, \"demand_date\": \"2025-01-15\"}]\n",
    "inventory = [\n",
    "    {\"article\": \"apple\", \"quantity\": 50, \"expiration_date\": \"2025-01-10\"}, \n",
    "    {\"article\": \"apple\", \"quantity\": 130, \"expiration_date\": \"2025-01-30\"}, \n",
    "    {\"article\": \"banana\", \"quantity\": 50, \"expiration_date\": \"2025-01-10\"}]\n",
    "\n",
    "# order by date\n",
    "sortdem = sorted(demand, key=lambda demd: demd['demand_date'])\n",
    "sortinv = sorted(inventory, key=lambda expi: expi['expiration_date'])\n",
    "\n",
    "# copy for tracking\n",
    "import copy\n",
    "calc_inv_date = copy.deepcopy(sortinv)\n",
    "calc_dem_date = copy.deepcopy(sortdem)\n",
    "\n",
    "# process a grouped inventory to run the calculation faster\n",
    "articles = {}\n",
    "for i in calc_inv_date:\n",
    "    if i['article'] not in articles: \n",
    "        articles[i['article']] = []\n",
    "        articles[i['article']].append(i)\n",
    "    else:\n",
    "        articles[i['article']].append(i) \n",
    "\n",
    "\"\"\"here we have to place the search by article in the grouped list, instead of the entire list\"\"\"\n",
    "\n",
    "# Match demand with existing inventory\n",
    "for d in calc_dem_date:\n",
    "    d['consumed_quantity'] = 0 # initialize the consumed quantity to zero for each line\n",
    "    d['unmet_quantity'] = d['quantity']\n",
    "    if d['article'] in articles:\n",
    "        \n",
    "        for k, v in articles.items():\n",
    "            v['consumed_quantity'] = 0 # initialize the consumed quantity to zero for each line\n",
    "            v['remaining_quantity'] = v['quantity']\n",
    "            \n",
    "            for i in v:\n",
    "                \n",
    "\n",
    "                if d['article'] == i['article'] and d['demand_date'] < i['expiration_date']: # if the demand happens prior to the expiration\n",
    "                    if d['quantity'] >= i['quantity']:\n",
    "                        i['consumed_quantity'] += i['quantity'] # move existing qty to consumed\n",
    "                        i['remaining_quantity'] = 0 # reduce to zero \n",
    "                        \n",
    "                        d['consumed_quantity'] += i['quantity'] \n",
    "                        d['unmet_quantity'] -= i['quantity']\n",
    "\n",
    "                    else: # d['quantity'] < i['quantity']\n",
    "                        i['consumed_quantity'] += d['quantity'] # move consumed quantity\n",
    "                        i['remaining_quantity'] -= d['quantity'] \n",
    "                        \n",
    "                        d['consumed_quantity'] = d['quantity']\n",
    "                        d['unmet_quantity'] = 0 \n",
    "\n",
    "\n",
    "\n",
    "\n",
    "\n",
    "\n",
    "\n",
    "import pandas as pd\n",
    "inventory_calc = pd.DataFrame(calc_inv_date)\n",
    "demand_calc = pd.DataFrame(calc_dem_date)\n",
    "display(inventory_calc)\n",
    "display(demand_calc)"
   ]
  },
  {
   "cell_type": "code",
   "execution_count": null,
   "metadata": {},
   "outputs": [],
   "source": []
  }
 ],
 "metadata": {
  "kernelspec": {
   "display_name": "base",
   "language": "python",
   "name": "python3"
  },
  "language_info": {
   "codemirror_mode": {
    "name": "ipython",
    "version": 3
   },
   "file_extension": ".py",
   "mimetype": "text/x-python",
   "name": "python",
   "nbconvert_exporter": "python",
   "pygments_lexer": "ipython3",
   "version": "3.12.7"
  }
 },
 "nbformat": 4,
 "nbformat_minor": 2
}
