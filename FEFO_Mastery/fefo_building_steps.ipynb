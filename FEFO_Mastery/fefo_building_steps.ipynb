{
 "cells": [
  {
   "cell_type": "markdown",
   "metadata": {},
   "source": [
    "# FEFO Mastery\n",
    "Building a fefo calculator from scratch"
   ]
  },
  {
   "cell_type": "markdown",
   "metadata": {},
   "source": [
    "In this Jupyter Notebook we want to write a comprehensive script that allows us to tackle inventory management strategy called FEFO, First Expiry First Out."
   ]
  },
  {
   "cell_type": "markdown",
   "metadata": {},
   "source": [
    "## Dictionaries for Inventory and Demand"
   ]
  },
  {
   "cell_type": "markdown",
   "metadata": {},
   "source": [
    "Let's start with the most basic situation, we have a dictionary of articles and quantities called \"Inventory\" and we want to iterate through it so to print the data it contains"
   ]
  },
  {
   "cell_type": "code",
   "execution_count": null,
   "metadata": {},
   "outputs": [],
   "source": [
    "# Create a variable called `inventory` and store some articles and quantities in it\n",
    "inventory = {\n",
    "    \"apple\": 100,\n",
    "    \"banana\": 50,\n",
    "    \"orange\": 75\n",
    "}\n",
    "# Write a loop to print the article and its quantity.\n",
    "# We'll use the items() method to access the dictionary..\n",
    "for k, v in inventory.items():\n",
    "    print(k, v)\n"
   ]
  },
  {
   "cell_type": "markdown",
   "metadata": {},
   "source": [
    "Now we will build upon the `dictionary` object.\n",
    "Tipically inventory data is stored in relational databases and its format is perfectly represented by that of a `list` of `dictionaries`. Each `dictionary` contains `keys` like 'article' or 'sku_code', 'quantity', 'description' and so on."
   ]
  },
  {
   "cell_type": "code",
   "execution_count": null,
   "metadata": {},
   "outputs": [],
   "source": [
    "# Build a dictionary with three basic data points: 'article', 'quantity' and 'expiration_date'\n",
    "inventory = [\n",
    "    {\"article\": \"apple\", \"quantity\": 100, \"expiration_date\": \"2025-01-15\"},\n",
    "    {\"article\": \"banana\", \"quantity\": 50, \"expiration_date\": \"2025-01-10\"},\n",
    "    {\"article\": \"orange\", \"quantity\": 75, \"expiration_date\": \"2025-01-20\"}\n",
    "]\n",
    "\n",
    "# Learn to iterate through the dictionary accessing each entry or row and thus each `key - value` pair\n",
    "for entry in inventory:\n",
    "    print(f\"{entry['article']}: {entry['quantity']}, expires on {entry['expiration_date']}\")"
   ]
  },
  {
   "cell_type": "markdown",
   "metadata": {},
   "source": [
    "## Sorting List of Dictionaries"
   ]
  },
  {
   "cell_type": "markdown",
   "metadata": {},
   "source": [
    "It is very important at this point that we step out of **Python** and think of the **logic** that we want to implement. Here it goes: \n",
    "1. we want to allocate existing inventory to a demand (we haven't yet dealt with demand, but we'll do so very soon) _in order of expiry date_ \n",
    "2. we want to dinamically return the remaining inventory after it has been allocated and consumed by production"
   ]
  },
  {
   "cell_type": "markdown",
   "metadata": {},
   "source": [
    "Let's tackle 1. Ordering the inventory by expiration date. \n",
    "We will do so by using a lamda function to sort the inventory. We will also assign the sorted inventory to a new variable which will allow us to keep track of all steps of the way."
   ]
  },
  {
   "cell_type": "code",
   "execution_count": null,
   "metadata": {},
   "outputs": [],
   "source": [
    "# Sort Inventory by Expiration Date\n",
    "sortinv = sorted(inventory, key=lambda expi: expi['expiration_date'])\n",
    "\n",
    "print(\"Sorted Inventory: \\n\")\n",
    "for entry in sortinv:\n",
    "    print(f\"{entry['article']}: {entry['quantity']}, expires on {entry['expiration_date']}\")"
   ]
  },
  {
   "cell_type": "markdown",
   "metadata": {},
   "source": [
    "We will now build the demand dataset with a very simple list of two items. \n",
    "We will keep the same exact structure of the Inventory, i.e. a list of dictionaries, with keys 'article', 'quantity' and a date that tells us when the article is needed by production."
   ]
  },
  {
   "cell_type": "code",
   "execution_count": 6,
   "metadata": {},
   "outputs": [],
   "source": [
    "# Build the demand dataset\n",
    "demand = [\n",
    "    {\"article\": \"apple\", \"quantity\": 120, \"demand_date\": \"2025-01-12\"},\n",
    "    {\"article\": \"banana\", \"quantity\": 30, \"demand_date\": \"2025-01-11\"}\n",
    "]"
   ]
  },
  {
   "cell_type": "markdown",
   "metadata": {},
   "source": [
    "We will also want to order the demand by date, this is because we want to allocate the existing inventory to demand that is closer in time - for later demand lines we will have time to purchase more inventory!"
   ]
  },
  {
   "cell_type": "code",
   "execution_count": null,
   "metadata": {},
   "outputs": [],
   "source": [
    "# Sort demand by expiration date\n",
    "sortdem = sorted(demand, key=lambda demd: demd['demand_date'])\n",
    "\n",
    "print(\"Sorted Demand: \\n\")\n",
    "for requir in sortdem:\n",
    "    print(f\"{requir['article']}: {requir['quantity']}, requirement on {requir['demand_date']}\")"
   ]
  },
  {
   "cell_type": "markdown",
   "metadata": {},
   "source": [
    "## A For Loop to Dynamically Allocate Inventory to Demand lines"
   ]
  },
  {
   "cell_type": "markdown",
   "metadata": {},
   "source": [
    "Now that we have both demand and inventory in a good shape, we want to tackle the second problem, i.e. allocating the inventory to the demand and returning the remaining datasets. \n",
    "\n",
    "As this is a dinamic and iterative process we will need to use a for loop. And this procedure will essentially do the following: \n",
    "- for each line of the demand, take the first line of the inventory with corresponding article (of course we fulfill demand with the correct parts)\n",
    "- if the demand is larger than the inventory line, then subtract the inventory and reduce it to zero\n",
    "- - thus search for any other lines in the inventory that can satisfy the remaining demand\n",
    "- if the demand is less than the inventory, then make the demand zero (fulfill the demand) and store the remaining inventory \n",
    "\n",
    "For clarity purposes we will want to delete zero line quantities from the two datasets. \n",
    "Also, as before, for clarity purposes, we keep track of all steps of the way by deep-copying our datasets. "
   ]
  },
  {
   "cell_type": "markdown",
   "metadata": {},
   "source": [
    "### Version 1: The Basic Calculation"
   ]
  },
  {
   "cell_type": "code",
   "execution_count": null,
   "metadata": {},
   "outputs": [],
   "source": [
    "import copy\n",
    "calc_inventory = copy.deepcopy(sortinv)\n",
    "calc_demand = copy.deepcopy(sortdem)\n",
    "\n",
    "# Match demand with existing inventory\n",
    "for d in calc_demand:\n",
    "    for i in calc_inventory:\n",
    "        if i['article'] == d['article']:\n",
    "            if d['quantity'] >= i['quantity']:\n",
    "                d['quantity'] -= i['quantity'] # demand - inventory\n",
    "                i['quantity'] = 0 # thus save the remaining demand\n",
    "            else:\n",
    "                i['quantity'] -= d['quantity'] # inventory - demand\n",
    "                d['quantity'] = 0 # then reduce the demand to zero\n",
    "calc_demand = [d for d in calc_demand if d['quantity'] > 0]\n",
    "calc_inventory = [i for i in calc_inventory if i['quantity'] > 0]\n",
    "# Reproduce the remaining inventory\n",
    "print(\"Remaining inventory:\")\n",
    "for i in calc_inventory:\n",
    "    print(f\"{i['article']}: {i['quantity']}\")\n",
    "# Reproduce the remaining demand\n",
    "print(\"\\nRemaining demand:\")\n",
    "for i in calc_demand:\n",
    "    print(f\"{i['article']}: {i['quantity']}\")"
   ]
  },
  {
   "cell_type": "markdown",
   "metadata": {},
   "source": [
    "### Version 2: Handling Expiring Inventory and Dated Demand"
   ]
  },
  {
   "cell_type": "markdown",
   "metadata": {},
   "source": [
    "Once we have made sure that we are able to capture the real life scenario of allocating ordered inventory to ordered demand, we will tackle the next problem, i.e. checking for the additional condition that the inventory is not expired at the time of demand. Essentially, the case where `inventory['expiration_date'] < demand['demand_date']` represents a case where the is no available inventory. Thus we need to exclude the allocation for that case. "
   ]
  },
  {
   "cell_type": "markdown",
   "metadata": {},
   "source": [
    "We initialize our sets and want to trigger this behaviour: \n",
    "- apples: there is a demand of 120 pieces which cannot be met by the lot expiring on the 10th of January. So that quantity \"remains\" and is not allocated to production. \n",
    "- the 120 demand is satisfied using the second lot, expiring on the 30th of the same month.\n",
    "- however the subsequent demand of 30 pieces falls short of inventory, (only 130 - 120 = 10 pcs are left)"
   ]
  },
  {
   "cell_type": "code",
   "execution_count": 22,
   "metadata": {},
   "outputs": [],
   "source": [
    "# initialize sets\n",
    "demand = [\n",
    "    {\"article\": \"apple\", \"quantity\": 120, \"demand_date\": \"2025-01-12\"},\n",
    "    {\"article\": \"apple\", \"quantity\": 30, \"demand_date\": \"2025-01-15\"}]\n",
    "inventory = [\n",
    "    {\"article\": \"apple\", \"quantity\": 50, \"expiration_date\": \"2025-01-10\"}, \n",
    "    {\"article\": \"apple\", \"quantity\": 130, \"expiration_date\": \"2025-01-30\"}, \n",
    "    {\"article\": \"banana\", \"quantity\": 50, \"expiration_date\": \"2025-01-10\"}]\n",
    "\n",
    "# order by date\n",
    "sortdem = sorted(demand, key=lambda demd: demd['demand_date'])\n",
    "sortinv = sorted(inventory, key=lambda expi: expi['expiration_date'])\n",
    "\n",
    "# copy for tracking\n",
    "calc_inv_date = copy.deepcopy(sortinv)\n",
    "calc_dem_date = copy.deepcopy(sortdem)"
   ]
  },
  {
   "cell_type": "markdown",
   "metadata": {},
   "source": [
    "We add `and d['demand_date'] < i['expiration_date']` to the conditional. This will ensure proper handling of the expiration and demand dates. "
   ]
  },
  {
   "cell_type": "code",
   "execution_count": null,
   "metadata": {},
   "outputs": [],
   "source": [
    "# Match demand with existing inventory\n",
    "for d in calc_dem_date:\n",
    "    for i in calc_inv_date:\n",
    "\n",
    "        if d['article'] == i['article'] and d['demand_date'] < i['expiration_date']: # if the demand happens prior to the expiration\n",
    "            if d['quantity'] >= i['quantity']:\n",
    "                d['quantity'] -= i['quantity'] \n",
    "                i['quantity'] = 0 \n",
    "            else:\n",
    "                i['quantity'] -= d['quantity'] \n",
    "                d['quantity'] = 0 \n",
    "        # in any other case the demand is unmet (and remains) and the inventory is expired (and remains)\n",
    "    \n",
    "# delete zero quanity lines\n",
    "calc_dem_date = [d for d in calc_dem_date if d['quantity'] > 0]\n",
    "calc_inv_date = [i for i in calc_inv_date if i['quantity'] > 0]\n",
    "\n",
    "# Reproduce the remaining inventory\n",
    "print(\"Remaining inventory:\")\n",
    "for i in calc_inv_date:\n",
    "    print(f\"{i['article']}: {i['quantity']}\")\n",
    "# Reproduce the remaining demand\n",
    "print(\"\\nUnmet demand:\")\n",
    "for i in calc_dem_date:\n",
    "    print(f\"{i['article']}: {i['quantity']}\")"
   ]
  },
  {
   "cell_type": "markdown",
   "metadata": {},
   "source": [
    "### Version 3: Tracking the Inventory Changes Before and After the Allocation"
   ]
  },
  {
   "cell_type": "markdown",
   "metadata": {},
   "source": [
    "In the next round of code we are going to build upon the working loop of before. What we want to achieve is more clarity about the starting quantities, the consumed quantities and the remaining quantities for each line of the inventory and each line of the demand sets. \n",
    "\n",
    "1. the first thing we need is to initialize the dictionaries adding to `'quantity'` representing the initial quantity:\n",
    "- demand set: `met_demand` and `unmet_demand`. Since we are _before_ the loop the demand met is 0 and the unmet demand is equal the the demand quantity\n",
    "- inventory set: `remaining_quantity` and `consumed_quantity`. Again, the remaining quantity is the whole, and the consumed is 0, for now. \n",
    "_De facto_ we can think of these as the **dynamic** quantities of the dataset, while the initial quantity as a static amount.\n",
    "\n",
    "2. Now we are ready to enter the loop, therefore, without touching the initial quantities, we are going to increase and decrease only the dynamic quantityes. \n",
    "\n",
    "3. At the end of the loop we will `display` the data with the help of Pandas DataFrames - which help us understand the result visually much better than plain `print` statements."
   ]
  },
  {
   "cell_type": "code",
   "execution_count": 49,
   "metadata": {},
   "outputs": [
    {
     "data": {
      "text/html": [
       "<div>\n",
       "<style scoped>\n",
       "    .dataframe tbody tr th:only-of-type {\n",
       "        vertical-align: middle;\n",
       "    }\n",
       "\n",
       "    .dataframe tbody tr th {\n",
       "        vertical-align: top;\n",
       "    }\n",
       "\n",
       "    .dataframe thead th {\n",
       "        text-align: right;\n",
       "    }\n",
       "</style>\n",
       "<table border=\"1\" class=\"dataframe\">\n",
       "  <thead>\n",
       "    <tr style=\"text-align: right;\">\n",
       "      <th></th>\n",
       "      <th>article</th>\n",
       "      <th>quantity</th>\n",
       "      <th>expiration_date</th>\n",
       "      <th>remaining_quantity</th>\n",
       "      <th>consumed_quantity</th>\n",
       "    </tr>\n",
       "  </thead>\n",
       "  <tbody>\n",
       "    <tr>\n",
       "      <th>0</th>\n",
       "      <td>apple</td>\n",
       "      <td>50</td>\n",
       "      <td>2025-01-10</td>\n",
       "      <td>50</td>\n",
       "      <td>0</td>\n",
       "    </tr>\n",
       "    <tr>\n",
       "      <th>1</th>\n",
       "      <td>banana</td>\n",
       "      <td>50</td>\n",
       "      <td>2025-01-10</td>\n",
       "      <td>50</td>\n",
       "      <td>0</td>\n",
       "    </tr>\n",
       "    <tr>\n",
       "      <th>2</th>\n",
       "      <td>apple</td>\n",
       "      <td>130</td>\n",
       "      <td>2025-01-30</td>\n",
       "      <td>0</td>\n",
       "      <td>130</td>\n",
       "    </tr>\n",
       "  </tbody>\n",
       "</table>\n",
       "</div>"
      ],
      "text/plain": [
       "  article  quantity expiration_date  remaining_quantity  consumed_quantity\n",
       "0   apple        50      2025-01-10                  50                  0\n",
       "1  banana        50      2025-01-10                  50                  0\n",
       "2   apple       130      2025-01-30                   0                130"
      ]
     },
     "metadata": {},
     "output_type": "display_data"
    },
    {
     "data": {
      "text/html": [
       "<div>\n",
       "<style scoped>\n",
       "    .dataframe tbody tr th:only-of-type {\n",
       "        vertical-align: middle;\n",
       "    }\n",
       "\n",
       "    .dataframe tbody tr th {\n",
       "        vertical-align: top;\n",
       "    }\n",
       "\n",
       "    .dataframe thead th {\n",
       "        text-align: right;\n",
       "    }\n",
       "</style>\n",
       "<table border=\"1\" class=\"dataframe\">\n",
       "  <thead>\n",
       "    <tr style=\"text-align: right;\">\n",
       "      <th></th>\n",
       "      <th>article</th>\n",
       "      <th>quantity</th>\n",
       "      <th>demand_date</th>\n",
       "      <th>met_demand</th>\n",
       "      <th>unmet_demand</th>\n",
       "    </tr>\n",
       "  </thead>\n",
       "  <tbody>\n",
       "    <tr>\n",
       "      <th>0</th>\n",
       "      <td>apple</td>\n",
       "      <td>120</td>\n",
       "      <td>2025-01-12</td>\n",
       "      <td>120</td>\n",
       "      <td>0</td>\n",
       "    </tr>\n",
       "    <tr>\n",
       "      <th>1</th>\n",
       "      <td>apple</td>\n",
       "      <td>30</td>\n",
       "      <td>2025-01-15</td>\n",
       "      <td>10</td>\n",
       "      <td>20</td>\n",
       "    </tr>\n",
       "  </tbody>\n",
       "</table>\n",
       "</div>"
      ],
      "text/plain": [
       "  article  quantity demand_date  met_demand  unmet_demand\n",
       "0   apple       120  2025-01-12         120             0\n",
       "1   apple        30  2025-01-15          10            20"
      ]
     },
     "metadata": {},
     "output_type": "display_data"
    }
   ],
   "source": [
    "import pandas as pd\n",
    "# initialize sets\n",
    "demand = [\n",
    "    {\"article\": \"apple\", \"quantity\": 120, \"demand_date\": \"2025-01-12\"},     # met: 120, um: 0\n",
    "    {\"article\": \"apple\", \"quantity\": 30, \"demand_date\": \"2025-01-15\"}]      # met: 10, um: 20\n",
    "inventory = [\n",
    "    {\"article\": \"apple\", \"quantity\": 50, \"expiration_date\": \"2025-01-10\"},  # c: 0, r: 50\n",
    "    {\"article\": \"apple\", \"quantity\": 130, \"expiration_date\": \"2025-01-30\"}, # c: 130, r: 0\n",
    "    {\"article\": \"banana\", \"quantity\": 50, \"expiration_date\": \"2025-01-10\"}] # c: 0, r: 50\n",
    "\n",
    "# order by date\n",
    "sortdem = sorted(demand, key=lambda demd: demd['demand_date'])\n",
    "sortinv = sorted(inventory, key=lambda expi: expi['expiration_date'])\n",
    "\n",
    "# copy for tracking\n",
    "import copy\n",
    "calc_inv_date = copy.deepcopy(sortinv)\n",
    "calc_dem_date = copy.deepcopy(sortdem)\n",
    "\n",
    "# expand sets \n",
    "for i in calc_inv_date:\n",
    "    i['remaining_quantity'] = i['quantity']\n",
    "    i['consumed_quantity'] = 0\n",
    "\n",
    "for d in calc_dem_date:\n",
    "    d['met_demand'] = 0\n",
    "    d['unmet_demand'] = d['quantity']\n",
    "\n",
    "# Match demand to inventory and update the dynamic quantities\n",
    "for d in calc_dem_date:\n",
    "   \n",
    "    for i in calc_inv_date:\n",
    "\n",
    "        if d['article'] == i['article'] and d['demand_date'] < i['expiration_date']: # if the demand happens prior to the expiration\n",
    "            \n",
    "            if d['unmet_demand'] >= i['remaining_quantity']:    # if the unmet > remaining      |   (if d > i)\n",
    "                \n",
    "                d['met_demand'] += i['remaining_quantity']      # d.met quantity -> increase by the remaining\n",
    "                d['unmet_demand'] -= i['remaining_quantity']    # set the unmet demand to zero\n",
    "                i['consumed_quantity'] += i['remaining_quantity']\n",
    "                i['remaining_quantity'] = 0                     # set the remaining to zero (move it to met quantity)\n",
    "                            \n",
    "            else:                                               # if the remaining > unmet      |   (if i > d)\n",
    "                d['met_demand'] += d['unmet_demand']            # demand met is the entire unmet demad\n",
    "                i['remaining_quantity'] -= d['unmet_demand']      # inventory remaining decrease by d.met\n",
    "                i['consumed_quantity'] += d['unmet_demand']       # inventory consumed is decreased by the met demand\n",
    "                d['unmet_demand'] = 0\n",
    "          \n",
    "# Display the result with Pandas\n",
    "import pandas as pd\n",
    "inventory_calc = pd.DataFrame(calc_inv_date)\n",
    "demand_calc = pd.DataFrame(calc_dem_date)\n",
    "display(inventory_calc)\n",
    "display(demand_calc)"
   ]
  },
  {
   "cell_type": "markdown",
   "metadata": {},
   "source": [
    "### Version 4: Optimising the Calculation"
   ]
  },
  {
   "cell_type": "markdown",
   "metadata": {},
   "source": [
    "optimisation of the iterative work: only on the grouped articles"
   ]
  },
  {
   "cell_type": "markdown",
   "metadata": {},
   "source": [
    "now we use the grouped inventory `article` to process the allocation"
   ]
  },
  {
   "cell_type": "code",
   "execution_count": 3,
   "metadata": {},
   "outputs": [
    {
     "data": {
      "text/html": [
       "<div>\n",
       "<style scoped>\n",
       "    .dataframe tbody tr th:only-of-type {\n",
       "        vertical-align: middle;\n",
       "    }\n",
       "\n",
       "    .dataframe tbody tr th {\n",
       "        vertical-align: top;\n",
       "    }\n",
       "\n",
       "    .dataframe thead th {\n",
       "        text-align: right;\n",
       "    }\n",
       "</style>\n",
       "<table border=\"1\" class=\"dataframe\">\n",
       "  <thead>\n",
       "    <tr style=\"text-align: right;\">\n",
       "      <th></th>\n",
       "      <th>article</th>\n",
       "      <th>quantity</th>\n",
       "      <th>expiration_date</th>\n",
       "      <th>remaining_quantity</th>\n",
       "      <th>consumed_quantity</th>\n",
       "    </tr>\n",
       "  </thead>\n",
       "  <tbody>\n",
       "    <tr>\n",
       "      <th>0</th>\n",
       "      <td>kiwi</td>\n",
       "      <td>25</td>\n",
       "      <td>2025-01-03</td>\n",
       "      <td>25</td>\n",
       "      <td>0</td>\n",
       "    </tr>\n",
       "    <tr>\n",
       "      <th>1</th>\n",
       "      <td>pineapple</td>\n",
       "      <td>2</td>\n",
       "      <td>2025-01-03</td>\n",
       "      <td>2</td>\n",
       "      <td>0</td>\n",
       "    </tr>\n",
       "    <tr>\n",
       "      <th>2</th>\n",
       "      <td>apple</td>\n",
       "      <td>50</td>\n",
       "      <td>2025-01-10</td>\n",
       "      <td>50</td>\n",
       "      <td>0</td>\n",
       "    </tr>\n",
       "    <tr>\n",
       "      <th>3</th>\n",
       "      <td>banana</td>\n",
       "      <td>50</td>\n",
       "      <td>2025-01-10</td>\n",
       "      <td>50</td>\n",
       "      <td>0</td>\n",
       "    </tr>\n",
       "    <tr>\n",
       "      <th>4</th>\n",
       "      <td>apple</td>\n",
       "      <td>130</td>\n",
       "      <td>2025-01-30</td>\n",
       "      <td>0</td>\n",
       "      <td>130</td>\n",
       "    </tr>\n",
       "  </tbody>\n",
       "</table>\n",
       "</div>"
      ],
      "text/plain": [
       "     article  quantity expiration_date  remaining_quantity  consumed_quantity\n",
       "0       kiwi        25      2025-01-03                  25                  0\n",
       "1  pineapple         2      2025-01-03                   2                  0\n",
       "2      apple        50      2025-01-10                  50                  0\n",
       "3     banana        50      2025-01-10                  50                  0\n",
       "4      apple       130      2025-01-30                   0                130"
      ]
     },
     "metadata": {},
     "output_type": "display_data"
    },
    {
     "data": {
      "text/html": [
       "<div>\n",
       "<style scoped>\n",
       "    .dataframe tbody tr th:only-of-type {\n",
       "        vertical-align: middle;\n",
       "    }\n",
       "\n",
       "    .dataframe tbody tr th {\n",
       "        vertical-align: top;\n",
       "    }\n",
       "\n",
       "    .dataframe thead th {\n",
       "        text-align: right;\n",
       "    }\n",
       "</style>\n",
       "<table border=\"1\" class=\"dataframe\">\n",
       "  <thead>\n",
       "    <tr style=\"text-align: right;\">\n",
       "      <th></th>\n",
       "      <th>article</th>\n",
       "      <th>quantity</th>\n",
       "      <th>demand_date</th>\n",
       "      <th>met_demand</th>\n",
       "      <th>unmet_demand</th>\n",
       "    </tr>\n",
       "  </thead>\n",
       "  <tbody>\n",
       "    <tr>\n",
       "      <th>0</th>\n",
       "      <td>apple</td>\n",
       "      <td>120</td>\n",
       "      <td>2025-01-12</td>\n",
       "      <td>120</td>\n",
       "      <td>0</td>\n",
       "    </tr>\n",
       "    <tr>\n",
       "      <th>1</th>\n",
       "      <td>apple</td>\n",
       "      <td>30</td>\n",
       "      <td>2025-01-15</td>\n",
       "      <td>10</td>\n",
       "      <td>20</td>\n",
       "    </tr>\n",
       "    <tr>\n",
       "      <th>2</th>\n",
       "      <td>kiwi</td>\n",
       "      <td>30</td>\n",
       "      <td>2025-01-15</td>\n",
       "      <td>0</td>\n",
       "      <td>30</td>\n",
       "    </tr>\n",
       "  </tbody>\n",
       "</table>\n",
       "</div>"
      ],
      "text/plain": [
       "  article  quantity demand_date  met_demand  unmet_demand\n",
       "0   apple       120  2025-01-12         120             0\n",
       "1   apple        30  2025-01-15          10            20\n",
       "2    kiwi        30  2025-01-15           0            30"
      ]
     },
     "metadata": {},
     "output_type": "display_data"
    }
   ],
   "source": [
    "import pandas as pd\n",
    "# initialize sets\n",
    "demand = [\n",
    "    {\"article\": \"apple\", \"quantity\": 120, \"demand_date\": \"2025-01-12\"},     # met: 120, um: 0\n",
    "    {\"article\": \"apple\", \"quantity\": 30, \"demand_date\": \"2025-01-15\"},      # met: 10, um: 20\n",
    "    {\"article\": \"kiwi\", \"quantity\": 30, \"demand_date\": \"2025-01-15\"}]\n",
    "inventory = [\n",
    "    {\"article\": \"apple\", \"quantity\": 50, \"expiration_date\": \"2025-01-10\"},  # c: 0, r: 50\n",
    "    {\"article\": \"apple\", \"quantity\": 130, \"expiration_date\": \"2025-01-30\"}, # c: 130, r: 0\n",
    "    {\"article\": \"banana\", \"quantity\": 50, \"expiration_date\": \"2025-01-10\"}, # c: 0, r: 50\n",
    "    {\"article\": \"kiwi\", \"quantity\": 25, \"expiration_date\": \"2025-01-03\"},\n",
    "    {\"article\": \"pineapple\", \"quantity\": 2, \"expiration_date\": \"2025-01-03\"},]\n",
    "\n",
    "# order by date\n",
    "sortdem = sorted(demand, key=lambda demd: demd['demand_date'])\n",
    "sortinv = sorted(inventory, key=lambda expi: expi['expiration_date'])\n",
    "\n",
    "# copy for tracking\n",
    "import copy\n",
    "calc_inv_date = copy.deepcopy(sortinv)\n",
    "calc_dem_date = copy.deepcopy(sortdem)\n",
    "\n",
    "# expand sets \n",
    "for i in calc_inv_date:\n",
    "    i['remaining_quantity'] = i['quantity']\n",
    "    i['consumed_quantity'] = 0\n",
    "\n",
    "for d in calc_dem_date:\n",
    "    d['met_demand'] = 0\n",
    "    d['unmet_demand'] = d['quantity']\n",
    "\n",
    "# Create a dictionary of inventory skus\n",
    "articles = {}\n",
    "for item in calc_inv_date:\n",
    "    sku = item['article']\n",
    "    if sku not in articles: \n",
    "        articles[sku] = []              # add the sku and assign it an empty list\n",
    "        articles[sku].append(item)         # append the row to the list within the sku key\n",
    "    else:\n",
    "        articles[sku].append(item)         # append as before\n",
    "\n",
    "# Match demand to inventory and update the dynamic quantities\n",
    "# pull from articles\n",
    "for d in calc_dem_date:\n",
    "    if d['article'] in articles:\n",
    "\n",
    "        for i in articles[d['article']]:\n",
    "            if d['demand_date'] < i['expiration_date']:\n",
    "                \n",
    "                if d['unmet_demand'] >= i['remaining_quantity']:    # if the unmet > remaining      |   (if d > i)\n",
    "                    \n",
    "                    d['met_demand'] += i['remaining_quantity']\n",
    "                    d['unmet_demand'] -= i['remaining_quantity']\n",
    "                    i['consumed_quantity'] += i['remaining_quantity']\n",
    "                    i['remaining_quantity'] = 0\n",
    "                                \n",
    "                else:                                               # if the remaining > unmet      |   (if i > d)\n",
    "                    d['met_demand'] += d['unmet_demand']\n",
    "                    i['remaining_quantity'] -= d['unmet_demand']\n",
    "                    i['consumed_quantity'] += d['unmet_demand']\n",
    "                    d['unmet_demand'] = 0\n",
    "            \n",
    "import pandas as pd\n",
    "inventory_calc = pd.DataFrame(calc_inv_date)\n",
    "demand_calc = pd.DataFrame(calc_dem_date)\n",
    "display(inventory_calc)\n",
    "display(demand_calc)"
   ]
  },
  {
   "cell_type": "markdown",
   "metadata": {},
   "source": [
    "### Speed test\n",
    "Let's now create large datasets to test the speed of each loop and compare them."
   ]
  },
  {
   "cell_type": "markdown",
   "metadata": {},
   "source": [
    "For simplicity, we are going to store 4 functions in the python file called `utils.py`:\n",
    "1. the slow function with name `fefo_calc_opt`.\n",
    "2. the optimised function with name `fefo_calc_slo`\n",
    "3. `gen_inventory` a generator of random inventory lines that takes two arguments: `number_of_lines` and `range` for the randint method\n",
    "4. `gen_demand` a generator of random demand, also with a parameter for `number_of_lines` and one for the `range`."
   ]
  },
  {
   "cell_type": "markdown",
   "metadata": {},
   "source": [
    "if you would like to see all these functions, feel free to take a look at the utils.py. But here We want to concentrate on the speed of the two models. "
   ]
  },
  {
   "cell_type": "markdown",
   "metadata": {},
   "source": [
    "Let's import the functions, generate **large** datasets"
   ]
  },
  {
   "cell_type": "code",
   "execution_count": 17,
   "metadata": {},
   "outputs": [],
   "source": [
    "# import the 4 functions\n",
    "from utils import gen_inventory, gen_demand, fefo_calc_opt, fefo_calc_slo\n",
    "random_inventory = gen_inventory(100_000,1_000) # 100k lines and 1k random codes in total\n",
    "random_demand = gen_demand(50_000,1_000) # 50K lines of demand with the same 1k random codes"
   ]
  },
  {
   "cell_type": "code",
   "execution_count": 19,
   "metadata": {},
   "outputs": [
    {
     "data": {
      "text/html": [
       "<div>\n",
       "<style scoped>\n",
       "    .dataframe tbody tr th:only-of-type {\n",
       "        vertical-align: middle;\n",
       "    }\n",
       "\n",
       "    .dataframe tbody tr th {\n",
       "        vertical-align: top;\n",
       "    }\n",
       "\n",
       "    .dataframe thead th {\n",
       "        text-align: right;\n",
       "    }\n",
       "</style>\n",
       "<table border=\"1\" class=\"dataframe\">\n",
       "  <thead>\n",
       "    <tr style=\"text-align: right;\">\n",
       "      <th></th>\n",
       "      <th>article</th>\n",
       "      <th>quantity</th>\n",
       "      <th>expiration_date</th>\n",
       "      <th>remaining_quantity</th>\n",
       "      <th>consumed_quantity</th>\n",
       "    </tr>\n",
       "  </thead>\n",
       "  <tbody>\n",
       "    <tr>\n",
       "      <th>0</th>\n",
       "      <td>a124</td>\n",
       "      <td>88513</td>\n",
       "      <td>2025-01-02</td>\n",
       "      <td>88513</td>\n",
       "      <td>0</td>\n",
       "    </tr>\n",
       "    <tr>\n",
       "      <th>1</th>\n",
       "      <td>a6</td>\n",
       "      <td>15650</td>\n",
       "      <td>2025-01-02</td>\n",
       "      <td>15650</td>\n",
       "      <td>0</td>\n",
       "    </tr>\n",
       "    <tr>\n",
       "      <th>2</th>\n",
       "      <td>a774</td>\n",
       "      <td>28529</td>\n",
       "      <td>2025-01-02</td>\n",
       "      <td>28529</td>\n",
       "      <td>0</td>\n",
       "    </tr>\n",
       "    <tr>\n",
       "      <th>3</th>\n",
       "      <td>a714</td>\n",
       "      <td>12502</td>\n",
       "      <td>2025-01-02</td>\n",
       "      <td>12502</td>\n",
       "      <td>0</td>\n",
       "    </tr>\n",
       "    <tr>\n",
       "      <th>4</th>\n",
       "      <td>a202</td>\n",
       "      <td>16468</td>\n",
       "      <td>2025-01-02</td>\n",
       "      <td>16468</td>\n",
       "      <td>0</td>\n",
       "    </tr>\n",
       "    <tr>\n",
       "      <th>...</th>\n",
       "      <td>...</td>\n",
       "      <td>...</td>\n",
       "      <td>...</td>\n",
       "      <td>...</td>\n",
       "      <td>...</td>\n",
       "    </tr>\n",
       "    <tr>\n",
       "      <th>99995</th>\n",
       "      <td>a352</td>\n",
       "      <td>19933</td>\n",
       "      <td>2026-01-02</td>\n",
       "      <td>19933</td>\n",
       "      <td>0</td>\n",
       "    </tr>\n",
       "    <tr>\n",
       "      <th>99996</th>\n",
       "      <td>a404</td>\n",
       "      <td>50329</td>\n",
       "      <td>2026-01-02</td>\n",
       "      <td>50329</td>\n",
       "      <td>0</td>\n",
       "    </tr>\n",
       "    <tr>\n",
       "      <th>99997</th>\n",
       "      <td>a728</td>\n",
       "      <td>63882</td>\n",
       "      <td>2026-01-02</td>\n",
       "      <td>33671</td>\n",
       "      <td>30211</td>\n",
       "    </tr>\n",
       "    <tr>\n",
       "      <th>99998</th>\n",
       "      <td>a521</td>\n",
       "      <td>28432</td>\n",
       "      <td>2026-01-02</td>\n",
       "      <td>0</td>\n",
       "      <td>28432</td>\n",
       "    </tr>\n",
       "    <tr>\n",
       "      <th>99999</th>\n",
       "      <td>a452</td>\n",
       "      <td>85216</td>\n",
       "      <td>2026-01-02</td>\n",
       "      <td>28001</td>\n",
       "      <td>57215</td>\n",
       "    </tr>\n",
       "  </tbody>\n",
       "</table>\n",
       "<p>100000 rows × 5 columns</p>\n",
       "</div>"
      ],
      "text/plain": [
       "      article  quantity expiration_date  remaining_quantity  consumed_quantity\n",
       "0        a124     88513      2025-01-02               88513                  0\n",
       "1          a6     15650      2025-01-02               15650                  0\n",
       "2        a774     28529      2025-01-02               28529                  0\n",
       "3        a714     12502      2025-01-02               12502                  0\n",
       "4        a202     16468      2025-01-02               16468                  0\n",
       "...       ...       ...             ...                 ...                ...\n",
       "99995    a352     19933      2026-01-02               19933                  0\n",
       "99996    a404     50329      2026-01-02               50329                  0\n",
       "99997    a728     63882      2026-01-02               33671              30211\n",
       "99998    a521     28432      2026-01-02                   0              28432\n",
       "99999    a452     85216      2026-01-02               28001              57215\n",
       "\n",
       "[100000 rows x 5 columns]"
      ]
     },
     "execution_count": 19,
     "metadata": {},
     "output_type": "execute_result"
    }
   ],
   "source": [
    "# run the first model. \n",
    "fefo_calc_opt(random_demand, random_inventory) # 100K inventory and 50K demand lines -> 0.9 seconds"
   ]
  },
  {
   "cell_type": "code",
   "execution_count": 20,
   "metadata": {},
   "outputs": [
    {
     "data": {
      "text/html": [
       "<div>\n",
       "<style scoped>\n",
       "    .dataframe tbody tr th:only-of-type {\n",
       "        vertical-align: middle;\n",
       "    }\n",
       "\n",
       "    .dataframe tbody tr th {\n",
       "        vertical-align: top;\n",
       "    }\n",
       "\n",
       "    .dataframe thead th {\n",
       "        text-align: right;\n",
       "    }\n",
       "</style>\n",
       "<table border=\"1\" class=\"dataframe\">\n",
       "  <thead>\n",
       "    <tr style=\"text-align: right;\">\n",
       "      <th></th>\n",
       "      <th>article</th>\n",
       "      <th>quantity</th>\n",
       "      <th>expiration_date</th>\n",
       "      <th>remaining_quantity</th>\n",
       "      <th>consumed_quantity</th>\n",
       "    </tr>\n",
       "  </thead>\n",
       "  <tbody>\n",
       "    <tr>\n",
       "      <th>0</th>\n",
       "      <td>a124</td>\n",
       "      <td>88513</td>\n",
       "      <td>2025-01-02</td>\n",
       "      <td>88513</td>\n",
       "      <td>0</td>\n",
       "    </tr>\n",
       "    <tr>\n",
       "      <th>1</th>\n",
       "      <td>a6</td>\n",
       "      <td>15650</td>\n",
       "      <td>2025-01-02</td>\n",
       "      <td>15650</td>\n",
       "      <td>0</td>\n",
       "    </tr>\n",
       "    <tr>\n",
       "      <th>2</th>\n",
       "      <td>a774</td>\n",
       "      <td>28529</td>\n",
       "      <td>2025-01-02</td>\n",
       "      <td>28529</td>\n",
       "      <td>0</td>\n",
       "    </tr>\n",
       "    <tr>\n",
       "      <th>3</th>\n",
       "      <td>a714</td>\n",
       "      <td>12502</td>\n",
       "      <td>2025-01-02</td>\n",
       "      <td>12502</td>\n",
       "      <td>0</td>\n",
       "    </tr>\n",
       "    <tr>\n",
       "      <th>4</th>\n",
       "      <td>a202</td>\n",
       "      <td>16468</td>\n",
       "      <td>2025-01-02</td>\n",
       "      <td>16468</td>\n",
       "      <td>0</td>\n",
       "    </tr>\n",
       "    <tr>\n",
       "      <th>...</th>\n",
       "      <td>...</td>\n",
       "      <td>...</td>\n",
       "      <td>...</td>\n",
       "      <td>...</td>\n",
       "      <td>...</td>\n",
       "    </tr>\n",
       "    <tr>\n",
       "      <th>99995</th>\n",
       "      <td>a352</td>\n",
       "      <td>19933</td>\n",
       "      <td>2026-01-02</td>\n",
       "      <td>19933</td>\n",
       "      <td>0</td>\n",
       "    </tr>\n",
       "    <tr>\n",
       "      <th>99996</th>\n",
       "      <td>a404</td>\n",
       "      <td>50329</td>\n",
       "      <td>2026-01-02</td>\n",
       "      <td>50329</td>\n",
       "      <td>0</td>\n",
       "    </tr>\n",
       "    <tr>\n",
       "      <th>99997</th>\n",
       "      <td>a728</td>\n",
       "      <td>63882</td>\n",
       "      <td>2026-01-02</td>\n",
       "      <td>33671</td>\n",
       "      <td>30211</td>\n",
       "    </tr>\n",
       "    <tr>\n",
       "      <th>99998</th>\n",
       "      <td>a521</td>\n",
       "      <td>28432</td>\n",
       "      <td>2026-01-02</td>\n",
       "      <td>0</td>\n",
       "      <td>28432</td>\n",
       "    </tr>\n",
       "    <tr>\n",
       "      <th>99999</th>\n",
       "      <td>a452</td>\n",
       "      <td>85216</td>\n",
       "      <td>2026-01-02</td>\n",
       "      <td>28001</td>\n",
       "      <td>57215</td>\n",
       "    </tr>\n",
       "  </tbody>\n",
       "</table>\n",
       "<p>100000 rows × 5 columns</p>\n",
       "</div>"
      ],
      "text/plain": [
       "      article  quantity expiration_date  remaining_quantity  consumed_quantity\n",
       "0        a124     88513      2025-01-02               88513                  0\n",
       "1          a6     15650      2025-01-02               15650                  0\n",
       "2        a774     28529      2025-01-02               28529                  0\n",
       "3        a714     12502      2025-01-02               12502                  0\n",
       "4        a202     16468      2025-01-02               16468                  0\n",
       "...       ...       ...             ...                 ...                ...\n",
       "99995    a352     19933      2026-01-02               19933                  0\n",
       "99996    a404     50329      2026-01-02               50329                  0\n",
       "99997    a728     63882      2026-01-02               33671              30211\n",
       "99998    a521     28432      2026-01-02                   0              28432\n",
       "99999    a452     85216      2026-01-02               28001              57215\n",
       "\n",
       "[100000 rows x 5 columns]"
      ]
     },
     "execution_count": 20,
     "metadata": {},
     "output_type": "execute_result"
    }
   ],
   "source": [
    "# run the second model\n",
    "fefo_calc_slo(random_demand, random_inventory) # 100K inventory and 50K demand lines -> 4 minutes and 28 seconds"
   ]
  },
  {
   "cell_type": "markdown",
   "metadata": {},
   "source": [
    "## Building Sets to Test all Cases"
   ]
  },
  {
   "cell_type": "code",
   "execution_count": null,
   "metadata": {},
   "outputs": [],
   "source": []
  }
 ],
 "metadata": {
  "kernelspec": {
   "display_name": "base",
   "language": "python",
   "name": "python3"
  },
  "language_info": {
   "codemirror_mode": {
    "name": "ipython",
    "version": 3
   },
   "file_extension": ".py",
   "mimetype": "text/x-python",
   "name": "python",
   "nbconvert_exporter": "python",
   "pygments_lexer": "ipython3",
   "version": "3.12.7"
  }
 },
 "nbformat": 4,
 "nbformat_minor": 2
}
